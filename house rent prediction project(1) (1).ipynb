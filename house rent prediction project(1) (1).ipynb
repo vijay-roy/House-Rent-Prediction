{
 "cells": [
  {
   "cell_type": "code",
   "execution_count": 1,
   "id": "a9de8080",
   "metadata": {},
   "outputs": [],
   "source": [
    "import numpy as np\n",
    "import pandas as pd\n",
    "import matplotlib.pyplot as plt\n",
    "import seaborn as sns\n",
    "import warnings\n",
    "warnings.filterwarnings(\"ignore\")"
   ]
  },
  {
   "cell_type": "code",
   "execution_count": 2,
   "id": "d0e3aa99",
   "metadata": {},
   "outputs": [],
   "source": [
    "nd=pd.read_csv(\"99acres.csv\")"
   ]
  },
  {
   "cell_type": "markdown",
   "id": "920bbb15",
   "metadata": {},
   "source": [
    "## Carpet Area:\n",
    "- Carpet area is the net usable area in the flat excluding the area coverd by the internal partition walls of the apartement.\n",
    "\n",
    "## Built-Up Area:\n",
    "- Built-up area is the carpet area,plus the space taken by the walls,it also includes usual area.\n",
    "\n",
    "## Super built-up Area:\n",
    "- Super built_up Area  of the property, along with the proportinate area of the common facilities in the house including lobby,liftshafts,the stairs,the swimming pool,the garden and club house etc"
   ]
  },
  {
   "cell_type": "markdown",
   "id": "7a051b95",
   "metadata": {},
   "source": [
    "## Target variable:\n",
    "- Here the target variable is Rent.\n"
   ]
  },
  {
   "cell_type": "code",
   "execution_count": 3,
   "id": "43dec067",
   "metadata": {},
   "outputs": [
    {
     "data": {
      "text/html": [
       "<div>\n",
       "<style scoped>\n",
       "    .dataframe tbody tr th:only-of-type {\n",
       "        vertical-align: middle;\n",
       "    }\n",
       "\n",
       "    .dataframe tbody tr th {\n",
       "        vertical-align: top;\n",
       "    }\n",
       "\n",
       "    .dataframe thead th {\n",
       "        text-align: right;\n",
       "    }\n",
       "</style>\n",
       "<table border=\"1\" class=\"dataframe\">\n",
       "  <thead>\n",
       "    <tr style=\"text-align: right;\">\n",
       "      <th></th>\n",
       "      <th>apt_rent_month</th>\n",
       "      <th>BHK</th>\n",
       "      <th>sq_ft</th>\n",
       "      <th>description</th>\n",
       "      <th>city</th>\n",
       "    </tr>\n",
       "  </thead>\n",
       "  <tbody>\n",
       "    <tr>\n",
       "      <th>0</th>\n",
       "      <td>₹ 17,500 /month\\nDeposit ₹ 75000</td>\n",
       "      <td>1 BHK\\n2 Baths</td>\n",
       "      <td>470 sq.ft.\\n(44 sq.m.) Carpet Area</td>\n",
       "      <td>1 BHK Residential Apartment for rent in Kolshe...</td>\n",
       "      <td>mumbai</td>\n",
       "    </tr>\n",
       "    <tr>\n",
       "      <th>1</th>\n",
       "      <td>₹ 75,000 /month\\nDeposit ₹ 400000</td>\n",
       "      <td>3 BHK\\n3 Baths</td>\n",
       "      <td>1,800 sq.ft.\\n(167 sq.m.) Super built-up Area</td>\n",
       "      <td>3 BHK Residential Apartment for rent in Sector...</td>\n",
       "      <td>mumbai</td>\n",
       "    </tr>\n",
       "    <tr>\n",
       "      <th>2</th>\n",
       "      <td>₹ 60,000 /month\\nDeposit ₹ 200000</td>\n",
       "      <td>2 BHK\\n2 Baths</td>\n",
       "      <td>950 sq.ft.\\n(88 sq.m.) Super built-up Area</td>\n",
       "      <td>2 BHK Residential Apartment for rent in Wadala</td>\n",
       "      <td>mumbai</td>\n",
       "    </tr>\n",
       "    <tr>\n",
       "      <th>3</th>\n",
       "      <td>₹ 52,000 /month\\nDeposit ₹ 300000</td>\n",
       "      <td>3 BHK\\n3 Baths</td>\n",
       "      <td>1,300 sq.ft.\\n(121 sq.m.) Carpet Area</td>\n",
       "      <td>3 BHK Residential Apartment for rent in Hirana...</td>\n",
       "      <td>mumbai</td>\n",
       "    </tr>\n",
       "    <tr>\n",
       "      <th>4</th>\n",
       "      <td>₹ 30,000 /month\\nDeposit ₹ 150000</td>\n",
       "      <td>1 BHK\\n1 Bath</td>\n",
       "      <td>550 sq.ft.\\n(51 sq.m.) Built-up Area</td>\n",
       "      <td>1 BHK Residential Apartment for rent in Kanjur...</td>\n",
       "      <td>mumbai</td>\n",
       "    </tr>\n",
       "    <tr>\n",
       "      <th>...</th>\n",
       "      <td>...</td>\n",
       "      <td>...</td>\n",
       "      <td>...</td>\n",
       "      <td>...</td>\n",
       "      <td>...</td>\n",
       "    </tr>\n",
       "    <tr>\n",
       "      <th>165416</th>\n",
       "      <td>₹ 10,000 /month\\nDeposit ₹ 25000</td>\n",
       "      <td>2 BHK\\n3 Baths</td>\n",
       "      <td>1,200 sq.ft.\\n(111 sq.m.) Built-up Area</td>\n",
       "      <td>2 BHK Independent Builder Floor for rent in An...</td>\n",
       "      <td>Trivandraum</td>\n",
       "    </tr>\n",
       "    <tr>\n",
       "      <th>165417</th>\n",
       "      <td>₹ 21,000 /month\\nDeposit ₹ 50000</td>\n",
       "      <td>2 BHK\\n2 Baths</td>\n",
       "      <td>1,155 sq.ft.\\n(107 sq.m.) Carpet Area</td>\n",
       "      <td>2 BHK Residential Apartment for rent in Kazhak...</td>\n",
       "      <td>Trivandraum</td>\n",
       "    </tr>\n",
       "    <tr>\n",
       "      <th>165418</th>\n",
       "      <td>₹ 10,000 /month\\nDeposit ₹ 30000</td>\n",
       "      <td>2 BHK\\n2 Baths</td>\n",
       "      <td>861 sq.ft.\\n(80 sq.m.) Built-up Area</td>\n",
       "      <td>2 BHK Residential Apartment for rent in Vattiy...</td>\n",
       "      <td>Trivandraum</td>\n",
       "    </tr>\n",
       "    <tr>\n",
       "      <th>165419</th>\n",
       "      <td>₹ 33,000 /month\\nDeposit ₹ 150000</td>\n",
       "      <td>4 BHK\\n5 Baths</td>\n",
       "      <td>3,200 sq.ft.\\n(297 sq.m.) Plot Area</td>\n",
       "      <td>4 Bedroom Independent House for rent in Pattom</td>\n",
       "      <td>Trivandraum</td>\n",
       "    </tr>\n",
       "    <tr>\n",
       "      <th>165420</th>\n",
       "      <td>₹ 8,000 /month\\nDeposit 3 month(s) rent</td>\n",
       "      <td>4 BHK\\n5 Baths</td>\n",
       "      <td>2,178 sq.ft.\\n(202 sq.m.) Plot Area</td>\n",
       "      <td>4 Bedroom Independent House for rent in Kallam...</td>\n",
       "      <td>Trivandraum</td>\n",
       "    </tr>\n",
       "  </tbody>\n",
       "</table>\n",
       "<p>165421 rows × 5 columns</p>\n",
       "</div>"
      ],
      "text/plain": [
       "                                 apt_rent_month             BHK  \\\n",
       "0              ₹ 17,500 /month\\nDeposit ₹ 75000  1 BHK\\n2 Baths   \n",
       "1             ₹ 75,000 /month\\nDeposit ₹ 400000  3 BHK\\n3 Baths   \n",
       "2             ₹ 60,000 /month\\nDeposit ₹ 200000  2 BHK\\n2 Baths   \n",
       "3             ₹ 52,000 /month\\nDeposit ₹ 300000  3 BHK\\n3 Baths   \n",
       "4             ₹ 30,000 /month\\nDeposit ₹ 150000   1 BHK\\n1 Bath   \n",
       "...                                         ...             ...   \n",
       "165416         ₹ 10,000 /month\\nDeposit ₹ 25000  2 BHK\\n3 Baths   \n",
       "165417         ₹ 21,000 /month\\nDeposit ₹ 50000  2 BHK\\n2 Baths   \n",
       "165418         ₹ 10,000 /month\\nDeposit ₹ 30000  2 BHK\\n2 Baths   \n",
       "165419        ₹ 33,000 /month\\nDeposit ₹ 150000  4 BHK\\n5 Baths   \n",
       "165420  ₹ 8,000 /month\\nDeposit 3 month(s) rent  4 BHK\\n5 Baths   \n",
       "\n",
       "                                                sq_ft  \\\n",
       "0                  470 sq.ft.\\n(44 sq.m.) Carpet Area   \n",
       "1       1,800 sq.ft.\\n(167 sq.m.) Super built-up Area   \n",
       "2          950 sq.ft.\\n(88 sq.m.) Super built-up Area   \n",
       "3               1,300 sq.ft.\\n(121 sq.m.) Carpet Area   \n",
       "4                550 sq.ft.\\n(51 sq.m.) Built-up Area   \n",
       "...                                               ...   \n",
       "165416        1,200 sq.ft.\\n(111 sq.m.) Built-up Area   \n",
       "165417          1,155 sq.ft.\\n(107 sq.m.) Carpet Area   \n",
       "165418           861 sq.ft.\\n(80 sq.m.) Built-up Area   \n",
       "165419            3,200 sq.ft.\\n(297 sq.m.) Plot Area   \n",
       "165420            2,178 sq.ft.\\n(202 sq.m.) Plot Area   \n",
       "\n",
       "                                              description         city  \n",
       "0       1 BHK Residential Apartment for rent in Kolshe...       mumbai  \n",
       "1       3 BHK Residential Apartment for rent in Sector...       mumbai  \n",
       "2          2 BHK Residential Apartment for rent in Wadala       mumbai  \n",
       "3       3 BHK Residential Apartment for rent in Hirana...       mumbai  \n",
       "4       1 BHK Residential Apartment for rent in Kanjur...       mumbai  \n",
       "...                                                   ...          ...  \n",
       "165416  2 BHK Independent Builder Floor for rent in An...  Trivandraum  \n",
       "165417  2 BHK Residential Apartment for rent in Kazhak...  Trivandraum  \n",
       "165418  2 BHK Residential Apartment for rent in Vattiy...  Trivandraum  \n",
       "165419     4 Bedroom Independent House for rent in Pattom  Trivandraum  \n",
       "165420  4 Bedroom Independent House for rent in Kallam...  Trivandraum  \n",
       "\n",
       "[165421 rows x 5 columns]"
      ]
     },
     "execution_count": 3,
     "metadata": {},
     "output_type": "execute_result"
    }
   ],
   "source": [
    "nd"
   ]
  },
  {
   "cell_type": "code",
   "execution_count": 4,
   "id": "54f667b4",
   "metadata": {},
   "outputs": [],
   "source": [
    "#Understanding the data"
   ]
  },
  {
   "cell_type": "markdown",
   "id": "5a0e792c",
   "metadata": {},
   "source": [
    "## According to internet sources the factors effecting the rents are:\n",
    "- No of bedrooms\n",
    "- No of bathrooms\n",
    "- sqr_ft\n",
    "- location\n",
    "- area"
   ]
  },
  {
   "cell_type": "code",
   "execution_count": 5,
   "id": "71a5c5fe",
   "metadata": {},
   "outputs": [
    {
     "data": {
      "text/html": [
       "<div>\n",
       "<style scoped>\n",
       "    .dataframe tbody tr th:only-of-type {\n",
       "        vertical-align: middle;\n",
       "    }\n",
       "\n",
       "    .dataframe tbody tr th {\n",
       "        vertical-align: top;\n",
       "    }\n",
       "\n",
       "    .dataframe thead th {\n",
       "        text-align: right;\n",
       "    }\n",
       "</style>\n",
       "<table border=\"1\" class=\"dataframe\">\n",
       "  <thead>\n",
       "    <tr style=\"text-align: right;\">\n",
       "      <th></th>\n",
       "      <th>apt_rent_month</th>\n",
       "      <th>BHK</th>\n",
       "      <th>sq_ft</th>\n",
       "      <th>description</th>\n",
       "      <th>city</th>\n",
       "    </tr>\n",
       "  </thead>\n",
       "  <tbody>\n",
       "    <tr>\n",
       "      <th>0</th>\n",
       "      <td>₹ 17,500 /month\\nDeposit ₹ 75000</td>\n",
       "      <td>1 BHK\\n2 Baths</td>\n",
       "      <td>470 sq.ft.\\n(44 sq.m.) Carpet Area</td>\n",
       "      <td>1 BHK Residential Apartment for rent in Kolshe...</td>\n",
       "      <td>mumbai</td>\n",
       "    </tr>\n",
       "    <tr>\n",
       "      <th>1</th>\n",
       "      <td>₹ 75,000 /month\\nDeposit ₹ 400000</td>\n",
       "      <td>3 BHK\\n3 Baths</td>\n",
       "      <td>1,800 sq.ft.\\n(167 sq.m.) Super built-up Area</td>\n",
       "      <td>3 BHK Residential Apartment for rent in Sector...</td>\n",
       "      <td>mumbai</td>\n",
       "    </tr>\n",
       "    <tr>\n",
       "      <th>2</th>\n",
       "      <td>₹ 60,000 /month\\nDeposit ₹ 200000</td>\n",
       "      <td>2 BHK\\n2 Baths</td>\n",
       "      <td>950 sq.ft.\\n(88 sq.m.) Super built-up Area</td>\n",
       "      <td>2 BHK Residential Apartment for rent in Wadala</td>\n",
       "      <td>mumbai</td>\n",
       "    </tr>\n",
       "    <tr>\n",
       "      <th>3</th>\n",
       "      <td>₹ 52,000 /month\\nDeposit ₹ 300000</td>\n",
       "      <td>3 BHK\\n3 Baths</td>\n",
       "      <td>1,300 sq.ft.\\n(121 sq.m.) Carpet Area</td>\n",
       "      <td>3 BHK Residential Apartment for rent in Hirana...</td>\n",
       "      <td>mumbai</td>\n",
       "    </tr>\n",
       "    <tr>\n",
       "      <th>4</th>\n",
       "      <td>₹ 30,000 /month\\nDeposit ₹ 150000</td>\n",
       "      <td>1 BHK\\n1 Bath</td>\n",
       "      <td>550 sq.ft.\\n(51 sq.m.) Built-up Area</td>\n",
       "      <td>1 BHK Residential Apartment for rent in Kanjur...</td>\n",
       "      <td>mumbai</td>\n",
       "    </tr>\n",
       "  </tbody>\n",
       "</table>\n",
       "</div>"
      ],
      "text/plain": [
       "                      apt_rent_month             BHK  \\\n",
       "0   ₹ 17,500 /month\\nDeposit ₹ 75000  1 BHK\\n2 Baths   \n",
       "1  ₹ 75,000 /month\\nDeposit ₹ 400000  3 BHK\\n3 Baths   \n",
       "2  ₹ 60,000 /month\\nDeposit ₹ 200000  2 BHK\\n2 Baths   \n",
       "3  ₹ 52,000 /month\\nDeposit ₹ 300000  3 BHK\\n3 Baths   \n",
       "4  ₹ 30,000 /month\\nDeposit ₹ 150000   1 BHK\\n1 Bath   \n",
       "\n",
       "                                           sq_ft  \\\n",
       "0             470 sq.ft.\\n(44 sq.m.) Carpet Area   \n",
       "1  1,800 sq.ft.\\n(167 sq.m.) Super built-up Area   \n",
       "2     950 sq.ft.\\n(88 sq.m.) Super built-up Area   \n",
       "3          1,300 sq.ft.\\n(121 sq.m.) Carpet Area   \n",
       "4           550 sq.ft.\\n(51 sq.m.) Built-up Area   \n",
       "\n",
       "                                         description    city  \n",
       "0  1 BHK Residential Apartment for rent in Kolshe...  mumbai  \n",
       "1  3 BHK Residential Apartment for rent in Sector...  mumbai  \n",
       "2     2 BHK Residential Apartment for rent in Wadala  mumbai  \n",
       "3  3 BHK Residential Apartment for rent in Hirana...  mumbai  \n",
       "4  1 BHK Residential Apartment for rent in Kanjur...  mumbai  "
      ]
     },
     "execution_count": 5,
     "metadata": {},
     "output_type": "execute_result"
    }
   ],
   "source": [
    "nd.head()"
   ]
  },
  {
   "cell_type": "code",
   "execution_count": 6,
   "id": "510bf8c4",
   "metadata": {},
   "outputs": [
    {
     "data": {
      "text/html": [
       "<div>\n",
       "<style scoped>\n",
       "    .dataframe tbody tr th:only-of-type {\n",
       "        vertical-align: middle;\n",
       "    }\n",
       "\n",
       "    .dataframe tbody tr th {\n",
       "        vertical-align: top;\n",
       "    }\n",
       "\n",
       "    .dataframe thead th {\n",
       "        text-align: right;\n",
       "    }\n",
       "</style>\n",
       "<table border=\"1\" class=\"dataframe\">\n",
       "  <thead>\n",
       "    <tr style=\"text-align: right;\">\n",
       "      <th></th>\n",
       "      <th>apt_rent_month</th>\n",
       "      <th>BHK</th>\n",
       "      <th>sq_ft</th>\n",
       "      <th>description</th>\n",
       "      <th>city</th>\n",
       "    </tr>\n",
       "  </thead>\n",
       "  <tbody>\n",
       "    <tr>\n",
       "      <th>165416</th>\n",
       "      <td>₹ 10,000 /month\\nDeposit ₹ 25000</td>\n",
       "      <td>2 BHK\\n3 Baths</td>\n",
       "      <td>1,200 sq.ft.\\n(111 sq.m.) Built-up Area</td>\n",
       "      <td>2 BHK Independent Builder Floor for rent in An...</td>\n",
       "      <td>Trivandraum</td>\n",
       "    </tr>\n",
       "    <tr>\n",
       "      <th>165417</th>\n",
       "      <td>₹ 21,000 /month\\nDeposit ₹ 50000</td>\n",
       "      <td>2 BHK\\n2 Baths</td>\n",
       "      <td>1,155 sq.ft.\\n(107 sq.m.) Carpet Area</td>\n",
       "      <td>2 BHK Residential Apartment for rent in Kazhak...</td>\n",
       "      <td>Trivandraum</td>\n",
       "    </tr>\n",
       "    <tr>\n",
       "      <th>165418</th>\n",
       "      <td>₹ 10,000 /month\\nDeposit ₹ 30000</td>\n",
       "      <td>2 BHK\\n2 Baths</td>\n",
       "      <td>861 sq.ft.\\n(80 sq.m.) Built-up Area</td>\n",
       "      <td>2 BHK Residential Apartment for rent in Vattiy...</td>\n",
       "      <td>Trivandraum</td>\n",
       "    </tr>\n",
       "    <tr>\n",
       "      <th>165419</th>\n",
       "      <td>₹ 33,000 /month\\nDeposit ₹ 150000</td>\n",
       "      <td>4 BHK\\n5 Baths</td>\n",
       "      <td>3,200 sq.ft.\\n(297 sq.m.) Plot Area</td>\n",
       "      <td>4 Bedroom Independent House for rent in Pattom</td>\n",
       "      <td>Trivandraum</td>\n",
       "    </tr>\n",
       "    <tr>\n",
       "      <th>165420</th>\n",
       "      <td>₹ 8,000 /month\\nDeposit 3 month(s) rent</td>\n",
       "      <td>4 BHK\\n5 Baths</td>\n",
       "      <td>2,178 sq.ft.\\n(202 sq.m.) Plot Area</td>\n",
       "      <td>4 Bedroom Independent House for rent in Kallam...</td>\n",
       "      <td>Trivandraum</td>\n",
       "    </tr>\n",
       "  </tbody>\n",
       "</table>\n",
       "</div>"
      ],
      "text/plain": [
       "                                 apt_rent_month             BHK  \\\n",
       "165416         ₹ 10,000 /month\\nDeposit ₹ 25000  2 BHK\\n3 Baths   \n",
       "165417         ₹ 21,000 /month\\nDeposit ₹ 50000  2 BHK\\n2 Baths   \n",
       "165418         ₹ 10,000 /month\\nDeposit ₹ 30000  2 BHK\\n2 Baths   \n",
       "165419        ₹ 33,000 /month\\nDeposit ₹ 150000  4 BHK\\n5 Baths   \n",
       "165420  ₹ 8,000 /month\\nDeposit 3 month(s) rent  4 BHK\\n5 Baths   \n",
       "\n",
       "                                          sq_ft  \\\n",
       "165416  1,200 sq.ft.\\n(111 sq.m.) Built-up Area   \n",
       "165417    1,155 sq.ft.\\n(107 sq.m.) Carpet Area   \n",
       "165418     861 sq.ft.\\n(80 sq.m.) Built-up Area   \n",
       "165419      3,200 sq.ft.\\n(297 sq.m.) Plot Area   \n",
       "165420      2,178 sq.ft.\\n(202 sq.m.) Plot Area   \n",
       "\n",
       "                                              description         city  \n",
       "165416  2 BHK Independent Builder Floor for rent in An...  Trivandraum  \n",
       "165417  2 BHK Residential Apartment for rent in Kazhak...  Trivandraum  \n",
       "165418  2 BHK Residential Apartment for rent in Vattiy...  Trivandraum  \n",
       "165419     4 Bedroom Independent House for rent in Pattom  Trivandraum  \n",
       "165420  4 Bedroom Independent House for rent in Kallam...  Trivandraum  "
      ]
     },
     "execution_count": 6,
     "metadata": {},
     "output_type": "execute_result"
    }
   ],
   "source": [
    "nd.tail()"
   ]
  },
  {
   "cell_type": "code",
   "execution_count": 7,
   "id": "95a39b7f",
   "metadata": {},
   "outputs": [
    {
     "data": {
      "text/html": [
       "<div>\n",
       "<style scoped>\n",
       "    .dataframe tbody tr th:only-of-type {\n",
       "        vertical-align: middle;\n",
       "    }\n",
       "\n",
       "    .dataframe tbody tr th {\n",
       "        vertical-align: top;\n",
       "    }\n",
       "\n",
       "    .dataframe thead th {\n",
       "        text-align: right;\n",
       "    }\n",
       "</style>\n",
       "<table border=\"1\" class=\"dataframe\">\n",
       "  <thead>\n",
       "    <tr style=\"text-align: right;\">\n",
       "      <th></th>\n",
       "      <th>apt_rent_month</th>\n",
       "      <th>BHK</th>\n",
       "      <th>sq_ft</th>\n",
       "      <th>description</th>\n",
       "      <th>city</th>\n",
       "    </tr>\n",
       "  </thead>\n",
       "  <tbody>\n",
       "    <tr>\n",
       "      <th>count</th>\n",
       "      <td>165421</td>\n",
       "      <td>164872</td>\n",
       "      <td>165421</td>\n",
       "      <td>165421</td>\n",
       "      <td>165421</td>\n",
       "    </tr>\n",
       "    <tr>\n",
       "      <th>unique</th>\n",
       "      <td>13111</td>\n",
       "      <td>157</td>\n",
       "      <td>8061</td>\n",
       "      <td>33272</td>\n",
       "      <td>8</td>\n",
       "    </tr>\n",
       "    <tr>\n",
       "      <th>top</th>\n",
       "      <td>₹ 15,000 /month</td>\n",
       "      <td>2 BHK\\n2 Baths</td>\n",
       "      <td>1,200 sq.ft.\\n(111 sq.m.) Super built-up Area</td>\n",
       "      <td>2 BHK Residential Apartment for rent in Wagholi</td>\n",
       "      <td>ncr</td>\n",
       "    </tr>\n",
       "    <tr>\n",
       "      <th>freq</th>\n",
       "      <td>984</td>\n",
       "      <td>60075</td>\n",
       "      <td>2412</td>\n",
       "      <td>498</td>\n",
       "      <td>48150</td>\n",
       "    </tr>\n",
       "  </tbody>\n",
       "</table>\n",
       "</div>"
      ],
      "text/plain": [
       "         apt_rent_month             BHK  \\\n",
       "count            165421          164872   \n",
       "unique            13111             157   \n",
       "top     ₹ 15,000 /month  2 BHK\\n2 Baths   \n",
       "freq                984           60075   \n",
       "\n",
       "                                                sq_ft  \\\n",
       "count                                          165421   \n",
       "unique                                           8061   \n",
       "top     1,200 sq.ft.\\n(111 sq.m.) Super built-up Area   \n",
       "freq                                             2412   \n",
       "\n",
       "                                            description    city  \n",
       "count                                            165421  165421  \n",
       "unique                                            33272       8  \n",
       "top     2 BHK Residential Apartment for rent in Wagholi     ncr  \n",
       "freq                                                498   48150  "
      ]
     },
     "execution_count": 7,
     "metadata": {},
     "output_type": "execute_result"
    }
   ],
   "source": [
    "nd.describe()"
   ]
  },
  {
   "cell_type": "code",
   "execution_count": 8,
   "id": "017df999",
   "metadata": {},
   "outputs": [
    {
     "data": {
      "text/plain": [
       "apt_rent_month    13111\n",
       "BHK                 157\n",
       "sq_ft              8061\n",
       "description       33272\n",
       "city                  8\n",
       "dtype: int64"
      ]
     },
     "execution_count": 8,
     "metadata": {},
     "output_type": "execute_result"
    }
   ],
   "source": [
    "nd.nunique()"
   ]
  },
  {
   "cell_type": "code",
   "execution_count": 9,
   "id": "aab045a7",
   "metadata": {},
   "outputs": [
    {
     "data": {
      "text/plain": [
       "Index(['apt_rent_month', 'BHK', 'sq_ft', 'description', 'city'], dtype='object')"
      ]
     },
     "execution_count": 9,
     "metadata": {},
     "output_type": "execute_result"
    }
   ],
   "source": [
    "nd.columns"
   ]
  },
  {
   "cell_type": "code",
   "execution_count": 10,
   "id": "ca79e0a6",
   "metadata": {},
   "outputs": [
    {
     "data": {
      "text/plain": [
       "apt_rent_month                       BHK             sq_ft                                          description                                                city     \n",
       "₹ 20,000 /month\\nDeposit ₹ 85000     3 BHK\\n3 Baths  1,200 sq.ft.\\n(111 sq.m.) Carpet Area          3 BHK Residential Apartment for rent in Panvel             mumbai       12\n",
       "₹ 13,000 /month\\nDeposit ₹ 26000     2 BHK\\n2 Baths  1,100 sq.ft.\\n(102 sq.m.) Super built-up Area  2 BHK Residential Apartment for rent in Jagatpur           Ahmedabad    10\n",
       "₹ 45,000 /month\\nDeposit ₹ 150000    1 BHK\\n1 Bath   700 sq.ft.\\n(65 sq.m.) Super built-up Area     1 BHK Residential Apartment for rent in Bandra (West)      mumbai        9\n",
       "₹ 60,000 /month\\nDeposit ₹ 180000    1 BHK\\n1 Bath   700 sq.ft.\\n(65 sq.m.) Super built-up Area     1 BHK Residential Apartment for rent in Bandra (West)      mumbai        8\n",
       "₹ 50,000 /month\\nDeposit ₹ 150000    1 BHK\\n1 Bath   700 sq.ft.\\n(65 sq.m.) Super built-up Area     1 BHK Residential Apartment for rent in Bandra (West)      mumbai        8\n",
       "                                                                                                                                                                            ..\n",
       "₹ 17,500 /month\\nDeposit ₹ 50000     1 BHK\\n1 Bath   400 sq.ft.\\n(37 sq.m.) Carpet Area             1 BHK Residential Apartment for rent in Kanjurmarg (East)  mumbai        1\n",
       "                                                     450 sq.ft.\\n(42 sq.m.) Super built-up Area     1 BHK Residential Apartment for rent in Jankalyan Nagar    mumbai        1\n",
       "                                                     475 sq.ft.\\n(44 sq.m.) Super built-up Area     1 BHK Residential Apartment for rent in Marol              mumbai        1\n",
       "                                                     585 sq.ft.\\n(54 sq.m.) Super built-up Area     1 BHK Residential Apartment for rent in Hadapsar           pune          1\n",
       "₹ 99.17 Lac /month\\nDeposit ₹ 16500  1 BHK\\n1 Bath   800 sq.ft.\\n(74 sq.m.) Built-up Area           1 Bedroom Independent House for rent in Sector-47 Gurgaon  ncr           1\n",
       "Length: 158162, dtype: int64"
      ]
     },
     "execution_count": 10,
     "metadata": {},
     "output_type": "execute_result"
    }
   ],
   "source": [
    "nd.value_counts()"
   ]
  },
  {
   "cell_type": "code",
   "execution_count": 11,
   "id": "b14db865",
   "metadata": {},
   "outputs": [
    {
     "data": {
      "text/plain": [
       "apt_rent_month    165421\n",
       "BHK               164872\n",
       "sq_ft             165421\n",
       "description       165421\n",
       "city              165421\n",
       "dtype: int64"
      ]
     },
     "execution_count": 11,
     "metadata": {},
     "output_type": "execute_result"
    }
   ],
   "source": [
    "nd.count()"
   ]
  },
  {
   "cell_type": "code",
   "execution_count": 12,
   "id": "b91007d9",
   "metadata": {},
   "outputs": [
    {
     "name": "stdout",
     "output_type": "stream",
     "text": [
      "<class 'pandas.core.frame.DataFrame'>\n",
      "RangeIndex: 165421 entries, 0 to 165420\n",
      "Data columns (total 5 columns):\n",
      " #   Column          Non-Null Count   Dtype \n",
      "---  ------          --------------   ----- \n",
      " 0   apt_rent_month  165421 non-null  object\n",
      " 1   BHK             164872 non-null  object\n",
      " 2   sq_ft           165421 non-null  object\n",
      " 3   description     165421 non-null  object\n",
      " 4   city            165421 non-null  object\n",
      "dtypes: object(5)\n",
      "memory usage: 6.3+ MB\n"
     ]
    }
   ],
   "source": [
    "nd.info()"
   ]
  },
  {
   "cell_type": "code",
   "execution_count": 13,
   "id": "ff5e1125",
   "metadata": {},
   "outputs": [
    {
     "data": {
      "text/plain": [
       "(165421, 5)"
      ]
     },
     "execution_count": 13,
     "metadata": {},
     "output_type": "execute_result"
    }
   ],
   "source": [
    "nd.shape"
   ]
  },
  {
   "cell_type": "markdown",
   "id": "56af0952",
   "metadata": {},
   "source": [
    "- The following csv file contains 165421 rows and 5 coloums"
   ]
  },
  {
   "cell_type": "code",
   "execution_count": 14,
   "id": "a9e2b977",
   "metadata": {},
   "outputs": [],
   "source": [
    "# cleaning the data"
   ]
  },
  {
   "cell_type": "code",
   "execution_count": 15,
   "id": "18dcebb2",
   "metadata": {},
   "outputs": [
    {
     "data": {
      "text/plain": [
       "apt_rent_month      0\n",
       "BHK               549\n",
       "sq_ft               0\n",
       "description         0\n",
       "city                0\n",
       "dtype: int64"
      ]
     },
     "execution_count": 15,
     "metadata": {},
     "output_type": "execute_result"
    }
   ],
   "source": [
    "nd.isnull().sum()"
   ]
  },
  {
   "cell_type": "code",
   "execution_count": 16,
   "id": "09299513",
   "metadata": {},
   "outputs": [],
   "source": [
    "# As we see apt_rent_month consits of \\n so we need to split the apt_rent_month which gives us better understanding of data by making the data into more colums"
   ]
  },
  {
   "cell_type": "code",
   "execution_count": 17,
   "id": "5724d395",
   "metadata": {},
   "outputs": [],
   "source": [
    "nd[['aptrent','deposit_inr']]=nd[\"apt_rent_month\"].str.split(\"\\n\",n=1,expand=True)\n",
    "\n"
   ]
  },
  {
   "cell_type": "code",
   "execution_count": 18,
   "id": "d1ab69bc",
   "metadata": {},
   "outputs": [
    {
     "data": {
      "text/html": [
       "<div>\n",
       "<style scoped>\n",
       "    .dataframe tbody tr th:only-of-type {\n",
       "        vertical-align: middle;\n",
       "    }\n",
       "\n",
       "    .dataframe tbody tr th {\n",
       "        vertical-align: top;\n",
       "    }\n",
       "\n",
       "    .dataframe thead th {\n",
       "        text-align: right;\n",
       "    }\n",
       "</style>\n",
       "<table border=\"1\" class=\"dataframe\">\n",
       "  <thead>\n",
       "    <tr style=\"text-align: right;\">\n",
       "      <th></th>\n",
       "      <th>aptrent</th>\n",
       "      <th>deposit_inr</th>\n",
       "    </tr>\n",
       "  </thead>\n",
       "  <tbody>\n",
       "    <tr>\n",
       "      <th>0</th>\n",
       "      <td>₹ 17,500 /month</td>\n",
       "      <td>Deposit ₹ 75000</td>\n",
       "    </tr>\n",
       "    <tr>\n",
       "      <th>1</th>\n",
       "      <td>₹ 75,000 /month</td>\n",
       "      <td>Deposit ₹ 400000</td>\n",
       "    </tr>\n",
       "    <tr>\n",
       "      <th>2</th>\n",
       "      <td>₹ 60,000 /month</td>\n",
       "      <td>Deposit ₹ 200000</td>\n",
       "    </tr>\n",
       "    <tr>\n",
       "      <th>3</th>\n",
       "      <td>₹ 52,000 /month</td>\n",
       "      <td>Deposit ₹ 300000</td>\n",
       "    </tr>\n",
       "    <tr>\n",
       "      <th>4</th>\n",
       "      <td>₹ 30,000 /month</td>\n",
       "      <td>Deposit ₹ 150000</td>\n",
       "    </tr>\n",
       "    <tr>\n",
       "      <th>...</th>\n",
       "      <td>...</td>\n",
       "      <td>...</td>\n",
       "    </tr>\n",
       "    <tr>\n",
       "      <th>165416</th>\n",
       "      <td>₹ 10,000 /month</td>\n",
       "      <td>Deposit ₹ 25000</td>\n",
       "    </tr>\n",
       "    <tr>\n",
       "      <th>165417</th>\n",
       "      <td>₹ 21,000 /month</td>\n",
       "      <td>Deposit ₹ 50000</td>\n",
       "    </tr>\n",
       "    <tr>\n",
       "      <th>165418</th>\n",
       "      <td>₹ 10,000 /month</td>\n",
       "      <td>Deposit ₹ 30000</td>\n",
       "    </tr>\n",
       "    <tr>\n",
       "      <th>165419</th>\n",
       "      <td>₹ 33,000 /month</td>\n",
       "      <td>Deposit ₹ 150000</td>\n",
       "    </tr>\n",
       "    <tr>\n",
       "      <th>165420</th>\n",
       "      <td>₹ 8,000 /month</td>\n",
       "      <td>Deposit 3 month(s) rent</td>\n",
       "    </tr>\n",
       "  </tbody>\n",
       "</table>\n",
       "<p>165421 rows × 2 columns</p>\n",
       "</div>"
      ],
      "text/plain": [
       "                aptrent              deposit_inr\n",
       "0       ₹ 17,500 /month          Deposit ₹ 75000\n",
       "1       ₹ 75,000 /month         Deposit ₹ 400000\n",
       "2       ₹ 60,000 /month         Deposit ₹ 200000\n",
       "3       ₹ 52,000 /month         Deposit ₹ 300000\n",
       "4       ₹ 30,000 /month         Deposit ₹ 150000\n",
       "...                 ...                      ...\n",
       "165416  ₹ 10,000 /month          Deposit ₹ 25000\n",
       "165417  ₹ 21,000 /month          Deposit ₹ 50000\n",
       "165418  ₹ 10,000 /month          Deposit ₹ 30000\n",
       "165419  ₹ 33,000 /month         Deposit ₹ 150000\n",
       "165420   ₹ 8,000 /month  Deposit 3 month(s) rent\n",
       "\n",
       "[165421 rows x 2 columns]"
      ]
     },
     "execution_count": 18,
     "metadata": {},
     "output_type": "execute_result"
    }
   ],
   "source": [
    "nd[['aptrent','deposit_inr']]"
   ]
  },
  {
   "cell_type": "code",
   "execution_count": 19,
   "id": "1834675f",
   "metadata": {},
   "outputs": [
    {
     "data": {
      "text/html": [
       "<div>\n",
       "<style scoped>\n",
       "    .dataframe tbody tr th:only-of-type {\n",
       "        vertical-align: middle;\n",
       "    }\n",
       "\n",
       "    .dataframe tbody tr th {\n",
       "        vertical-align: top;\n",
       "    }\n",
       "\n",
       "    .dataframe thead th {\n",
       "        text-align: right;\n",
       "    }\n",
       "</style>\n",
       "<table border=\"1\" class=\"dataframe\">\n",
       "  <thead>\n",
       "    <tr style=\"text-align: right;\">\n",
       "      <th></th>\n",
       "      <th>BHK</th>\n",
       "      <th>sq_ft</th>\n",
       "      <th>description</th>\n",
       "      <th>city</th>\n",
       "      <th>aptrent</th>\n",
       "      <th>deposit_inr</th>\n",
       "    </tr>\n",
       "  </thead>\n",
       "  <tbody>\n",
       "    <tr>\n",
       "      <th>0</th>\n",
       "      <td>1 BHK\\n2 Baths</td>\n",
       "      <td>470 sq.ft.\\n(44 sq.m.) Carpet Area</td>\n",
       "      <td>1 BHK Residential Apartment for rent in Kolshe...</td>\n",
       "      <td>mumbai</td>\n",
       "      <td>₹ 17,500 /month</td>\n",
       "      <td>Deposit ₹ 75000</td>\n",
       "    </tr>\n",
       "    <tr>\n",
       "      <th>1</th>\n",
       "      <td>3 BHK\\n3 Baths</td>\n",
       "      <td>1,800 sq.ft.\\n(167 sq.m.) Super built-up Area</td>\n",
       "      <td>3 BHK Residential Apartment for rent in Sector...</td>\n",
       "      <td>mumbai</td>\n",
       "      <td>₹ 75,000 /month</td>\n",
       "      <td>Deposit ₹ 400000</td>\n",
       "    </tr>\n",
       "    <tr>\n",
       "      <th>2</th>\n",
       "      <td>2 BHK\\n2 Baths</td>\n",
       "      <td>950 sq.ft.\\n(88 sq.m.) Super built-up Area</td>\n",
       "      <td>2 BHK Residential Apartment for rent in Wadala</td>\n",
       "      <td>mumbai</td>\n",
       "      <td>₹ 60,000 /month</td>\n",
       "      <td>Deposit ₹ 200000</td>\n",
       "    </tr>\n",
       "    <tr>\n",
       "      <th>3</th>\n",
       "      <td>3 BHK\\n3 Baths</td>\n",
       "      <td>1,300 sq.ft.\\n(121 sq.m.) Carpet Area</td>\n",
       "      <td>3 BHK Residential Apartment for rent in Hirana...</td>\n",
       "      <td>mumbai</td>\n",
       "      <td>₹ 52,000 /month</td>\n",
       "      <td>Deposit ₹ 300000</td>\n",
       "    </tr>\n",
       "    <tr>\n",
       "      <th>4</th>\n",
       "      <td>1 BHK\\n1 Bath</td>\n",
       "      <td>550 sq.ft.\\n(51 sq.m.) Built-up Area</td>\n",
       "      <td>1 BHK Residential Apartment for rent in Kanjur...</td>\n",
       "      <td>mumbai</td>\n",
       "      <td>₹ 30,000 /month</td>\n",
       "      <td>Deposit ₹ 150000</td>\n",
       "    </tr>\n",
       "  </tbody>\n",
       "</table>\n",
       "</div>"
      ],
      "text/plain": [
       "              BHK                                          sq_ft  \\\n",
       "0  1 BHK\\n2 Baths             470 sq.ft.\\n(44 sq.m.) Carpet Area   \n",
       "1  3 BHK\\n3 Baths  1,800 sq.ft.\\n(167 sq.m.) Super built-up Area   \n",
       "2  2 BHK\\n2 Baths     950 sq.ft.\\n(88 sq.m.) Super built-up Area   \n",
       "3  3 BHK\\n3 Baths          1,300 sq.ft.\\n(121 sq.m.) Carpet Area   \n",
       "4   1 BHK\\n1 Bath           550 sq.ft.\\n(51 sq.m.) Built-up Area   \n",
       "\n",
       "                                         description    city          aptrent  \\\n",
       "0  1 BHK Residential Apartment for rent in Kolshe...  mumbai  ₹ 17,500 /month   \n",
       "1  3 BHK Residential Apartment for rent in Sector...  mumbai  ₹ 75,000 /month   \n",
       "2     2 BHK Residential Apartment for rent in Wadala  mumbai  ₹ 60,000 /month   \n",
       "3  3 BHK Residential Apartment for rent in Hirana...  mumbai  ₹ 52,000 /month   \n",
       "4  1 BHK Residential Apartment for rent in Kanjur...  mumbai  ₹ 30,000 /month   \n",
       "\n",
       "        deposit_inr  \n",
       "0   Deposit ₹ 75000  \n",
       "1  Deposit ₹ 400000  \n",
       "2  Deposit ₹ 200000  \n",
       "3  Deposit ₹ 300000  \n",
       "4  Deposit ₹ 150000  "
      ]
     },
     "execution_count": 19,
     "metadata": {},
     "output_type": "execute_result"
    }
   ],
   "source": [
    "nd=nd.drop([\"apt_rent_month\"],axis=1)\n",
    "\n",
    "nd.head()"
   ]
  },
  {
   "cell_type": "code",
   "execution_count": 20,
   "id": "55adb876",
   "metadata": {},
   "outputs": [],
   "source": [
    "#  we are splitting the data from /month "
   ]
  },
  {
   "cell_type": "code",
   "execution_count": 21,
   "id": "4604bc1b",
   "metadata": {},
   "outputs": [],
   "source": [
    "nd[['aptrent/month','month']]=nd[\"aptrent\"].str.split(\"/month\",n=1,expand=True)\n"
   ]
  },
  {
   "cell_type": "code",
   "execution_count": 22,
   "id": "12ecff56",
   "metadata": {},
   "outputs": [
    {
     "data": {
      "text/html": [
       "<div>\n",
       "<style scoped>\n",
       "    .dataframe tbody tr th:only-of-type {\n",
       "        vertical-align: middle;\n",
       "    }\n",
       "\n",
       "    .dataframe tbody tr th {\n",
       "        vertical-align: top;\n",
       "    }\n",
       "\n",
       "    .dataframe thead th {\n",
       "        text-align: right;\n",
       "    }\n",
       "</style>\n",
       "<table border=\"1\" class=\"dataframe\">\n",
       "  <thead>\n",
       "    <tr style=\"text-align: right;\">\n",
       "      <th></th>\n",
       "      <th>aptrent/month</th>\n",
       "      <th>month</th>\n",
       "    </tr>\n",
       "  </thead>\n",
       "  <tbody>\n",
       "    <tr>\n",
       "      <th>0</th>\n",
       "      <td>₹ 17,500</td>\n",
       "      <td></td>\n",
       "    </tr>\n",
       "    <tr>\n",
       "      <th>1</th>\n",
       "      <td>₹ 75,000</td>\n",
       "      <td></td>\n",
       "    </tr>\n",
       "    <tr>\n",
       "      <th>2</th>\n",
       "      <td>₹ 60,000</td>\n",
       "      <td></td>\n",
       "    </tr>\n",
       "    <tr>\n",
       "      <th>3</th>\n",
       "      <td>₹ 52,000</td>\n",
       "      <td></td>\n",
       "    </tr>\n",
       "    <tr>\n",
       "      <th>4</th>\n",
       "      <td>₹ 30,000</td>\n",
       "      <td></td>\n",
       "    </tr>\n",
       "    <tr>\n",
       "      <th>...</th>\n",
       "      <td>...</td>\n",
       "      <td>...</td>\n",
       "    </tr>\n",
       "    <tr>\n",
       "      <th>165416</th>\n",
       "      <td>₹ 10,000</td>\n",
       "      <td></td>\n",
       "    </tr>\n",
       "    <tr>\n",
       "      <th>165417</th>\n",
       "      <td>₹ 21,000</td>\n",
       "      <td></td>\n",
       "    </tr>\n",
       "    <tr>\n",
       "      <th>165418</th>\n",
       "      <td>₹ 10,000</td>\n",
       "      <td></td>\n",
       "    </tr>\n",
       "    <tr>\n",
       "      <th>165419</th>\n",
       "      <td>₹ 33,000</td>\n",
       "      <td></td>\n",
       "    </tr>\n",
       "    <tr>\n",
       "      <th>165420</th>\n",
       "      <td>₹ 8,000</td>\n",
       "      <td></td>\n",
       "    </tr>\n",
       "  </tbody>\n",
       "</table>\n",
       "<p>165421 rows × 2 columns</p>\n",
       "</div>"
      ],
      "text/plain": [
       "       aptrent/month month\n",
       "0          ₹ 17,500       \n",
       "1          ₹ 75,000       \n",
       "2          ₹ 60,000       \n",
       "3          ₹ 52,000       \n",
       "4          ₹ 30,000       \n",
       "...              ...   ...\n",
       "165416     ₹ 10,000       \n",
       "165417     ₹ 21,000       \n",
       "165418     ₹ 10,000       \n",
       "165419     ₹ 33,000       \n",
       "165420      ₹ 8,000       \n",
       "\n",
       "[165421 rows x 2 columns]"
      ]
     },
     "execution_count": 22,
     "metadata": {},
     "output_type": "execute_result"
    }
   ],
   "source": [
    "nd[['aptrent/month','month']]"
   ]
  },
  {
   "cell_type": "code",
   "execution_count": 23,
   "id": "13362889",
   "metadata": {},
   "outputs": [],
   "source": [
    "nd[['rn','arent/month']]=nd[\"aptrent/month\"].str.split(\"₹\",n=1,expand=True)\n"
   ]
  },
  {
   "cell_type": "code",
   "execution_count": 24,
   "id": "7c2728f0",
   "metadata": {},
   "outputs": [
    {
     "data": {
      "text/html": [
       "<div>\n",
       "<style scoped>\n",
       "    .dataframe tbody tr th:only-of-type {\n",
       "        vertical-align: middle;\n",
       "    }\n",
       "\n",
       "    .dataframe tbody tr th {\n",
       "        vertical-align: top;\n",
       "    }\n",
       "\n",
       "    .dataframe thead th {\n",
       "        text-align: right;\n",
       "    }\n",
       "</style>\n",
       "<table border=\"1\" class=\"dataframe\">\n",
       "  <thead>\n",
       "    <tr style=\"text-align: right;\">\n",
       "      <th></th>\n",
       "      <th>rn</th>\n",
       "      <th>arent/month</th>\n",
       "    </tr>\n",
       "  </thead>\n",
       "  <tbody>\n",
       "    <tr>\n",
       "      <th>0</th>\n",
       "      <td></td>\n",
       "      <td>17,500</td>\n",
       "    </tr>\n",
       "    <tr>\n",
       "      <th>1</th>\n",
       "      <td></td>\n",
       "      <td>75,000</td>\n",
       "    </tr>\n",
       "    <tr>\n",
       "      <th>2</th>\n",
       "      <td></td>\n",
       "      <td>60,000</td>\n",
       "    </tr>\n",
       "    <tr>\n",
       "      <th>3</th>\n",
       "      <td></td>\n",
       "      <td>52,000</td>\n",
       "    </tr>\n",
       "    <tr>\n",
       "      <th>4</th>\n",
       "      <td></td>\n",
       "      <td>30,000</td>\n",
       "    </tr>\n",
       "    <tr>\n",
       "      <th>...</th>\n",
       "      <td>...</td>\n",
       "      <td>...</td>\n",
       "    </tr>\n",
       "    <tr>\n",
       "      <th>165416</th>\n",
       "      <td></td>\n",
       "      <td>10,000</td>\n",
       "    </tr>\n",
       "    <tr>\n",
       "      <th>165417</th>\n",
       "      <td></td>\n",
       "      <td>21,000</td>\n",
       "    </tr>\n",
       "    <tr>\n",
       "      <th>165418</th>\n",
       "      <td></td>\n",
       "      <td>10,000</td>\n",
       "    </tr>\n",
       "    <tr>\n",
       "      <th>165419</th>\n",
       "      <td></td>\n",
       "      <td>33,000</td>\n",
       "    </tr>\n",
       "    <tr>\n",
       "      <th>165420</th>\n",
       "      <td></td>\n",
       "      <td>8,000</td>\n",
       "    </tr>\n",
       "  </tbody>\n",
       "</table>\n",
       "<p>165421 rows × 2 columns</p>\n",
       "</div>"
      ],
      "text/plain": [
       "       rn arent/month\n",
       "0             17,500 \n",
       "1             75,000 \n",
       "2             60,000 \n",
       "3             52,000 \n",
       "4             30,000 \n",
       "...    ..         ...\n",
       "165416        10,000 \n",
       "165417        21,000 \n",
       "165418        10,000 \n",
       "165419        33,000 \n",
       "165420         8,000 \n",
       "\n",
       "[165421 rows x 2 columns]"
      ]
     },
     "execution_count": 24,
     "metadata": {},
     "output_type": "execute_result"
    }
   ],
   "source": [
    "nd[['rn','arent/month']]"
   ]
  },
  {
   "cell_type": "code",
   "execution_count": 25,
   "id": "ca9a717e",
   "metadata": {},
   "outputs": [],
   "source": [
    "nd[['xrent/month','sq']]=nd['arent/month'].str.split(\"Lac\",n=1,expand=True)"
   ]
  },
  {
   "cell_type": "code",
   "execution_count": 26,
   "id": "07ea4454",
   "metadata": {},
   "outputs": [
    {
     "data": {
      "text/html": [
       "<div>\n",
       "<style scoped>\n",
       "    .dataframe tbody tr th:only-of-type {\n",
       "        vertical-align: middle;\n",
       "    }\n",
       "\n",
       "    .dataframe tbody tr th {\n",
       "        vertical-align: top;\n",
       "    }\n",
       "\n",
       "    .dataframe thead th {\n",
       "        text-align: right;\n",
       "    }\n",
       "</style>\n",
       "<table border=\"1\" class=\"dataframe\">\n",
       "  <thead>\n",
       "    <tr style=\"text-align: right;\">\n",
       "      <th></th>\n",
       "      <th>xrent/month</th>\n",
       "      <th>sq</th>\n",
       "    </tr>\n",
       "  </thead>\n",
       "  <tbody>\n",
       "    <tr>\n",
       "      <th>0</th>\n",
       "      <td>17,500</td>\n",
       "      <td>None</td>\n",
       "    </tr>\n",
       "    <tr>\n",
       "      <th>1</th>\n",
       "      <td>75,000</td>\n",
       "      <td>None</td>\n",
       "    </tr>\n",
       "    <tr>\n",
       "      <th>2</th>\n",
       "      <td>60,000</td>\n",
       "      <td>None</td>\n",
       "    </tr>\n",
       "    <tr>\n",
       "      <th>3</th>\n",
       "      <td>52,000</td>\n",
       "      <td>None</td>\n",
       "    </tr>\n",
       "    <tr>\n",
       "      <th>4</th>\n",
       "      <td>30,000</td>\n",
       "      <td>None</td>\n",
       "    </tr>\n",
       "    <tr>\n",
       "      <th>...</th>\n",
       "      <td>...</td>\n",
       "      <td>...</td>\n",
       "    </tr>\n",
       "    <tr>\n",
       "      <th>165416</th>\n",
       "      <td>10,000</td>\n",
       "      <td>None</td>\n",
       "    </tr>\n",
       "    <tr>\n",
       "      <th>165417</th>\n",
       "      <td>21,000</td>\n",
       "      <td>None</td>\n",
       "    </tr>\n",
       "    <tr>\n",
       "      <th>165418</th>\n",
       "      <td>10,000</td>\n",
       "      <td>None</td>\n",
       "    </tr>\n",
       "    <tr>\n",
       "      <th>165419</th>\n",
       "      <td>33,000</td>\n",
       "      <td>None</td>\n",
       "    </tr>\n",
       "    <tr>\n",
       "      <th>165420</th>\n",
       "      <td>8,000</td>\n",
       "      <td>None</td>\n",
       "    </tr>\n",
       "  </tbody>\n",
       "</table>\n",
       "<p>165421 rows × 2 columns</p>\n",
       "</div>"
      ],
      "text/plain": [
       "       xrent/month    sq\n",
       "0          17,500   None\n",
       "1          75,000   None\n",
       "2          60,000   None\n",
       "3          52,000   None\n",
       "4          30,000   None\n",
       "...            ...   ...\n",
       "165416     10,000   None\n",
       "165417     21,000   None\n",
       "165418     10,000   None\n",
       "165419     33,000   None\n",
       "165420      8,000   None\n",
       "\n",
       "[165421 rows x 2 columns]"
      ]
     },
     "execution_count": 26,
     "metadata": {},
     "output_type": "execute_result"
    }
   ],
   "source": [
    "nd[['xrent/month','sq']]"
   ]
  },
  {
   "cell_type": "code",
   "execution_count": 27,
   "id": "d6ddc9fd",
   "metadata": {},
   "outputs": [],
   "source": [
    "nd[['rent/month','rq']]=nd['xrent/month'].str.split(\"Cr\",n=1,expand=True)\n"
   ]
  },
  {
   "cell_type": "code",
   "execution_count": 28,
   "id": "deeed2e9",
   "metadata": {},
   "outputs": [
    {
     "data": {
      "text/html": [
       "<div>\n",
       "<style scoped>\n",
       "    .dataframe tbody tr th:only-of-type {\n",
       "        vertical-align: middle;\n",
       "    }\n",
       "\n",
       "    .dataframe tbody tr th {\n",
       "        vertical-align: top;\n",
       "    }\n",
       "\n",
       "    .dataframe thead th {\n",
       "        text-align: right;\n",
       "    }\n",
       "</style>\n",
       "<table border=\"1\" class=\"dataframe\">\n",
       "  <thead>\n",
       "    <tr style=\"text-align: right;\">\n",
       "      <th></th>\n",
       "      <th>rent/month</th>\n",
       "      <th>rq</th>\n",
       "    </tr>\n",
       "  </thead>\n",
       "  <tbody>\n",
       "    <tr>\n",
       "      <th>0</th>\n",
       "      <td>17,500</td>\n",
       "      <td>None</td>\n",
       "    </tr>\n",
       "    <tr>\n",
       "      <th>1</th>\n",
       "      <td>75,000</td>\n",
       "      <td>None</td>\n",
       "    </tr>\n",
       "    <tr>\n",
       "      <th>2</th>\n",
       "      <td>60,000</td>\n",
       "      <td>None</td>\n",
       "    </tr>\n",
       "    <tr>\n",
       "      <th>3</th>\n",
       "      <td>52,000</td>\n",
       "      <td>None</td>\n",
       "    </tr>\n",
       "    <tr>\n",
       "      <th>4</th>\n",
       "      <td>30,000</td>\n",
       "      <td>None</td>\n",
       "    </tr>\n",
       "    <tr>\n",
       "      <th>...</th>\n",
       "      <td>...</td>\n",
       "      <td>...</td>\n",
       "    </tr>\n",
       "    <tr>\n",
       "      <th>165416</th>\n",
       "      <td>10,000</td>\n",
       "      <td>None</td>\n",
       "    </tr>\n",
       "    <tr>\n",
       "      <th>165417</th>\n",
       "      <td>21,000</td>\n",
       "      <td>None</td>\n",
       "    </tr>\n",
       "    <tr>\n",
       "      <th>165418</th>\n",
       "      <td>10,000</td>\n",
       "      <td>None</td>\n",
       "    </tr>\n",
       "    <tr>\n",
       "      <th>165419</th>\n",
       "      <td>33,000</td>\n",
       "      <td>None</td>\n",
       "    </tr>\n",
       "    <tr>\n",
       "      <th>165420</th>\n",
       "      <td>8,000</td>\n",
       "      <td>None</td>\n",
       "    </tr>\n",
       "  </tbody>\n",
       "</table>\n",
       "<p>165421 rows × 2 columns</p>\n",
       "</div>"
      ],
      "text/plain": [
       "       rent/month    rq\n",
       "0         17,500   None\n",
       "1         75,000   None\n",
       "2         60,000   None\n",
       "3         52,000   None\n",
       "4         30,000   None\n",
       "...           ...   ...\n",
       "165416    10,000   None\n",
       "165417    21,000   None\n",
       "165418    10,000   None\n",
       "165419    33,000   None\n",
       "165420     8,000   None\n",
       "\n",
       "[165421 rows x 2 columns]"
      ]
     },
     "execution_count": 28,
     "metadata": {},
     "output_type": "execute_result"
    }
   ],
   "source": [
    "nd[['rent/month','rq']]"
   ]
  },
  {
   "cell_type": "code",
   "execution_count": 29,
   "id": "d6b06703",
   "metadata": {},
   "outputs": [
    {
     "data": {
      "text/html": [
       "<div>\n",
       "<style scoped>\n",
       "    .dataframe tbody tr th:only-of-type {\n",
       "        vertical-align: middle;\n",
       "    }\n",
       "\n",
       "    .dataframe tbody tr th {\n",
       "        vertical-align: top;\n",
       "    }\n",
       "\n",
       "    .dataframe thead th {\n",
       "        text-align: right;\n",
       "    }\n",
       "</style>\n",
       "<table border=\"1\" class=\"dataframe\">\n",
       "  <thead>\n",
       "    <tr style=\"text-align: right;\">\n",
       "      <th></th>\n",
       "      <th>BHK</th>\n",
       "      <th>sq_ft</th>\n",
       "      <th>description</th>\n",
       "      <th>city</th>\n",
       "      <th>aptrent</th>\n",
       "      <th>deposit_inr</th>\n",
       "      <th>rent/month</th>\n",
       "    </tr>\n",
       "  </thead>\n",
       "  <tbody>\n",
       "    <tr>\n",
       "      <th>0</th>\n",
       "      <td>1 BHK\\n2 Baths</td>\n",
       "      <td>470 sq.ft.\\n(44 sq.m.) Carpet Area</td>\n",
       "      <td>1 BHK Residential Apartment for rent in Kolshe...</td>\n",
       "      <td>mumbai</td>\n",
       "      <td>₹ 17,500 /month</td>\n",
       "      <td>Deposit ₹ 75000</td>\n",
       "      <td>17,500</td>\n",
       "    </tr>\n",
       "    <tr>\n",
       "      <th>1</th>\n",
       "      <td>3 BHK\\n3 Baths</td>\n",
       "      <td>1,800 sq.ft.\\n(167 sq.m.) Super built-up Area</td>\n",
       "      <td>3 BHK Residential Apartment for rent in Sector...</td>\n",
       "      <td>mumbai</td>\n",
       "      <td>₹ 75,000 /month</td>\n",
       "      <td>Deposit ₹ 400000</td>\n",
       "      <td>75,000</td>\n",
       "    </tr>\n",
       "    <tr>\n",
       "      <th>2</th>\n",
       "      <td>2 BHK\\n2 Baths</td>\n",
       "      <td>950 sq.ft.\\n(88 sq.m.) Super built-up Area</td>\n",
       "      <td>2 BHK Residential Apartment for rent in Wadala</td>\n",
       "      <td>mumbai</td>\n",
       "      <td>₹ 60,000 /month</td>\n",
       "      <td>Deposit ₹ 200000</td>\n",
       "      <td>60,000</td>\n",
       "    </tr>\n",
       "    <tr>\n",
       "      <th>3</th>\n",
       "      <td>3 BHK\\n3 Baths</td>\n",
       "      <td>1,300 sq.ft.\\n(121 sq.m.) Carpet Area</td>\n",
       "      <td>3 BHK Residential Apartment for rent in Hirana...</td>\n",
       "      <td>mumbai</td>\n",
       "      <td>₹ 52,000 /month</td>\n",
       "      <td>Deposit ₹ 300000</td>\n",
       "      <td>52,000</td>\n",
       "    </tr>\n",
       "    <tr>\n",
       "      <th>4</th>\n",
       "      <td>1 BHK\\n1 Bath</td>\n",
       "      <td>550 sq.ft.\\n(51 sq.m.) Built-up Area</td>\n",
       "      <td>1 BHK Residential Apartment for rent in Kanjur...</td>\n",
       "      <td>mumbai</td>\n",
       "      <td>₹ 30,000 /month</td>\n",
       "      <td>Deposit ₹ 150000</td>\n",
       "      <td>30,000</td>\n",
       "    </tr>\n",
       "    <tr>\n",
       "      <th>...</th>\n",
       "      <td>...</td>\n",
       "      <td>...</td>\n",
       "      <td>...</td>\n",
       "      <td>...</td>\n",
       "      <td>...</td>\n",
       "      <td>...</td>\n",
       "      <td>...</td>\n",
       "    </tr>\n",
       "    <tr>\n",
       "      <th>165416</th>\n",
       "      <td>2 BHK\\n3 Baths</td>\n",
       "      <td>1,200 sq.ft.\\n(111 sq.m.) Built-up Area</td>\n",
       "      <td>2 BHK Independent Builder Floor for rent in An...</td>\n",
       "      <td>Trivandraum</td>\n",
       "      <td>₹ 10,000 /month</td>\n",
       "      <td>Deposit ₹ 25000</td>\n",
       "      <td>10,000</td>\n",
       "    </tr>\n",
       "    <tr>\n",
       "      <th>165417</th>\n",
       "      <td>2 BHK\\n2 Baths</td>\n",
       "      <td>1,155 sq.ft.\\n(107 sq.m.) Carpet Area</td>\n",
       "      <td>2 BHK Residential Apartment for rent in Kazhak...</td>\n",
       "      <td>Trivandraum</td>\n",
       "      <td>₹ 21,000 /month</td>\n",
       "      <td>Deposit ₹ 50000</td>\n",
       "      <td>21,000</td>\n",
       "    </tr>\n",
       "    <tr>\n",
       "      <th>165418</th>\n",
       "      <td>2 BHK\\n2 Baths</td>\n",
       "      <td>861 sq.ft.\\n(80 sq.m.) Built-up Area</td>\n",
       "      <td>2 BHK Residential Apartment for rent in Vattiy...</td>\n",
       "      <td>Trivandraum</td>\n",
       "      <td>₹ 10,000 /month</td>\n",
       "      <td>Deposit ₹ 30000</td>\n",
       "      <td>10,000</td>\n",
       "    </tr>\n",
       "    <tr>\n",
       "      <th>165419</th>\n",
       "      <td>4 BHK\\n5 Baths</td>\n",
       "      <td>3,200 sq.ft.\\n(297 sq.m.) Plot Area</td>\n",
       "      <td>4 Bedroom Independent House for rent in Pattom</td>\n",
       "      <td>Trivandraum</td>\n",
       "      <td>₹ 33,000 /month</td>\n",
       "      <td>Deposit ₹ 150000</td>\n",
       "      <td>33,000</td>\n",
       "    </tr>\n",
       "    <tr>\n",
       "      <th>165420</th>\n",
       "      <td>4 BHK\\n5 Baths</td>\n",
       "      <td>2,178 sq.ft.\\n(202 sq.m.) Plot Area</td>\n",
       "      <td>4 Bedroom Independent House for rent in Kallam...</td>\n",
       "      <td>Trivandraum</td>\n",
       "      <td>₹ 8,000 /month</td>\n",
       "      <td>Deposit 3 month(s) rent</td>\n",
       "      <td>8,000</td>\n",
       "    </tr>\n",
       "  </tbody>\n",
       "</table>\n",
       "<p>165421 rows × 7 columns</p>\n",
       "</div>"
      ],
      "text/plain": [
       "                   BHK                                          sq_ft  \\\n",
       "0       1 BHK\\n2 Baths             470 sq.ft.\\n(44 sq.m.) Carpet Area   \n",
       "1       3 BHK\\n3 Baths  1,800 sq.ft.\\n(167 sq.m.) Super built-up Area   \n",
       "2       2 BHK\\n2 Baths     950 sq.ft.\\n(88 sq.m.) Super built-up Area   \n",
       "3       3 BHK\\n3 Baths          1,300 sq.ft.\\n(121 sq.m.) Carpet Area   \n",
       "4        1 BHK\\n1 Bath           550 sq.ft.\\n(51 sq.m.) Built-up Area   \n",
       "...                ...                                            ...   \n",
       "165416  2 BHK\\n3 Baths        1,200 sq.ft.\\n(111 sq.m.) Built-up Area   \n",
       "165417  2 BHK\\n2 Baths          1,155 sq.ft.\\n(107 sq.m.) Carpet Area   \n",
       "165418  2 BHK\\n2 Baths           861 sq.ft.\\n(80 sq.m.) Built-up Area   \n",
       "165419  4 BHK\\n5 Baths            3,200 sq.ft.\\n(297 sq.m.) Plot Area   \n",
       "165420  4 BHK\\n5 Baths            2,178 sq.ft.\\n(202 sq.m.) Plot Area   \n",
       "\n",
       "                                              description         city  \\\n",
       "0       1 BHK Residential Apartment for rent in Kolshe...       mumbai   \n",
       "1       3 BHK Residential Apartment for rent in Sector...       mumbai   \n",
       "2          2 BHK Residential Apartment for rent in Wadala       mumbai   \n",
       "3       3 BHK Residential Apartment for rent in Hirana...       mumbai   \n",
       "4       1 BHK Residential Apartment for rent in Kanjur...       mumbai   \n",
       "...                                                   ...          ...   \n",
       "165416  2 BHK Independent Builder Floor for rent in An...  Trivandraum   \n",
       "165417  2 BHK Residential Apartment for rent in Kazhak...  Trivandraum   \n",
       "165418  2 BHK Residential Apartment for rent in Vattiy...  Trivandraum   \n",
       "165419     4 Bedroom Independent House for rent in Pattom  Trivandraum   \n",
       "165420  4 Bedroom Independent House for rent in Kallam...  Trivandraum   \n",
       "\n",
       "                aptrent              deposit_inr rent/month  \n",
       "0       ₹ 17,500 /month          Deposit ₹ 75000    17,500   \n",
       "1       ₹ 75,000 /month         Deposit ₹ 400000    75,000   \n",
       "2       ₹ 60,000 /month         Deposit ₹ 200000    60,000   \n",
       "3       ₹ 52,000 /month         Deposit ₹ 300000    52,000   \n",
       "4       ₹ 30,000 /month         Deposit ₹ 150000    30,000   \n",
       "...                 ...                      ...        ...  \n",
       "165416  ₹ 10,000 /month          Deposit ₹ 25000    10,000   \n",
       "165417  ₹ 21,000 /month          Deposit ₹ 50000    21,000   \n",
       "165418  ₹ 10,000 /month          Deposit ₹ 30000    10,000   \n",
       "165419  ₹ 33,000 /month         Deposit ₹ 150000    33,000   \n",
       "165420   ₹ 8,000 /month  Deposit 3 month(s) rent     8,000   \n",
       "\n",
       "[165421 rows x 7 columns]"
      ]
     },
     "execution_count": 29,
     "metadata": {},
     "output_type": "execute_result"
    }
   ],
   "source": [
    "nd=nd.drop([\"month\"],axis=1)\n",
    "nd=nd.drop([\"rn\"],axis=1)\n",
    "nd=nd.drop([\"aptrent/month\"],axis=1)\n",
    "nd=nd.drop([\"arent/month\"],axis=1)\n",
    "nd=nd.drop([\"sq\"],axis=1)\n",
    "nd=nd.drop([\"xrent/month\"],axis=1)\n",
    "nd=nd.drop([\"rq\"],axis=1)\n",
    "nd\n"
   ]
  },
  {
   "cell_type": "code",
   "execution_count": 30,
   "id": "869be29a",
   "metadata": {},
   "outputs": [
    {
     "data": {
      "text/html": [
       "<div>\n",
       "<style scoped>\n",
       "    .dataframe tbody tr th:only-of-type {\n",
       "        vertical-align: middle;\n",
       "    }\n",
       "\n",
       "    .dataframe tbody tr th {\n",
       "        vertical-align: top;\n",
       "    }\n",
       "\n",
       "    .dataframe thead th {\n",
       "        text-align: right;\n",
       "    }\n",
       "</style>\n",
       "<table border=\"1\" class=\"dataframe\">\n",
       "  <thead>\n",
       "    <tr style=\"text-align: right;\">\n",
       "      <th></th>\n",
       "      <th>BHK</th>\n",
       "      <th>sq_ft</th>\n",
       "      <th>description</th>\n",
       "      <th>city</th>\n",
       "      <th>deposit_inr</th>\n",
       "      <th>rent/month</th>\n",
       "    </tr>\n",
       "  </thead>\n",
       "  <tbody>\n",
       "    <tr>\n",
       "      <th>0</th>\n",
       "      <td>1 BHK\\n2 Baths</td>\n",
       "      <td>470 sq.ft.\\n(44 sq.m.) Carpet Area</td>\n",
       "      <td>1 BHK Residential Apartment for rent in Kolshe...</td>\n",
       "      <td>mumbai</td>\n",
       "      <td>Deposit ₹ 75000</td>\n",
       "      <td>17,500</td>\n",
       "    </tr>\n",
       "    <tr>\n",
       "      <th>1</th>\n",
       "      <td>3 BHK\\n3 Baths</td>\n",
       "      <td>1,800 sq.ft.\\n(167 sq.m.) Super built-up Area</td>\n",
       "      <td>3 BHK Residential Apartment for rent in Sector...</td>\n",
       "      <td>mumbai</td>\n",
       "      <td>Deposit ₹ 400000</td>\n",
       "      <td>75,000</td>\n",
       "    </tr>\n",
       "    <tr>\n",
       "      <th>2</th>\n",
       "      <td>2 BHK\\n2 Baths</td>\n",
       "      <td>950 sq.ft.\\n(88 sq.m.) Super built-up Area</td>\n",
       "      <td>2 BHK Residential Apartment for rent in Wadala</td>\n",
       "      <td>mumbai</td>\n",
       "      <td>Deposit ₹ 200000</td>\n",
       "      <td>60,000</td>\n",
       "    </tr>\n",
       "    <tr>\n",
       "      <th>3</th>\n",
       "      <td>3 BHK\\n3 Baths</td>\n",
       "      <td>1,300 sq.ft.\\n(121 sq.m.) Carpet Area</td>\n",
       "      <td>3 BHK Residential Apartment for rent in Hirana...</td>\n",
       "      <td>mumbai</td>\n",
       "      <td>Deposit ₹ 300000</td>\n",
       "      <td>52,000</td>\n",
       "    </tr>\n",
       "    <tr>\n",
       "      <th>4</th>\n",
       "      <td>1 BHK\\n1 Bath</td>\n",
       "      <td>550 sq.ft.\\n(51 sq.m.) Built-up Area</td>\n",
       "      <td>1 BHK Residential Apartment for rent in Kanjur...</td>\n",
       "      <td>mumbai</td>\n",
       "      <td>Deposit ₹ 150000</td>\n",
       "      <td>30,000</td>\n",
       "    </tr>\n",
       "  </tbody>\n",
       "</table>\n",
       "</div>"
      ],
      "text/plain": [
       "              BHK                                          sq_ft  \\\n",
       "0  1 BHK\\n2 Baths             470 sq.ft.\\n(44 sq.m.) Carpet Area   \n",
       "1  3 BHK\\n3 Baths  1,800 sq.ft.\\n(167 sq.m.) Super built-up Area   \n",
       "2  2 BHK\\n2 Baths     950 sq.ft.\\n(88 sq.m.) Super built-up Area   \n",
       "3  3 BHK\\n3 Baths          1,300 sq.ft.\\n(121 sq.m.) Carpet Area   \n",
       "4   1 BHK\\n1 Bath           550 sq.ft.\\n(51 sq.m.) Built-up Area   \n",
       "\n",
       "                                         description    city  \\\n",
       "0  1 BHK Residential Apartment for rent in Kolshe...  mumbai   \n",
       "1  3 BHK Residential Apartment for rent in Sector...  mumbai   \n",
       "2     2 BHK Residential Apartment for rent in Wadala  mumbai   \n",
       "3  3 BHK Residential Apartment for rent in Hirana...  mumbai   \n",
       "4  1 BHK Residential Apartment for rent in Kanjur...  mumbai   \n",
       "\n",
       "        deposit_inr rent/month  \n",
       "0   Deposit ₹ 75000    17,500   \n",
       "1  Deposit ₹ 400000    75,000   \n",
       "2  Deposit ₹ 200000    60,000   \n",
       "3  Deposit ₹ 300000    52,000   \n",
       "4  Deposit ₹ 150000    30,000   "
      ]
     },
     "execution_count": 30,
     "metadata": {},
     "output_type": "execute_result"
    }
   ],
   "source": [
    "nd=nd.drop([\"aptrent\"],axis=1)\n",
    "nd.head()"
   ]
  },
  {
   "cell_type": "code",
   "execution_count": 31,
   "id": "79d014be",
   "metadata": {},
   "outputs": [],
   "source": [
    "nd[['tt','deposit ₹']]=nd[\"deposit_inr\"].str.split(\"Deposit ₹\",n=1,expand=True)\n"
   ]
  },
  {
   "cell_type": "code",
   "execution_count": 32,
   "id": "eaffe97b",
   "metadata": {},
   "outputs": [
    {
     "data": {
      "text/html": [
       "<div>\n",
       "<style scoped>\n",
       "    .dataframe tbody tr th:only-of-type {\n",
       "        vertical-align: middle;\n",
       "    }\n",
       "\n",
       "    .dataframe tbody tr th {\n",
       "        vertical-align: top;\n",
       "    }\n",
       "\n",
       "    .dataframe thead th {\n",
       "        text-align: right;\n",
       "    }\n",
       "</style>\n",
       "<table border=\"1\" class=\"dataframe\">\n",
       "  <thead>\n",
       "    <tr style=\"text-align: right;\">\n",
       "      <th></th>\n",
       "      <th>tt</th>\n",
       "      <th>deposit ₹</th>\n",
       "    </tr>\n",
       "  </thead>\n",
       "  <tbody>\n",
       "    <tr>\n",
       "      <th>0</th>\n",
       "      <td></td>\n",
       "      <td>75000</td>\n",
       "    </tr>\n",
       "    <tr>\n",
       "      <th>1</th>\n",
       "      <td></td>\n",
       "      <td>400000</td>\n",
       "    </tr>\n",
       "    <tr>\n",
       "      <th>2</th>\n",
       "      <td></td>\n",
       "      <td>200000</td>\n",
       "    </tr>\n",
       "    <tr>\n",
       "      <th>3</th>\n",
       "      <td></td>\n",
       "      <td>300000</td>\n",
       "    </tr>\n",
       "    <tr>\n",
       "      <th>4</th>\n",
       "      <td></td>\n",
       "      <td>150000</td>\n",
       "    </tr>\n",
       "    <tr>\n",
       "      <th>...</th>\n",
       "      <td>...</td>\n",
       "      <td>...</td>\n",
       "    </tr>\n",
       "    <tr>\n",
       "      <th>165416</th>\n",
       "      <td></td>\n",
       "      <td>25000</td>\n",
       "    </tr>\n",
       "    <tr>\n",
       "      <th>165417</th>\n",
       "      <td></td>\n",
       "      <td>50000</td>\n",
       "    </tr>\n",
       "    <tr>\n",
       "      <th>165418</th>\n",
       "      <td></td>\n",
       "      <td>30000</td>\n",
       "    </tr>\n",
       "    <tr>\n",
       "      <th>165419</th>\n",
       "      <td></td>\n",
       "      <td>150000</td>\n",
       "    </tr>\n",
       "    <tr>\n",
       "      <th>165420</th>\n",
       "      <td>Deposit 3 month(s) rent</td>\n",
       "      <td>None</td>\n",
       "    </tr>\n",
       "  </tbody>\n",
       "</table>\n",
       "<p>165421 rows × 2 columns</p>\n",
       "</div>"
      ],
      "text/plain": [
       "                             tt deposit ₹\n",
       "0                                   75000\n",
       "1                                  400000\n",
       "2                                  200000\n",
       "3                                  300000\n",
       "4                                  150000\n",
       "...                         ...       ...\n",
       "165416                              25000\n",
       "165417                              50000\n",
       "165418                              30000\n",
       "165419                             150000\n",
       "165420  Deposit 3 month(s) rent      None\n",
       "\n",
       "[165421 rows x 2 columns]"
      ]
     },
     "execution_count": 32,
     "metadata": {},
     "output_type": "execute_result"
    }
   ],
   "source": [
    "nd[['tt','deposit ₹']]"
   ]
  },
  {
   "cell_type": "code",
   "execution_count": 33,
   "id": "5f3e1a24",
   "metadata": {},
   "outputs": [],
   "source": [
    "nd=nd.drop([\"tt\"],axis=1)\n"
   ]
  },
  {
   "cell_type": "code",
   "execution_count": 34,
   "id": "8b2a3fb7",
   "metadata": {},
   "outputs": [
    {
     "data": {
      "text/html": [
       "<div>\n",
       "<style scoped>\n",
       "    .dataframe tbody tr th:only-of-type {\n",
       "        vertical-align: middle;\n",
       "    }\n",
       "\n",
       "    .dataframe tbody tr th {\n",
       "        vertical-align: top;\n",
       "    }\n",
       "\n",
       "    .dataframe thead th {\n",
       "        text-align: right;\n",
       "    }\n",
       "</style>\n",
       "<table border=\"1\" class=\"dataframe\">\n",
       "  <thead>\n",
       "    <tr style=\"text-align: right;\">\n",
       "      <th></th>\n",
       "      <th>BHK</th>\n",
       "      <th>sq_ft</th>\n",
       "      <th>description</th>\n",
       "      <th>city</th>\n",
       "      <th>rent/month</th>\n",
       "      <th>deposit ₹</th>\n",
       "    </tr>\n",
       "  </thead>\n",
       "  <tbody>\n",
       "    <tr>\n",
       "      <th>0</th>\n",
       "      <td>1 BHK\\n2 Baths</td>\n",
       "      <td>470 sq.ft.\\n(44 sq.m.) Carpet Area</td>\n",
       "      <td>1 BHK Residential Apartment for rent in Kolshe...</td>\n",
       "      <td>mumbai</td>\n",
       "      <td>17,500</td>\n",
       "      <td>75000</td>\n",
       "    </tr>\n",
       "    <tr>\n",
       "      <th>1</th>\n",
       "      <td>3 BHK\\n3 Baths</td>\n",
       "      <td>1,800 sq.ft.\\n(167 sq.m.) Super built-up Area</td>\n",
       "      <td>3 BHK Residential Apartment for rent in Sector...</td>\n",
       "      <td>mumbai</td>\n",
       "      <td>75,000</td>\n",
       "      <td>400000</td>\n",
       "    </tr>\n",
       "    <tr>\n",
       "      <th>2</th>\n",
       "      <td>2 BHK\\n2 Baths</td>\n",
       "      <td>950 sq.ft.\\n(88 sq.m.) Super built-up Area</td>\n",
       "      <td>2 BHK Residential Apartment for rent in Wadala</td>\n",
       "      <td>mumbai</td>\n",
       "      <td>60,000</td>\n",
       "      <td>200000</td>\n",
       "    </tr>\n",
       "    <tr>\n",
       "      <th>3</th>\n",
       "      <td>3 BHK\\n3 Baths</td>\n",
       "      <td>1,300 sq.ft.\\n(121 sq.m.) Carpet Area</td>\n",
       "      <td>3 BHK Residential Apartment for rent in Hirana...</td>\n",
       "      <td>mumbai</td>\n",
       "      <td>52,000</td>\n",
       "      <td>300000</td>\n",
       "    </tr>\n",
       "    <tr>\n",
       "      <th>4</th>\n",
       "      <td>1 BHK\\n1 Bath</td>\n",
       "      <td>550 sq.ft.\\n(51 sq.m.) Built-up Area</td>\n",
       "      <td>1 BHK Residential Apartment for rent in Kanjur...</td>\n",
       "      <td>mumbai</td>\n",
       "      <td>30,000</td>\n",
       "      <td>150000</td>\n",
       "    </tr>\n",
       "    <tr>\n",
       "      <th>...</th>\n",
       "      <td>...</td>\n",
       "      <td>...</td>\n",
       "      <td>...</td>\n",
       "      <td>...</td>\n",
       "      <td>...</td>\n",
       "      <td>...</td>\n",
       "    </tr>\n",
       "    <tr>\n",
       "      <th>165416</th>\n",
       "      <td>2 BHK\\n3 Baths</td>\n",
       "      <td>1,200 sq.ft.\\n(111 sq.m.) Built-up Area</td>\n",
       "      <td>2 BHK Independent Builder Floor for rent in An...</td>\n",
       "      <td>Trivandraum</td>\n",
       "      <td>10,000</td>\n",
       "      <td>25000</td>\n",
       "    </tr>\n",
       "    <tr>\n",
       "      <th>165417</th>\n",
       "      <td>2 BHK\\n2 Baths</td>\n",
       "      <td>1,155 sq.ft.\\n(107 sq.m.) Carpet Area</td>\n",
       "      <td>2 BHK Residential Apartment for rent in Kazhak...</td>\n",
       "      <td>Trivandraum</td>\n",
       "      <td>21,000</td>\n",
       "      <td>50000</td>\n",
       "    </tr>\n",
       "    <tr>\n",
       "      <th>165418</th>\n",
       "      <td>2 BHK\\n2 Baths</td>\n",
       "      <td>861 sq.ft.\\n(80 sq.m.) Built-up Area</td>\n",
       "      <td>2 BHK Residential Apartment for rent in Vattiy...</td>\n",
       "      <td>Trivandraum</td>\n",
       "      <td>10,000</td>\n",
       "      <td>30000</td>\n",
       "    </tr>\n",
       "    <tr>\n",
       "      <th>165419</th>\n",
       "      <td>4 BHK\\n5 Baths</td>\n",
       "      <td>3,200 sq.ft.\\n(297 sq.m.) Plot Area</td>\n",
       "      <td>4 Bedroom Independent House for rent in Pattom</td>\n",
       "      <td>Trivandraum</td>\n",
       "      <td>33,000</td>\n",
       "      <td>150000</td>\n",
       "    </tr>\n",
       "    <tr>\n",
       "      <th>165420</th>\n",
       "      <td>4 BHK\\n5 Baths</td>\n",
       "      <td>2,178 sq.ft.\\n(202 sq.m.) Plot Area</td>\n",
       "      <td>4 Bedroom Independent House for rent in Kallam...</td>\n",
       "      <td>Trivandraum</td>\n",
       "      <td>8,000</td>\n",
       "      <td>None</td>\n",
       "    </tr>\n",
       "  </tbody>\n",
       "</table>\n",
       "<p>165421 rows × 6 columns</p>\n",
       "</div>"
      ],
      "text/plain": [
       "                   BHK                                          sq_ft  \\\n",
       "0       1 BHK\\n2 Baths             470 sq.ft.\\n(44 sq.m.) Carpet Area   \n",
       "1       3 BHK\\n3 Baths  1,800 sq.ft.\\n(167 sq.m.) Super built-up Area   \n",
       "2       2 BHK\\n2 Baths     950 sq.ft.\\n(88 sq.m.) Super built-up Area   \n",
       "3       3 BHK\\n3 Baths          1,300 sq.ft.\\n(121 sq.m.) Carpet Area   \n",
       "4        1 BHK\\n1 Bath           550 sq.ft.\\n(51 sq.m.) Built-up Area   \n",
       "...                ...                                            ...   \n",
       "165416  2 BHK\\n3 Baths        1,200 sq.ft.\\n(111 sq.m.) Built-up Area   \n",
       "165417  2 BHK\\n2 Baths          1,155 sq.ft.\\n(107 sq.m.) Carpet Area   \n",
       "165418  2 BHK\\n2 Baths           861 sq.ft.\\n(80 sq.m.) Built-up Area   \n",
       "165419  4 BHK\\n5 Baths            3,200 sq.ft.\\n(297 sq.m.) Plot Area   \n",
       "165420  4 BHK\\n5 Baths            2,178 sq.ft.\\n(202 sq.m.) Plot Area   \n",
       "\n",
       "                                              description         city  \\\n",
       "0       1 BHK Residential Apartment for rent in Kolshe...       mumbai   \n",
       "1       3 BHK Residential Apartment for rent in Sector...       mumbai   \n",
       "2          2 BHK Residential Apartment for rent in Wadala       mumbai   \n",
       "3       3 BHK Residential Apartment for rent in Hirana...       mumbai   \n",
       "4       1 BHK Residential Apartment for rent in Kanjur...       mumbai   \n",
       "...                                                   ...          ...   \n",
       "165416  2 BHK Independent Builder Floor for rent in An...  Trivandraum   \n",
       "165417  2 BHK Residential Apartment for rent in Kazhak...  Trivandraum   \n",
       "165418  2 BHK Residential Apartment for rent in Vattiy...  Trivandraum   \n",
       "165419     4 Bedroom Independent House for rent in Pattom  Trivandraum   \n",
       "165420  4 Bedroom Independent House for rent in Kallam...  Trivandraum   \n",
       "\n",
       "       rent/month deposit ₹  \n",
       "0         17,500      75000  \n",
       "1         75,000     400000  \n",
       "2         60,000     200000  \n",
       "3         52,000     300000  \n",
       "4         30,000     150000  \n",
       "...           ...       ...  \n",
       "165416    10,000      25000  \n",
       "165417    21,000      50000  \n",
       "165418    10,000      30000  \n",
       "165419    33,000     150000  \n",
       "165420     8,000       None  \n",
       "\n",
       "[165421 rows x 6 columns]"
      ]
     },
     "execution_count": 34,
     "metadata": {},
     "output_type": "execute_result"
    }
   ],
   "source": [
    "nd=nd.drop([\"deposit_inr\"],axis=1)\n",
    "nd"
   ]
  },
  {
   "cell_type": "code",
   "execution_count": 35,
   "id": "fc0ddceb",
   "metadata": {},
   "outputs": [],
   "source": [
    "nd[['bdrms','btrms']]=nd[\"BHK\"].str.split(\"\\n\",n=1,expand=True)\n"
   ]
  },
  {
   "cell_type": "code",
   "execution_count": 36,
   "id": "9de467fa",
   "metadata": {},
   "outputs": [
    {
     "data": {
      "text/html": [
       "<div>\n",
       "<style scoped>\n",
       "    .dataframe tbody tr th:only-of-type {\n",
       "        vertical-align: middle;\n",
       "    }\n",
       "\n",
       "    .dataframe tbody tr th {\n",
       "        vertical-align: top;\n",
       "    }\n",
       "\n",
       "    .dataframe thead th {\n",
       "        text-align: right;\n",
       "    }\n",
       "</style>\n",
       "<table border=\"1\" class=\"dataframe\">\n",
       "  <thead>\n",
       "    <tr style=\"text-align: right;\">\n",
       "      <th></th>\n",
       "      <th>bdrms</th>\n",
       "      <th>btrms</th>\n",
       "    </tr>\n",
       "  </thead>\n",
       "  <tbody>\n",
       "    <tr>\n",
       "      <th>0</th>\n",
       "      <td>1 BHK</td>\n",
       "      <td>2 Baths</td>\n",
       "    </tr>\n",
       "    <tr>\n",
       "      <th>1</th>\n",
       "      <td>3 BHK</td>\n",
       "      <td>3 Baths</td>\n",
       "    </tr>\n",
       "    <tr>\n",
       "      <th>2</th>\n",
       "      <td>2 BHK</td>\n",
       "      <td>2 Baths</td>\n",
       "    </tr>\n",
       "    <tr>\n",
       "      <th>3</th>\n",
       "      <td>3 BHK</td>\n",
       "      <td>3 Baths</td>\n",
       "    </tr>\n",
       "    <tr>\n",
       "      <th>4</th>\n",
       "      <td>1 BHK</td>\n",
       "      <td>1 Bath</td>\n",
       "    </tr>\n",
       "    <tr>\n",
       "      <th>...</th>\n",
       "      <td>...</td>\n",
       "      <td>...</td>\n",
       "    </tr>\n",
       "    <tr>\n",
       "      <th>165416</th>\n",
       "      <td>2 BHK</td>\n",
       "      <td>3 Baths</td>\n",
       "    </tr>\n",
       "    <tr>\n",
       "      <th>165417</th>\n",
       "      <td>2 BHK</td>\n",
       "      <td>2 Baths</td>\n",
       "    </tr>\n",
       "    <tr>\n",
       "      <th>165418</th>\n",
       "      <td>2 BHK</td>\n",
       "      <td>2 Baths</td>\n",
       "    </tr>\n",
       "    <tr>\n",
       "      <th>165419</th>\n",
       "      <td>4 BHK</td>\n",
       "      <td>5 Baths</td>\n",
       "    </tr>\n",
       "    <tr>\n",
       "      <th>165420</th>\n",
       "      <td>4 BHK</td>\n",
       "      <td>5 Baths</td>\n",
       "    </tr>\n",
       "  </tbody>\n",
       "</table>\n",
       "<p>165421 rows × 2 columns</p>\n",
       "</div>"
      ],
      "text/plain": [
       "        bdrms    btrms\n",
       "0       1 BHK  2 Baths\n",
       "1       3 BHK  3 Baths\n",
       "2       2 BHK  2 Baths\n",
       "3       3 BHK  3 Baths\n",
       "4       1 BHK   1 Bath\n",
       "...       ...      ...\n",
       "165416  2 BHK  3 Baths\n",
       "165417  2 BHK  2 Baths\n",
       "165418  2 BHK  2 Baths\n",
       "165419  4 BHK  5 Baths\n",
       "165420  4 BHK  5 Baths\n",
       "\n",
       "[165421 rows x 2 columns]"
      ]
     },
     "execution_count": 36,
     "metadata": {},
     "output_type": "execute_result"
    }
   ],
   "source": [
    "nd[['bdrms','btrms']]"
   ]
  },
  {
   "cell_type": "code",
   "execution_count": 37,
   "id": "e2721f84",
   "metadata": {},
   "outputs": [],
   "source": [
    "nd[['beds','bt']]=nd[\"bdrms\"].str.split(\"BHK\",n=1,expand=True)"
   ]
  },
  {
   "cell_type": "code",
   "execution_count": 38,
   "id": "b580d9b1",
   "metadata": {},
   "outputs": [
    {
     "data": {
      "text/html": [
       "<div>\n",
       "<style scoped>\n",
       "    .dataframe tbody tr th:only-of-type {\n",
       "        vertical-align: middle;\n",
       "    }\n",
       "\n",
       "    .dataframe tbody tr th {\n",
       "        vertical-align: top;\n",
       "    }\n",
       "\n",
       "    .dataframe thead th {\n",
       "        text-align: right;\n",
       "    }\n",
       "</style>\n",
       "<table border=\"1\" class=\"dataframe\">\n",
       "  <thead>\n",
       "    <tr style=\"text-align: right;\">\n",
       "      <th></th>\n",
       "      <th>beds</th>\n",
       "      <th>bt</th>\n",
       "    </tr>\n",
       "  </thead>\n",
       "  <tbody>\n",
       "    <tr>\n",
       "      <th>0</th>\n",
       "      <td>1</td>\n",
       "      <td></td>\n",
       "    </tr>\n",
       "    <tr>\n",
       "      <th>1</th>\n",
       "      <td>3</td>\n",
       "      <td></td>\n",
       "    </tr>\n",
       "    <tr>\n",
       "      <th>2</th>\n",
       "      <td>2</td>\n",
       "      <td></td>\n",
       "    </tr>\n",
       "    <tr>\n",
       "      <th>3</th>\n",
       "      <td>3</td>\n",
       "      <td></td>\n",
       "    </tr>\n",
       "    <tr>\n",
       "      <th>4</th>\n",
       "      <td>1</td>\n",
       "      <td></td>\n",
       "    </tr>\n",
       "    <tr>\n",
       "      <th>...</th>\n",
       "      <td>...</td>\n",
       "      <td>...</td>\n",
       "    </tr>\n",
       "    <tr>\n",
       "      <th>165416</th>\n",
       "      <td>2</td>\n",
       "      <td></td>\n",
       "    </tr>\n",
       "    <tr>\n",
       "      <th>165417</th>\n",
       "      <td>2</td>\n",
       "      <td></td>\n",
       "    </tr>\n",
       "    <tr>\n",
       "      <th>165418</th>\n",
       "      <td>2</td>\n",
       "      <td></td>\n",
       "    </tr>\n",
       "    <tr>\n",
       "      <th>165419</th>\n",
       "      <td>4</td>\n",
       "      <td></td>\n",
       "    </tr>\n",
       "    <tr>\n",
       "      <th>165420</th>\n",
       "      <td>4</td>\n",
       "      <td></td>\n",
       "    </tr>\n",
       "  </tbody>\n",
       "</table>\n",
       "<p>165421 rows × 2 columns</p>\n",
       "</div>"
      ],
      "text/plain": [
       "       beds bt\n",
       "0        1    \n",
       "1        3    \n",
       "2        2    \n",
       "3        3    \n",
       "4        1    \n",
       "...     ... ..\n",
       "165416   2    \n",
       "165417   2    \n",
       "165418   2    \n",
       "165419   4    \n",
       "165420   4    \n",
       "\n",
       "[165421 rows x 2 columns]"
      ]
     },
     "execution_count": 38,
     "metadata": {},
     "output_type": "execute_result"
    }
   ],
   "source": [
    "nd[['beds','bt']]\n"
   ]
  },
  {
   "cell_type": "code",
   "execution_count": 39,
   "id": "2b00a804",
   "metadata": {},
   "outputs": [],
   "source": [
    "nd[['ms','ns']]=nd[\"beds\"].str.split(\"RK\",n=1,expand=True)"
   ]
  },
  {
   "cell_type": "code",
   "execution_count": 40,
   "id": "e719b442",
   "metadata": {},
   "outputs": [
    {
     "data": {
      "text/html": [
       "<div>\n",
       "<style scoped>\n",
       "    .dataframe tbody tr th:only-of-type {\n",
       "        vertical-align: middle;\n",
       "    }\n",
       "\n",
       "    .dataframe tbody tr th {\n",
       "        vertical-align: top;\n",
       "    }\n",
       "\n",
       "    .dataframe thead th {\n",
       "        text-align: right;\n",
       "    }\n",
       "</style>\n",
       "<table border=\"1\" class=\"dataframe\">\n",
       "  <thead>\n",
       "    <tr style=\"text-align: right;\">\n",
       "      <th></th>\n",
       "      <th>ms</th>\n",
       "      <th>ns</th>\n",
       "    </tr>\n",
       "  </thead>\n",
       "  <tbody>\n",
       "    <tr>\n",
       "      <th>0</th>\n",
       "      <td>1</td>\n",
       "      <td>None</td>\n",
       "    </tr>\n",
       "    <tr>\n",
       "      <th>1</th>\n",
       "      <td>3</td>\n",
       "      <td>None</td>\n",
       "    </tr>\n",
       "    <tr>\n",
       "      <th>2</th>\n",
       "      <td>2</td>\n",
       "      <td>None</td>\n",
       "    </tr>\n",
       "    <tr>\n",
       "      <th>3</th>\n",
       "      <td>3</td>\n",
       "      <td>None</td>\n",
       "    </tr>\n",
       "    <tr>\n",
       "      <th>4</th>\n",
       "      <td>1</td>\n",
       "      <td>None</td>\n",
       "    </tr>\n",
       "    <tr>\n",
       "      <th>...</th>\n",
       "      <td>...</td>\n",
       "      <td>...</td>\n",
       "    </tr>\n",
       "    <tr>\n",
       "      <th>165416</th>\n",
       "      <td>2</td>\n",
       "      <td>None</td>\n",
       "    </tr>\n",
       "    <tr>\n",
       "      <th>165417</th>\n",
       "      <td>2</td>\n",
       "      <td>None</td>\n",
       "    </tr>\n",
       "    <tr>\n",
       "      <th>165418</th>\n",
       "      <td>2</td>\n",
       "      <td>None</td>\n",
       "    </tr>\n",
       "    <tr>\n",
       "      <th>165419</th>\n",
       "      <td>4</td>\n",
       "      <td>None</td>\n",
       "    </tr>\n",
       "    <tr>\n",
       "      <th>165420</th>\n",
       "      <td>4</td>\n",
       "      <td>None</td>\n",
       "    </tr>\n",
       "  </tbody>\n",
       "</table>\n",
       "<p>165421 rows × 2 columns</p>\n",
       "</div>"
      ],
      "text/plain": [
       "        ms    ns\n",
       "0       1   None\n",
       "1       3   None\n",
       "2       2   None\n",
       "3       3   None\n",
       "4       1   None\n",
       "...     ..   ...\n",
       "165416  2   None\n",
       "165417  2   None\n",
       "165418  2   None\n",
       "165419  4   None\n",
       "165420  4   None\n",
       "\n",
       "[165421 rows x 2 columns]"
      ]
     },
     "execution_count": 40,
     "metadata": {},
     "output_type": "execute_result"
    }
   ],
   "source": [
    "nd[['ms','ns']]"
   ]
  },
  {
   "cell_type": "code",
   "execution_count": 41,
   "id": "48eac46b",
   "metadata": {},
   "outputs": [],
   "source": [
    "nd=nd.drop([\"ns\"],axis=1)"
   ]
  },
  {
   "cell_type": "code",
   "execution_count": 42,
   "id": "3b5f4f97",
   "metadata": {},
   "outputs": [],
   "source": [
    "nd[['ds','xs']]=nd[\"ms\"].str.split(\"Baths\",n=1,expand=True)"
   ]
  },
  {
   "cell_type": "code",
   "execution_count": 43,
   "id": "3269fa13",
   "metadata": {},
   "outputs": [
    {
     "data": {
      "text/html": [
       "<div>\n",
       "<style scoped>\n",
       "    .dataframe tbody tr th:only-of-type {\n",
       "        vertical-align: middle;\n",
       "    }\n",
       "\n",
       "    .dataframe tbody tr th {\n",
       "        vertical-align: top;\n",
       "    }\n",
       "\n",
       "    .dataframe thead th {\n",
       "        text-align: right;\n",
       "    }\n",
       "</style>\n",
       "<table border=\"1\" class=\"dataframe\">\n",
       "  <thead>\n",
       "    <tr style=\"text-align: right;\">\n",
       "      <th></th>\n",
       "      <th>ds</th>\n",
       "      <th>xs</th>\n",
       "    </tr>\n",
       "  </thead>\n",
       "  <tbody>\n",
       "    <tr>\n",
       "      <th>0</th>\n",
       "      <td>1</td>\n",
       "      <td>None</td>\n",
       "    </tr>\n",
       "    <tr>\n",
       "      <th>1</th>\n",
       "      <td>3</td>\n",
       "      <td>None</td>\n",
       "    </tr>\n",
       "    <tr>\n",
       "      <th>2</th>\n",
       "      <td>2</td>\n",
       "      <td>None</td>\n",
       "    </tr>\n",
       "    <tr>\n",
       "      <th>3</th>\n",
       "      <td>3</td>\n",
       "      <td>None</td>\n",
       "    </tr>\n",
       "    <tr>\n",
       "      <th>4</th>\n",
       "      <td>1</td>\n",
       "      <td>None</td>\n",
       "    </tr>\n",
       "    <tr>\n",
       "      <th>...</th>\n",
       "      <td>...</td>\n",
       "      <td>...</td>\n",
       "    </tr>\n",
       "    <tr>\n",
       "      <th>165416</th>\n",
       "      <td>2</td>\n",
       "      <td>None</td>\n",
       "    </tr>\n",
       "    <tr>\n",
       "      <th>165417</th>\n",
       "      <td>2</td>\n",
       "      <td>None</td>\n",
       "    </tr>\n",
       "    <tr>\n",
       "      <th>165418</th>\n",
       "      <td>2</td>\n",
       "      <td>None</td>\n",
       "    </tr>\n",
       "    <tr>\n",
       "      <th>165419</th>\n",
       "      <td>4</td>\n",
       "      <td>None</td>\n",
       "    </tr>\n",
       "    <tr>\n",
       "      <th>165420</th>\n",
       "      <td>4</td>\n",
       "      <td>None</td>\n",
       "    </tr>\n",
       "  </tbody>\n",
       "</table>\n",
       "<p>165421 rows × 2 columns</p>\n",
       "</div>"
      ],
      "text/plain": [
       "        ds    xs\n",
       "0       1   None\n",
       "1       3   None\n",
       "2       2   None\n",
       "3       3   None\n",
       "4       1   None\n",
       "...     ..   ...\n",
       "165416  2   None\n",
       "165417  2   None\n",
       "165418  2   None\n",
       "165419  4   None\n",
       "165420  4   None\n",
       "\n",
       "[165421 rows x 2 columns]"
      ]
     },
     "execution_count": 43,
     "metadata": {},
     "output_type": "execute_result"
    }
   ],
   "source": [
    "nd[['ds','xs']]"
   ]
  },
  {
   "cell_type": "code",
   "execution_count": 44,
   "id": "eec2f49a",
   "metadata": {},
   "outputs": [],
   "source": [
    "nd=nd.drop([\"xs\"],axis=1)"
   ]
  },
  {
   "cell_type": "code",
   "execution_count": 45,
   "id": "ac7e9c78",
   "metadata": {},
   "outputs": [],
   "source": [
    "nd[['bedrooms','ps']]=nd[\"ms\"].str.split(\"Bath\",n=1,expand=True)"
   ]
  },
  {
   "cell_type": "code",
   "execution_count": 46,
   "id": "ce65bf33",
   "metadata": {},
   "outputs": [
    {
     "data": {
      "text/html": [
       "<div>\n",
       "<style scoped>\n",
       "    .dataframe tbody tr th:only-of-type {\n",
       "        vertical-align: middle;\n",
       "    }\n",
       "\n",
       "    .dataframe tbody tr th {\n",
       "        vertical-align: top;\n",
       "    }\n",
       "\n",
       "    .dataframe thead th {\n",
       "        text-align: right;\n",
       "    }\n",
       "</style>\n",
       "<table border=\"1\" class=\"dataframe\">\n",
       "  <thead>\n",
       "    <tr style=\"text-align: right;\">\n",
       "      <th></th>\n",
       "      <th>bedrooms</th>\n",
       "      <th>ps</th>\n",
       "    </tr>\n",
       "  </thead>\n",
       "  <tbody>\n",
       "    <tr>\n",
       "      <th>0</th>\n",
       "      <td>1</td>\n",
       "      <td>None</td>\n",
       "    </tr>\n",
       "    <tr>\n",
       "      <th>1</th>\n",
       "      <td>3</td>\n",
       "      <td>None</td>\n",
       "    </tr>\n",
       "    <tr>\n",
       "      <th>2</th>\n",
       "      <td>2</td>\n",
       "      <td>None</td>\n",
       "    </tr>\n",
       "    <tr>\n",
       "      <th>3</th>\n",
       "      <td>3</td>\n",
       "      <td>None</td>\n",
       "    </tr>\n",
       "    <tr>\n",
       "      <th>4</th>\n",
       "      <td>1</td>\n",
       "      <td>None</td>\n",
       "    </tr>\n",
       "    <tr>\n",
       "      <th>...</th>\n",
       "      <td>...</td>\n",
       "      <td>...</td>\n",
       "    </tr>\n",
       "    <tr>\n",
       "      <th>165416</th>\n",
       "      <td>2</td>\n",
       "      <td>None</td>\n",
       "    </tr>\n",
       "    <tr>\n",
       "      <th>165417</th>\n",
       "      <td>2</td>\n",
       "      <td>None</td>\n",
       "    </tr>\n",
       "    <tr>\n",
       "      <th>165418</th>\n",
       "      <td>2</td>\n",
       "      <td>None</td>\n",
       "    </tr>\n",
       "    <tr>\n",
       "      <th>165419</th>\n",
       "      <td>4</td>\n",
       "      <td>None</td>\n",
       "    </tr>\n",
       "    <tr>\n",
       "      <th>165420</th>\n",
       "      <td>4</td>\n",
       "      <td>None</td>\n",
       "    </tr>\n",
       "  </tbody>\n",
       "</table>\n",
       "<p>165421 rows × 2 columns</p>\n",
       "</div>"
      ],
      "text/plain": [
       "       bedrooms    ps\n",
       "0            1   None\n",
       "1            3   None\n",
       "2            2   None\n",
       "3            3   None\n",
       "4            1   None\n",
       "...         ...   ...\n",
       "165416       2   None\n",
       "165417       2   None\n",
       "165418       2   None\n",
       "165419       4   None\n",
       "165420       4   None\n",
       "\n",
       "[165421 rows x 2 columns]"
      ]
     },
     "execution_count": 46,
     "metadata": {},
     "output_type": "execute_result"
    }
   ],
   "source": [
    "nd[['bedrooms','ps']]"
   ]
  },
  {
   "cell_type": "code",
   "execution_count": 47,
   "id": "ae95abd1",
   "metadata": {},
   "outputs": [
    {
     "data": {
      "text/html": [
       "<div>\n",
       "<style scoped>\n",
       "    .dataframe tbody tr th:only-of-type {\n",
       "        vertical-align: middle;\n",
       "    }\n",
       "\n",
       "    .dataframe tbody tr th {\n",
       "        vertical-align: top;\n",
       "    }\n",
       "\n",
       "    .dataframe thead th {\n",
       "        text-align: right;\n",
       "    }\n",
       "</style>\n",
       "<table border=\"1\" class=\"dataframe\">\n",
       "  <thead>\n",
       "    <tr style=\"text-align: right;\">\n",
       "      <th></th>\n",
       "      <th>BHK</th>\n",
       "      <th>sq_ft</th>\n",
       "      <th>description</th>\n",
       "      <th>city</th>\n",
       "      <th>rent/month</th>\n",
       "      <th>deposit ₹</th>\n",
       "      <th>bdrms</th>\n",
       "      <th>btrms</th>\n",
       "      <th>bt</th>\n",
       "      <th>bedrooms</th>\n",
       "    </tr>\n",
       "  </thead>\n",
       "  <tbody>\n",
       "    <tr>\n",
       "      <th>0</th>\n",
       "      <td>1 BHK\\n2 Baths</td>\n",
       "      <td>470 sq.ft.\\n(44 sq.m.) Carpet Area</td>\n",
       "      <td>1 BHK Residential Apartment for rent in Kolshe...</td>\n",
       "      <td>mumbai</td>\n",
       "      <td>17,500</td>\n",
       "      <td>75000</td>\n",
       "      <td>1 BHK</td>\n",
       "      <td>2 Baths</td>\n",
       "      <td></td>\n",
       "      <td>1</td>\n",
       "    </tr>\n",
       "    <tr>\n",
       "      <th>1</th>\n",
       "      <td>3 BHK\\n3 Baths</td>\n",
       "      <td>1,800 sq.ft.\\n(167 sq.m.) Super built-up Area</td>\n",
       "      <td>3 BHK Residential Apartment for rent in Sector...</td>\n",
       "      <td>mumbai</td>\n",
       "      <td>75,000</td>\n",
       "      <td>400000</td>\n",
       "      <td>3 BHK</td>\n",
       "      <td>3 Baths</td>\n",
       "      <td></td>\n",
       "      <td>3</td>\n",
       "    </tr>\n",
       "    <tr>\n",
       "      <th>2</th>\n",
       "      <td>2 BHK\\n2 Baths</td>\n",
       "      <td>950 sq.ft.\\n(88 sq.m.) Super built-up Area</td>\n",
       "      <td>2 BHK Residential Apartment for rent in Wadala</td>\n",
       "      <td>mumbai</td>\n",
       "      <td>60,000</td>\n",
       "      <td>200000</td>\n",
       "      <td>2 BHK</td>\n",
       "      <td>2 Baths</td>\n",
       "      <td></td>\n",
       "      <td>2</td>\n",
       "    </tr>\n",
       "    <tr>\n",
       "      <th>3</th>\n",
       "      <td>3 BHK\\n3 Baths</td>\n",
       "      <td>1,300 sq.ft.\\n(121 sq.m.) Carpet Area</td>\n",
       "      <td>3 BHK Residential Apartment for rent in Hirana...</td>\n",
       "      <td>mumbai</td>\n",
       "      <td>52,000</td>\n",
       "      <td>300000</td>\n",
       "      <td>3 BHK</td>\n",
       "      <td>3 Baths</td>\n",
       "      <td></td>\n",
       "      <td>3</td>\n",
       "    </tr>\n",
       "    <tr>\n",
       "      <th>4</th>\n",
       "      <td>1 BHK\\n1 Bath</td>\n",
       "      <td>550 sq.ft.\\n(51 sq.m.) Built-up Area</td>\n",
       "      <td>1 BHK Residential Apartment for rent in Kanjur...</td>\n",
       "      <td>mumbai</td>\n",
       "      <td>30,000</td>\n",
       "      <td>150000</td>\n",
       "      <td>1 BHK</td>\n",
       "      <td>1 Bath</td>\n",
       "      <td></td>\n",
       "      <td>1</td>\n",
       "    </tr>\n",
       "    <tr>\n",
       "      <th>...</th>\n",
       "      <td>...</td>\n",
       "      <td>...</td>\n",
       "      <td>...</td>\n",
       "      <td>...</td>\n",
       "      <td>...</td>\n",
       "      <td>...</td>\n",
       "      <td>...</td>\n",
       "      <td>...</td>\n",
       "      <td>...</td>\n",
       "      <td>...</td>\n",
       "    </tr>\n",
       "    <tr>\n",
       "      <th>165416</th>\n",
       "      <td>2 BHK\\n3 Baths</td>\n",
       "      <td>1,200 sq.ft.\\n(111 sq.m.) Built-up Area</td>\n",
       "      <td>2 BHK Independent Builder Floor for rent in An...</td>\n",
       "      <td>Trivandraum</td>\n",
       "      <td>10,000</td>\n",
       "      <td>25000</td>\n",
       "      <td>2 BHK</td>\n",
       "      <td>3 Baths</td>\n",
       "      <td></td>\n",
       "      <td>2</td>\n",
       "    </tr>\n",
       "    <tr>\n",
       "      <th>165417</th>\n",
       "      <td>2 BHK\\n2 Baths</td>\n",
       "      <td>1,155 sq.ft.\\n(107 sq.m.) Carpet Area</td>\n",
       "      <td>2 BHK Residential Apartment for rent in Kazhak...</td>\n",
       "      <td>Trivandraum</td>\n",
       "      <td>21,000</td>\n",
       "      <td>50000</td>\n",
       "      <td>2 BHK</td>\n",
       "      <td>2 Baths</td>\n",
       "      <td></td>\n",
       "      <td>2</td>\n",
       "    </tr>\n",
       "    <tr>\n",
       "      <th>165418</th>\n",
       "      <td>2 BHK\\n2 Baths</td>\n",
       "      <td>861 sq.ft.\\n(80 sq.m.) Built-up Area</td>\n",
       "      <td>2 BHK Residential Apartment for rent in Vattiy...</td>\n",
       "      <td>Trivandraum</td>\n",
       "      <td>10,000</td>\n",
       "      <td>30000</td>\n",
       "      <td>2 BHK</td>\n",
       "      <td>2 Baths</td>\n",
       "      <td></td>\n",
       "      <td>2</td>\n",
       "    </tr>\n",
       "    <tr>\n",
       "      <th>165419</th>\n",
       "      <td>4 BHK\\n5 Baths</td>\n",
       "      <td>3,200 sq.ft.\\n(297 sq.m.) Plot Area</td>\n",
       "      <td>4 Bedroom Independent House for rent in Pattom</td>\n",
       "      <td>Trivandraum</td>\n",
       "      <td>33,000</td>\n",
       "      <td>150000</td>\n",
       "      <td>4 BHK</td>\n",
       "      <td>5 Baths</td>\n",
       "      <td></td>\n",
       "      <td>4</td>\n",
       "    </tr>\n",
       "    <tr>\n",
       "      <th>165420</th>\n",
       "      <td>4 BHK\\n5 Baths</td>\n",
       "      <td>2,178 sq.ft.\\n(202 sq.m.) Plot Area</td>\n",
       "      <td>4 Bedroom Independent House for rent in Kallam...</td>\n",
       "      <td>Trivandraum</td>\n",
       "      <td>8,000</td>\n",
       "      <td>None</td>\n",
       "      <td>4 BHK</td>\n",
       "      <td>5 Baths</td>\n",
       "      <td></td>\n",
       "      <td>4</td>\n",
       "    </tr>\n",
       "  </tbody>\n",
       "</table>\n",
       "<p>165421 rows × 10 columns</p>\n",
       "</div>"
      ],
      "text/plain": [
       "                   BHK                                          sq_ft  \\\n",
       "0       1 BHK\\n2 Baths             470 sq.ft.\\n(44 sq.m.) Carpet Area   \n",
       "1       3 BHK\\n3 Baths  1,800 sq.ft.\\n(167 sq.m.) Super built-up Area   \n",
       "2       2 BHK\\n2 Baths     950 sq.ft.\\n(88 sq.m.) Super built-up Area   \n",
       "3       3 BHK\\n3 Baths          1,300 sq.ft.\\n(121 sq.m.) Carpet Area   \n",
       "4        1 BHK\\n1 Bath           550 sq.ft.\\n(51 sq.m.) Built-up Area   \n",
       "...                ...                                            ...   \n",
       "165416  2 BHK\\n3 Baths        1,200 sq.ft.\\n(111 sq.m.) Built-up Area   \n",
       "165417  2 BHK\\n2 Baths          1,155 sq.ft.\\n(107 sq.m.) Carpet Area   \n",
       "165418  2 BHK\\n2 Baths           861 sq.ft.\\n(80 sq.m.) Built-up Area   \n",
       "165419  4 BHK\\n5 Baths            3,200 sq.ft.\\n(297 sq.m.) Plot Area   \n",
       "165420  4 BHK\\n5 Baths            2,178 sq.ft.\\n(202 sq.m.) Plot Area   \n",
       "\n",
       "                                              description         city  \\\n",
       "0       1 BHK Residential Apartment for rent in Kolshe...       mumbai   \n",
       "1       3 BHK Residential Apartment for rent in Sector...       mumbai   \n",
       "2          2 BHK Residential Apartment for rent in Wadala       mumbai   \n",
       "3       3 BHK Residential Apartment for rent in Hirana...       mumbai   \n",
       "4       1 BHK Residential Apartment for rent in Kanjur...       mumbai   \n",
       "...                                                   ...          ...   \n",
       "165416  2 BHK Independent Builder Floor for rent in An...  Trivandraum   \n",
       "165417  2 BHK Residential Apartment for rent in Kazhak...  Trivandraum   \n",
       "165418  2 BHK Residential Apartment for rent in Vattiy...  Trivandraum   \n",
       "165419     4 Bedroom Independent House for rent in Pattom  Trivandraum   \n",
       "165420  4 Bedroom Independent House for rent in Kallam...  Trivandraum   \n",
       "\n",
       "       rent/month deposit ₹  bdrms    btrms bt bedrooms  \n",
       "0         17,500      75000  1 BHK  2 Baths          1   \n",
       "1         75,000     400000  3 BHK  3 Baths          3   \n",
       "2         60,000     200000  2 BHK  2 Baths          2   \n",
       "3         52,000     300000  3 BHK  3 Baths          3   \n",
       "4         30,000     150000  1 BHK   1 Bath          1   \n",
       "...           ...       ...    ...      ... ..      ...  \n",
       "165416    10,000      25000  2 BHK  3 Baths          2   \n",
       "165417    21,000      50000  2 BHK  2 Baths          2   \n",
       "165418    10,000      30000  2 BHK  2 Baths          2   \n",
       "165419    33,000     150000  4 BHK  5 Baths          4   \n",
       "165420     8,000       None  4 BHK  5 Baths          4   \n",
       "\n",
       "[165421 rows x 10 columns]"
      ]
     },
     "execution_count": 47,
     "metadata": {},
     "output_type": "execute_result"
    }
   ],
   "source": [
    "nd=nd.drop([\"ps\"],axis=1)\n",
    "nd=nd.drop([\"ds\"],axis=1)\n",
    "nd=nd.drop([\"ms\"],axis=1)\n",
    "nd=nd.drop([\"beds\"],axis=1)\n",
    "nd"
   ]
  },
  {
   "cell_type": "code",
   "execution_count": 48,
   "id": "20df19e3",
   "metadata": {},
   "outputs": [],
   "source": [
    "nd[['brms','btr']]=nd[\"btrms\"].str.split(\"Baths\",n=1,expand=True)"
   ]
  },
  {
   "cell_type": "code",
   "execution_count": 49,
   "id": "c759f9f4",
   "metadata": {},
   "outputs": [
    {
     "data": {
      "text/html": [
       "<div>\n",
       "<style scoped>\n",
       "    .dataframe tbody tr th:only-of-type {\n",
       "        vertical-align: middle;\n",
       "    }\n",
       "\n",
       "    .dataframe tbody tr th {\n",
       "        vertical-align: top;\n",
       "    }\n",
       "\n",
       "    .dataframe thead th {\n",
       "        text-align: right;\n",
       "    }\n",
       "</style>\n",
       "<table border=\"1\" class=\"dataframe\">\n",
       "  <thead>\n",
       "    <tr style=\"text-align: right;\">\n",
       "      <th></th>\n",
       "      <th>brms</th>\n",
       "      <th>btr</th>\n",
       "    </tr>\n",
       "  </thead>\n",
       "  <tbody>\n",
       "    <tr>\n",
       "      <th>0</th>\n",
       "      <td>2</td>\n",
       "      <td></td>\n",
       "    </tr>\n",
       "    <tr>\n",
       "      <th>1</th>\n",
       "      <td>3</td>\n",
       "      <td></td>\n",
       "    </tr>\n",
       "    <tr>\n",
       "      <th>2</th>\n",
       "      <td>2</td>\n",
       "      <td></td>\n",
       "    </tr>\n",
       "    <tr>\n",
       "      <th>3</th>\n",
       "      <td>3</td>\n",
       "      <td></td>\n",
       "    </tr>\n",
       "    <tr>\n",
       "      <th>4</th>\n",
       "      <td>1 Bath</td>\n",
       "      <td>None</td>\n",
       "    </tr>\n",
       "    <tr>\n",
       "      <th>...</th>\n",
       "      <td>...</td>\n",
       "      <td>...</td>\n",
       "    </tr>\n",
       "    <tr>\n",
       "      <th>165416</th>\n",
       "      <td>3</td>\n",
       "      <td></td>\n",
       "    </tr>\n",
       "    <tr>\n",
       "      <th>165417</th>\n",
       "      <td>2</td>\n",
       "      <td></td>\n",
       "    </tr>\n",
       "    <tr>\n",
       "      <th>165418</th>\n",
       "      <td>2</td>\n",
       "      <td></td>\n",
       "    </tr>\n",
       "    <tr>\n",
       "      <th>165419</th>\n",
       "      <td>5</td>\n",
       "      <td></td>\n",
       "    </tr>\n",
       "    <tr>\n",
       "      <th>165420</th>\n",
       "      <td>5</td>\n",
       "      <td></td>\n",
       "    </tr>\n",
       "  </tbody>\n",
       "</table>\n",
       "<p>165421 rows × 2 columns</p>\n",
       "</div>"
      ],
      "text/plain": [
       "          brms   btr\n",
       "0           2       \n",
       "1           3       \n",
       "2           2       \n",
       "3           3       \n",
       "4       1 Bath  None\n",
       "...        ...   ...\n",
       "165416      3       \n",
       "165417      2       \n",
       "165418      2       \n",
       "165419      5       \n",
       "165420      5       \n",
       "\n",
       "[165421 rows x 2 columns]"
      ]
     },
     "execution_count": 49,
     "metadata": {},
     "output_type": "execute_result"
    }
   ],
   "source": [
    "nd[['brms','btr']]"
   ]
  },
  {
   "cell_type": "code",
   "execution_count": 50,
   "id": "926ec910",
   "metadata": {},
   "outputs": [],
   "source": [
    "nd[['bathrooms','bb']]=nd[\"brms\"].str.split(\"Bath\",n=1,expand=True)\n",
    "\n"
   ]
  },
  {
   "cell_type": "code",
   "execution_count": 51,
   "id": "2c716562",
   "metadata": {},
   "outputs": [
    {
     "data": {
      "text/html": [
       "<div>\n",
       "<style scoped>\n",
       "    .dataframe tbody tr th:only-of-type {\n",
       "        vertical-align: middle;\n",
       "    }\n",
       "\n",
       "    .dataframe tbody tr th {\n",
       "        vertical-align: top;\n",
       "    }\n",
       "\n",
       "    .dataframe thead th {\n",
       "        text-align: right;\n",
       "    }\n",
       "</style>\n",
       "<table border=\"1\" class=\"dataframe\">\n",
       "  <thead>\n",
       "    <tr style=\"text-align: right;\">\n",
       "      <th></th>\n",
       "      <th>bathrooms</th>\n",
       "      <th>bb</th>\n",
       "    </tr>\n",
       "  </thead>\n",
       "  <tbody>\n",
       "    <tr>\n",
       "      <th>0</th>\n",
       "      <td>2</td>\n",
       "      <td>None</td>\n",
       "    </tr>\n",
       "    <tr>\n",
       "      <th>1</th>\n",
       "      <td>3</td>\n",
       "      <td>None</td>\n",
       "    </tr>\n",
       "    <tr>\n",
       "      <th>2</th>\n",
       "      <td>2</td>\n",
       "      <td>None</td>\n",
       "    </tr>\n",
       "    <tr>\n",
       "      <th>3</th>\n",
       "      <td>3</td>\n",
       "      <td>None</td>\n",
       "    </tr>\n",
       "    <tr>\n",
       "      <th>4</th>\n",
       "      <td>1</td>\n",
       "      <td></td>\n",
       "    </tr>\n",
       "    <tr>\n",
       "      <th>...</th>\n",
       "      <td>...</td>\n",
       "      <td>...</td>\n",
       "    </tr>\n",
       "    <tr>\n",
       "      <th>165416</th>\n",
       "      <td>3</td>\n",
       "      <td>None</td>\n",
       "    </tr>\n",
       "    <tr>\n",
       "      <th>165417</th>\n",
       "      <td>2</td>\n",
       "      <td>None</td>\n",
       "    </tr>\n",
       "    <tr>\n",
       "      <th>165418</th>\n",
       "      <td>2</td>\n",
       "      <td>None</td>\n",
       "    </tr>\n",
       "    <tr>\n",
       "      <th>165419</th>\n",
       "      <td>5</td>\n",
       "      <td>None</td>\n",
       "    </tr>\n",
       "    <tr>\n",
       "      <th>165420</th>\n",
       "      <td>5</td>\n",
       "      <td>None</td>\n",
       "    </tr>\n",
       "  </tbody>\n",
       "</table>\n",
       "<p>165421 rows × 2 columns</p>\n",
       "</div>"
      ],
      "text/plain": [
       "       bathrooms    bb\n",
       "0             2   None\n",
       "1             3   None\n",
       "2             2   None\n",
       "3             3   None\n",
       "4             1       \n",
       "...          ...   ...\n",
       "165416        3   None\n",
       "165417        2   None\n",
       "165418        2   None\n",
       "165419        5   None\n",
       "165420        5   None\n",
       "\n",
       "[165421 rows x 2 columns]"
      ]
     },
     "execution_count": 51,
     "metadata": {},
     "output_type": "execute_result"
    }
   ],
   "source": [
    "nd[['bathrooms','bb']]"
   ]
  },
  {
   "cell_type": "code",
   "execution_count": 52,
   "id": "7ca7490c",
   "metadata": {},
   "outputs": [],
   "source": [
    "nd[['dea','carpet,super-built,builtup']]=nd[\"sq_ft\"].str.split(\")\",expand=True)"
   ]
  },
  {
   "cell_type": "code",
   "execution_count": 53,
   "id": "774bdaa8",
   "metadata": {},
   "outputs": [
    {
     "data": {
      "text/html": [
       "<div>\n",
       "<style scoped>\n",
       "    .dataframe tbody tr th:only-of-type {\n",
       "        vertical-align: middle;\n",
       "    }\n",
       "\n",
       "    .dataframe tbody tr th {\n",
       "        vertical-align: top;\n",
       "    }\n",
       "\n",
       "    .dataframe thead th {\n",
       "        text-align: right;\n",
       "    }\n",
       "</style>\n",
       "<table border=\"1\" class=\"dataframe\">\n",
       "  <thead>\n",
       "    <tr style=\"text-align: right;\">\n",
       "      <th></th>\n",
       "      <th>dea</th>\n",
       "      <th>carpet,super-built,builtup</th>\n",
       "    </tr>\n",
       "  </thead>\n",
       "  <tbody>\n",
       "    <tr>\n",
       "      <th>0</th>\n",
       "      <td>470 sq.ft.\\n(44 sq.m.</td>\n",
       "      <td>Carpet Area</td>\n",
       "    </tr>\n",
       "    <tr>\n",
       "      <th>1</th>\n",
       "      <td>1,800 sq.ft.\\n(167 sq.m.</td>\n",
       "      <td>Super built-up Area</td>\n",
       "    </tr>\n",
       "    <tr>\n",
       "      <th>2</th>\n",
       "      <td>950 sq.ft.\\n(88 sq.m.</td>\n",
       "      <td>Super built-up Area</td>\n",
       "    </tr>\n",
       "    <tr>\n",
       "      <th>3</th>\n",
       "      <td>1,300 sq.ft.\\n(121 sq.m.</td>\n",
       "      <td>Carpet Area</td>\n",
       "    </tr>\n",
       "    <tr>\n",
       "      <th>4</th>\n",
       "      <td>550 sq.ft.\\n(51 sq.m.</td>\n",
       "      <td>Built-up Area</td>\n",
       "    </tr>\n",
       "    <tr>\n",
       "      <th>...</th>\n",
       "      <td>...</td>\n",
       "      <td>...</td>\n",
       "    </tr>\n",
       "    <tr>\n",
       "      <th>165416</th>\n",
       "      <td>1,200 sq.ft.\\n(111 sq.m.</td>\n",
       "      <td>Built-up Area</td>\n",
       "    </tr>\n",
       "    <tr>\n",
       "      <th>165417</th>\n",
       "      <td>1,155 sq.ft.\\n(107 sq.m.</td>\n",
       "      <td>Carpet Area</td>\n",
       "    </tr>\n",
       "    <tr>\n",
       "      <th>165418</th>\n",
       "      <td>861 sq.ft.\\n(80 sq.m.</td>\n",
       "      <td>Built-up Area</td>\n",
       "    </tr>\n",
       "    <tr>\n",
       "      <th>165419</th>\n",
       "      <td>3,200 sq.ft.\\n(297 sq.m.</td>\n",
       "      <td>Plot Area</td>\n",
       "    </tr>\n",
       "    <tr>\n",
       "      <th>165420</th>\n",
       "      <td>2,178 sq.ft.\\n(202 sq.m.</td>\n",
       "      <td>Plot Area</td>\n",
       "    </tr>\n",
       "  </tbody>\n",
       "</table>\n",
       "<p>165421 rows × 2 columns</p>\n",
       "</div>"
      ],
      "text/plain": [
       "                             dea carpet,super-built,builtup\n",
       "0          470 sq.ft.\\n(44 sq.m.                Carpet Area\n",
       "1       1,800 sq.ft.\\n(167 sq.m.        Super built-up Area\n",
       "2          950 sq.ft.\\n(88 sq.m.        Super built-up Area\n",
       "3       1,300 sq.ft.\\n(121 sq.m.                Carpet Area\n",
       "4          550 sq.ft.\\n(51 sq.m.              Built-up Area\n",
       "...                          ...                        ...\n",
       "165416  1,200 sq.ft.\\n(111 sq.m.              Built-up Area\n",
       "165417  1,155 sq.ft.\\n(107 sq.m.                Carpet Area\n",
       "165418     861 sq.ft.\\n(80 sq.m.              Built-up Area\n",
       "165419  3,200 sq.ft.\\n(297 sq.m.                  Plot Area\n",
       "165420  2,178 sq.ft.\\n(202 sq.m.                  Plot Area\n",
       "\n",
       "[165421 rows x 2 columns]"
      ]
     },
     "execution_count": 53,
     "metadata": {},
     "output_type": "execute_result"
    }
   ],
   "source": [
    "nd[['dea','carpet,super-built,builtup']]"
   ]
  },
  {
   "cell_type": "code",
   "execution_count": 54,
   "id": "d0e3ed0d",
   "metadata": {},
   "outputs": [
    {
     "data": {
      "text/html": [
       "<div>\n",
       "<style scoped>\n",
       "    .dataframe tbody tr th:only-of-type {\n",
       "        vertical-align: middle;\n",
       "    }\n",
       "\n",
       "    .dataframe tbody tr th {\n",
       "        vertical-align: top;\n",
       "    }\n",
       "\n",
       "    .dataframe thead th {\n",
       "        text-align: right;\n",
       "    }\n",
       "</style>\n",
       "<table border=\"1\" class=\"dataframe\">\n",
       "  <thead>\n",
       "    <tr style=\"text-align: right;\">\n",
       "      <th></th>\n",
       "      <th>description</th>\n",
       "      <th>city</th>\n",
       "      <th>rent/month</th>\n",
       "      <th>deposit ₹</th>\n",
       "      <th>bedrooms</th>\n",
       "      <th>bathrooms</th>\n",
       "      <th>dea</th>\n",
       "      <th>carpet,super-built,builtup</th>\n",
       "    </tr>\n",
       "  </thead>\n",
       "  <tbody>\n",
       "    <tr>\n",
       "      <th>0</th>\n",
       "      <td>1 BHK Residential Apartment for rent in Kolshe...</td>\n",
       "      <td>mumbai</td>\n",
       "      <td>17,500</td>\n",
       "      <td>75000</td>\n",
       "      <td>1</td>\n",
       "      <td>2</td>\n",
       "      <td>470 sq.ft.\\n(44 sq.m.</td>\n",
       "      <td>Carpet Area</td>\n",
       "    </tr>\n",
       "    <tr>\n",
       "      <th>1</th>\n",
       "      <td>3 BHK Residential Apartment for rent in Sector...</td>\n",
       "      <td>mumbai</td>\n",
       "      <td>75,000</td>\n",
       "      <td>400000</td>\n",
       "      <td>3</td>\n",
       "      <td>3</td>\n",
       "      <td>1,800 sq.ft.\\n(167 sq.m.</td>\n",
       "      <td>Super built-up Area</td>\n",
       "    </tr>\n",
       "    <tr>\n",
       "      <th>2</th>\n",
       "      <td>2 BHK Residential Apartment for rent in Wadala</td>\n",
       "      <td>mumbai</td>\n",
       "      <td>60,000</td>\n",
       "      <td>200000</td>\n",
       "      <td>2</td>\n",
       "      <td>2</td>\n",
       "      <td>950 sq.ft.\\n(88 sq.m.</td>\n",
       "      <td>Super built-up Area</td>\n",
       "    </tr>\n",
       "    <tr>\n",
       "      <th>3</th>\n",
       "      <td>3 BHK Residential Apartment for rent in Hirana...</td>\n",
       "      <td>mumbai</td>\n",
       "      <td>52,000</td>\n",
       "      <td>300000</td>\n",
       "      <td>3</td>\n",
       "      <td>3</td>\n",
       "      <td>1,300 sq.ft.\\n(121 sq.m.</td>\n",
       "      <td>Carpet Area</td>\n",
       "    </tr>\n",
       "    <tr>\n",
       "      <th>4</th>\n",
       "      <td>1 BHK Residential Apartment for rent in Kanjur...</td>\n",
       "      <td>mumbai</td>\n",
       "      <td>30,000</td>\n",
       "      <td>150000</td>\n",
       "      <td>1</td>\n",
       "      <td>1</td>\n",
       "      <td>550 sq.ft.\\n(51 sq.m.</td>\n",
       "      <td>Built-up Area</td>\n",
       "    </tr>\n",
       "    <tr>\n",
       "      <th>...</th>\n",
       "      <td>...</td>\n",
       "      <td>...</td>\n",
       "      <td>...</td>\n",
       "      <td>...</td>\n",
       "      <td>...</td>\n",
       "      <td>...</td>\n",
       "      <td>...</td>\n",
       "      <td>...</td>\n",
       "    </tr>\n",
       "    <tr>\n",
       "      <th>165416</th>\n",
       "      <td>2 BHK Independent Builder Floor for rent in An...</td>\n",
       "      <td>Trivandraum</td>\n",
       "      <td>10,000</td>\n",
       "      <td>25000</td>\n",
       "      <td>2</td>\n",
       "      <td>3</td>\n",
       "      <td>1,200 sq.ft.\\n(111 sq.m.</td>\n",
       "      <td>Built-up Area</td>\n",
       "    </tr>\n",
       "    <tr>\n",
       "      <th>165417</th>\n",
       "      <td>2 BHK Residential Apartment for rent in Kazhak...</td>\n",
       "      <td>Trivandraum</td>\n",
       "      <td>21,000</td>\n",
       "      <td>50000</td>\n",
       "      <td>2</td>\n",
       "      <td>2</td>\n",
       "      <td>1,155 sq.ft.\\n(107 sq.m.</td>\n",
       "      <td>Carpet Area</td>\n",
       "    </tr>\n",
       "    <tr>\n",
       "      <th>165418</th>\n",
       "      <td>2 BHK Residential Apartment for rent in Vattiy...</td>\n",
       "      <td>Trivandraum</td>\n",
       "      <td>10,000</td>\n",
       "      <td>30000</td>\n",
       "      <td>2</td>\n",
       "      <td>2</td>\n",
       "      <td>861 sq.ft.\\n(80 sq.m.</td>\n",
       "      <td>Built-up Area</td>\n",
       "    </tr>\n",
       "    <tr>\n",
       "      <th>165419</th>\n",
       "      <td>4 Bedroom Independent House for rent in Pattom</td>\n",
       "      <td>Trivandraum</td>\n",
       "      <td>33,000</td>\n",
       "      <td>150000</td>\n",
       "      <td>4</td>\n",
       "      <td>5</td>\n",
       "      <td>3,200 sq.ft.\\n(297 sq.m.</td>\n",
       "      <td>Plot Area</td>\n",
       "    </tr>\n",
       "    <tr>\n",
       "      <th>165420</th>\n",
       "      <td>4 Bedroom Independent House for rent in Kallam...</td>\n",
       "      <td>Trivandraum</td>\n",
       "      <td>8,000</td>\n",
       "      <td>None</td>\n",
       "      <td>4</td>\n",
       "      <td>5</td>\n",
       "      <td>2,178 sq.ft.\\n(202 sq.m.</td>\n",
       "      <td>Plot Area</td>\n",
       "    </tr>\n",
       "  </tbody>\n",
       "</table>\n",
       "<p>165421 rows × 8 columns</p>\n",
       "</div>"
      ],
      "text/plain": [
       "                                              description         city  \\\n",
       "0       1 BHK Residential Apartment for rent in Kolshe...       mumbai   \n",
       "1       3 BHK Residential Apartment for rent in Sector...       mumbai   \n",
       "2          2 BHK Residential Apartment for rent in Wadala       mumbai   \n",
       "3       3 BHK Residential Apartment for rent in Hirana...       mumbai   \n",
       "4       1 BHK Residential Apartment for rent in Kanjur...       mumbai   \n",
       "...                                                   ...          ...   \n",
       "165416  2 BHK Independent Builder Floor for rent in An...  Trivandraum   \n",
       "165417  2 BHK Residential Apartment for rent in Kazhak...  Trivandraum   \n",
       "165418  2 BHK Residential Apartment for rent in Vattiy...  Trivandraum   \n",
       "165419     4 Bedroom Independent House for rent in Pattom  Trivandraum   \n",
       "165420  4 Bedroom Independent House for rent in Kallam...  Trivandraum   \n",
       "\n",
       "       rent/month deposit ₹ bedrooms bathrooms                       dea  \\\n",
       "0         17,500      75000       1         2      470 sq.ft.\\n(44 sq.m.   \n",
       "1         75,000     400000       3         3   1,800 sq.ft.\\n(167 sq.m.   \n",
       "2         60,000     200000       2         2      950 sq.ft.\\n(88 sq.m.   \n",
       "3         52,000     300000       3         3   1,300 sq.ft.\\n(121 sq.m.   \n",
       "4         30,000     150000       1         1      550 sq.ft.\\n(51 sq.m.   \n",
       "...           ...       ...      ...       ...                       ...   \n",
       "165416    10,000      25000       2         3   1,200 sq.ft.\\n(111 sq.m.   \n",
       "165417    21,000      50000       2         2   1,155 sq.ft.\\n(107 sq.m.   \n",
       "165418    10,000      30000       2         2      861 sq.ft.\\n(80 sq.m.   \n",
       "165419    33,000     150000       4         5   3,200 sq.ft.\\n(297 sq.m.   \n",
       "165420     8,000       None       4         5   2,178 sq.ft.\\n(202 sq.m.   \n",
       "\n",
       "       carpet,super-built,builtup  \n",
       "0                     Carpet Area  \n",
       "1             Super built-up Area  \n",
       "2             Super built-up Area  \n",
       "3                     Carpet Area  \n",
       "4                   Built-up Area  \n",
       "...                           ...  \n",
       "165416              Built-up Area  \n",
       "165417                Carpet Area  \n",
       "165418              Built-up Area  \n",
       "165419                  Plot Area  \n",
       "165420                  Plot Area  \n",
       "\n",
       "[165421 rows x 8 columns]"
      ]
     },
     "execution_count": 54,
     "metadata": {},
     "output_type": "execute_result"
    }
   ],
   "source": [
    "nd=nd.drop([\"sq_ft\"],axis=1)\n",
    "nd=nd.drop([\"bdrms\"],axis=1)\n",
    "nd=nd.drop([\"bt\"],axis=1)\n",
    "nd=nd.drop([\"btrms\"],axis=1)\n",
    "nd=nd.drop([\"btr\"],axis=1)\n",
    "nd=nd.drop([\"brms\"],axis=1)\n",
    "nd=nd.drop([\"bb\"],axis=1)\n",
    "nd=nd.drop([\"BHK\"],axis=1)\n",
    "nd\n",
    "\n",
    "\n"
   ]
  },
  {
   "cell_type": "markdown",
   "id": "6336956b",
   "metadata": {},
   "source": [
    "- We are dropping carpet,super-built,builtup as it is not needed for rent prediction"
   ]
  },
  {
   "cell_type": "code",
   "execution_count": 55,
   "id": "7dfa2823",
   "metadata": {},
   "outputs": [
    {
     "data": {
      "text/html": [
       "<div>\n",
       "<style scoped>\n",
       "    .dataframe tbody tr th:only-of-type {\n",
       "        vertical-align: middle;\n",
       "    }\n",
       "\n",
       "    .dataframe tbody tr th {\n",
       "        vertical-align: top;\n",
       "    }\n",
       "\n",
       "    .dataframe thead th {\n",
       "        text-align: right;\n",
       "    }\n",
       "</style>\n",
       "<table border=\"1\" class=\"dataframe\">\n",
       "  <thead>\n",
       "    <tr style=\"text-align: right;\">\n",
       "      <th></th>\n",
       "      <th>description</th>\n",
       "      <th>city</th>\n",
       "      <th>rent/month</th>\n",
       "      <th>deposit ₹</th>\n",
       "      <th>bedrooms</th>\n",
       "      <th>bathrooms</th>\n",
       "      <th>dea</th>\n",
       "    </tr>\n",
       "  </thead>\n",
       "  <tbody>\n",
       "    <tr>\n",
       "      <th>0</th>\n",
       "      <td>1 BHK Residential Apartment for rent in Kolshe...</td>\n",
       "      <td>mumbai</td>\n",
       "      <td>17,500</td>\n",
       "      <td>75000</td>\n",
       "      <td>1</td>\n",
       "      <td>2</td>\n",
       "      <td>470 sq.ft.\\n(44 sq.m.</td>\n",
       "    </tr>\n",
       "    <tr>\n",
       "      <th>1</th>\n",
       "      <td>3 BHK Residential Apartment for rent in Sector...</td>\n",
       "      <td>mumbai</td>\n",
       "      <td>75,000</td>\n",
       "      <td>400000</td>\n",
       "      <td>3</td>\n",
       "      <td>3</td>\n",
       "      <td>1,800 sq.ft.\\n(167 sq.m.</td>\n",
       "    </tr>\n",
       "    <tr>\n",
       "      <th>2</th>\n",
       "      <td>2 BHK Residential Apartment for rent in Wadala</td>\n",
       "      <td>mumbai</td>\n",
       "      <td>60,000</td>\n",
       "      <td>200000</td>\n",
       "      <td>2</td>\n",
       "      <td>2</td>\n",
       "      <td>950 sq.ft.\\n(88 sq.m.</td>\n",
       "    </tr>\n",
       "    <tr>\n",
       "      <th>3</th>\n",
       "      <td>3 BHK Residential Apartment for rent in Hirana...</td>\n",
       "      <td>mumbai</td>\n",
       "      <td>52,000</td>\n",
       "      <td>300000</td>\n",
       "      <td>3</td>\n",
       "      <td>3</td>\n",
       "      <td>1,300 sq.ft.\\n(121 sq.m.</td>\n",
       "    </tr>\n",
       "    <tr>\n",
       "      <th>4</th>\n",
       "      <td>1 BHK Residential Apartment for rent in Kanjur...</td>\n",
       "      <td>mumbai</td>\n",
       "      <td>30,000</td>\n",
       "      <td>150000</td>\n",
       "      <td>1</td>\n",
       "      <td>1</td>\n",
       "      <td>550 sq.ft.\\n(51 sq.m.</td>\n",
       "    </tr>\n",
       "    <tr>\n",
       "      <th>...</th>\n",
       "      <td>...</td>\n",
       "      <td>...</td>\n",
       "      <td>...</td>\n",
       "      <td>...</td>\n",
       "      <td>...</td>\n",
       "      <td>...</td>\n",
       "      <td>...</td>\n",
       "    </tr>\n",
       "    <tr>\n",
       "      <th>165416</th>\n",
       "      <td>2 BHK Independent Builder Floor for rent in An...</td>\n",
       "      <td>Trivandraum</td>\n",
       "      <td>10,000</td>\n",
       "      <td>25000</td>\n",
       "      <td>2</td>\n",
       "      <td>3</td>\n",
       "      <td>1,200 sq.ft.\\n(111 sq.m.</td>\n",
       "    </tr>\n",
       "    <tr>\n",
       "      <th>165417</th>\n",
       "      <td>2 BHK Residential Apartment for rent in Kazhak...</td>\n",
       "      <td>Trivandraum</td>\n",
       "      <td>21,000</td>\n",
       "      <td>50000</td>\n",
       "      <td>2</td>\n",
       "      <td>2</td>\n",
       "      <td>1,155 sq.ft.\\n(107 sq.m.</td>\n",
       "    </tr>\n",
       "    <tr>\n",
       "      <th>165418</th>\n",
       "      <td>2 BHK Residential Apartment for rent in Vattiy...</td>\n",
       "      <td>Trivandraum</td>\n",
       "      <td>10,000</td>\n",
       "      <td>30000</td>\n",
       "      <td>2</td>\n",
       "      <td>2</td>\n",
       "      <td>861 sq.ft.\\n(80 sq.m.</td>\n",
       "    </tr>\n",
       "    <tr>\n",
       "      <th>165419</th>\n",
       "      <td>4 Bedroom Independent House for rent in Pattom</td>\n",
       "      <td>Trivandraum</td>\n",
       "      <td>33,000</td>\n",
       "      <td>150000</td>\n",
       "      <td>4</td>\n",
       "      <td>5</td>\n",
       "      <td>3,200 sq.ft.\\n(297 sq.m.</td>\n",
       "    </tr>\n",
       "    <tr>\n",
       "      <th>165420</th>\n",
       "      <td>4 Bedroom Independent House for rent in Kallam...</td>\n",
       "      <td>Trivandraum</td>\n",
       "      <td>8,000</td>\n",
       "      <td>None</td>\n",
       "      <td>4</td>\n",
       "      <td>5</td>\n",
       "      <td>2,178 sq.ft.\\n(202 sq.m.</td>\n",
       "    </tr>\n",
       "  </tbody>\n",
       "</table>\n",
       "<p>165421 rows × 7 columns</p>\n",
       "</div>"
      ],
      "text/plain": [
       "                                              description         city  \\\n",
       "0       1 BHK Residential Apartment for rent in Kolshe...       mumbai   \n",
       "1       3 BHK Residential Apartment for rent in Sector...       mumbai   \n",
       "2          2 BHK Residential Apartment for rent in Wadala       mumbai   \n",
       "3       3 BHK Residential Apartment for rent in Hirana...       mumbai   \n",
       "4       1 BHK Residential Apartment for rent in Kanjur...       mumbai   \n",
       "...                                                   ...          ...   \n",
       "165416  2 BHK Independent Builder Floor for rent in An...  Trivandraum   \n",
       "165417  2 BHK Residential Apartment for rent in Kazhak...  Trivandraum   \n",
       "165418  2 BHK Residential Apartment for rent in Vattiy...  Trivandraum   \n",
       "165419     4 Bedroom Independent House for rent in Pattom  Trivandraum   \n",
       "165420  4 Bedroom Independent House for rent in Kallam...  Trivandraum   \n",
       "\n",
       "       rent/month deposit ₹ bedrooms bathrooms                       dea  \n",
       "0         17,500      75000       1         2      470 sq.ft.\\n(44 sq.m.  \n",
       "1         75,000     400000       3         3   1,800 sq.ft.\\n(167 sq.m.  \n",
       "2         60,000     200000       2         2      950 sq.ft.\\n(88 sq.m.  \n",
       "3         52,000     300000       3         3   1,300 sq.ft.\\n(121 sq.m.  \n",
       "4         30,000     150000       1         1      550 sq.ft.\\n(51 sq.m.  \n",
       "...           ...       ...      ...       ...                       ...  \n",
       "165416    10,000      25000       2         3   1,200 sq.ft.\\n(111 sq.m.  \n",
       "165417    21,000      50000       2         2   1,155 sq.ft.\\n(107 sq.m.  \n",
       "165418    10,000      30000       2         2      861 sq.ft.\\n(80 sq.m.  \n",
       "165419    33,000     150000       4         5   3,200 sq.ft.\\n(297 sq.m.  \n",
       "165420     8,000       None       4         5   2,178 sq.ft.\\n(202 sq.m.  \n",
       "\n",
       "[165421 rows x 7 columns]"
      ]
     },
     "execution_count": 55,
     "metadata": {},
     "output_type": "execute_result"
    }
   ],
   "source": [
    "nd= nd.drop([\"carpet,super-built,builtup\"],axis=1)\n",
    "nd"
   ]
  },
  {
   "cell_type": "code",
   "execution_count": 56,
   "id": "f4afc100",
   "metadata": {},
   "outputs": [],
   "source": [
    "nd[['st','sqm']]=nd[\"dea\"].str.split(\"\\n\",n=1,expand=True)\n"
   ]
  },
  {
   "cell_type": "code",
   "execution_count": 57,
   "id": "fd9b5788",
   "metadata": {},
   "outputs": [
    {
     "data": {
      "text/html": [
       "<div>\n",
       "<style scoped>\n",
       "    .dataframe tbody tr th:only-of-type {\n",
       "        vertical-align: middle;\n",
       "    }\n",
       "\n",
       "    .dataframe tbody tr th {\n",
       "        vertical-align: top;\n",
       "    }\n",
       "\n",
       "    .dataframe thead th {\n",
       "        text-align: right;\n",
       "    }\n",
       "</style>\n",
       "<table border=\"1\" class=\"dataframe\">\n",
       "  <thead>\n",
       "    <tr style=\"text-align: right;\">\n",
       "      <th></th>\n",
       "      <th>st</th>\n",
       "      <th>sqm</th>\n",
       "    </tr>\n",
       "  </thead>\n",
       "  <tbody>\n",
       "    <tr>\n",
       "      <th>0</th>\n",
       "      <td>470 sq.ft.</td>\n",
       "      <td>(44 sq.m.</td>\n",
       "    </tr>\n",
       "    <tr>\n",
       "      <th>1</th>\n",
       "      <td>1,800 sq.ft.</td>\n",
       "      <td>(167 sq.m.</td>\n",
       "    </tr>\n",
       "    <tr>\n",
       "      <th>2</th>\n",
       "      <td>950 sq.ft.</td>\n",
       "      <td>(88 sq.m.</td>\n",
       "    </tr>\n",
       "    <tr>\n",
       "      <th>3</th>\n",
       "      <td>1,300 sq.ft.</td>\n",
       "      <td>(121 sq.m.</td>\n",
       "    </tr>\n",
       "    <tr>\n",
       "      <th>4</th>\n",
       "      <td>550 sq.ft.</td>\n",
       "      <td>(51 sq.m.</td>\n",
       "    </tr>\n",
       "    <tr>\n",
       "      <th>...</th>\n",
       "      <td>...</td>\n",
       "      <td>...</td>\n",
       "    </tr>\n",
       "    <tr>\n",
       "      <th>165416</th>\n",
       "      <td>1,200 sq.ft.</td>\n",
       "      <td>(111 sq.m.</td>\n",
       "    </tr>\n",
       "    <tr>\n",
       "      <th>165417</th>\n",
       "      <td>1,155 sq.ft.</td>\n",
       "      <td>(107 sq.m.</td>\n",
       "    </tr>\n",
       "    <tr>\n",
       "      <th>165418</th>\n",
       "      <td>861 sq.ft.</td>\n",
       "      <td>(80 sq.m.</td>\n",
       "    </tr>\n",
       "    <tr>\n",
       "      <th>165419</th>\n",
       "      <td>3,200 sq.ft.</td>\n",
       "      <td>(297 sq.m.</td>\n",
       "    </tr>\n",
       "    <tr>\n",
       "      <th>165420</th>\n",
       "      <td>2,178 sq.ft.</td>\n",
       "      <td>(202 sq.m.</td>\n",
       "    </tr>\n",
       "  </tbody>\n",
       "</table>\n",
       "<p>165421 rows × 2 columns</p>\n",
       "</div>"
      ],
      "text/plain": [
       "                  st         sqm\n",
       "0         470 sq.ft.   (44 sq.m.\n",
       "1       1,800 sq.ft.  (167 sq.m.\n",
       "2         950 sq.ft.   (88 sq.m.\n",
       "3       1,300 sq.ft.  (121 sq.m.\n",
       "4         550 sq.ft.   (51 sq.m.\n",
       "...              ...         ...\n",
       "165416  1,200 sq.ft.  (111 sq.m.\n",
       "165417  1,155 sq.ft.  (107 sq.m.\n",
       "165418    861 sq.ft.   (80 sq.m.\n",
       "165419  3,200 sq.ft.  (297 sq.m.\n",
       "165420  2,178 sq.ft.  (202 sq.m.\n",
       "\n",
       "[165421 rows x 2 columns]"
      ]
     },
     "execution_count": 57,
     "metadata": {},
     "output_type": "execute_result"
    }
   ],
   "source": [
    "nd[['st','sqm']]"
   ]
  },
  {
   "cell_type": "code",
   "execution_count": 58,
   "id": "4ff4dd55",
   "metadata": {},
   "outputs": [],
   "source": [
    "nd[['sqr_ft','mt']]=nd[\"st\"].str.split(\"sq.ft.\",n=1,expand=True)\n"
   ]
  },
  {
   "cell_type": "code",
   "execution_count": 59,
   "id": "e5631482",
   "metadata": {},
   "outputs": [
    {
     "data": {
      "text/html": [
       "<div>\n",
       "<style scoped>\n",
       "    .dataframe tbody tr th:only-of-type {\n",
       "        vertical-align: middle;\n",
       "    }\n",
       "\n",
       "    .dataframe tbody tr th {\n",
       "        vertical-align: top;\n",
       "    }\n",
       "\n",
       "    .dataframe thead th {\n",
       "        text-align: right;\n",
       "    }\n",
       "</style>\n",
       "<table border=\"1\" class=\"dataframe\">\n",
       "  <thead>\n",
       "    <tr style=\"text-align: right;\">\n",
       "      <th></th>\n",
       "      <th>sqr_ft</th>\n",
       "      <th>mt</th>\n",
       "    </tr>\n",
       "  </thead>\n",
       "  <tbody>\n",
       "    <tr>\n",
       "      <th>0</th>\n",
       "      <td>470</td>\n",
       "      <td></td>\n",
       "    </tr>\n",
       "    <tr>\n",
       "      <th>1</th>\n",
       "      <td>1,800</td>\n",
       "      <td></td>\n",
       "    </tr>\n",
       "    <tr>\n",
       "      <th>2</th>\n",
       "      <td>950</td>\n",
       "      <td></td>\n",
       "    </tr>\n",
       "    <tr>\n",
       "      <th>3</th>\n",
       "      <td>1,300</td>\n",
       "      <td></td>\n",
       "    </tr>\n",
       "    <tr>\n",
       "      <th>4</th>\n",
       "      <td>550</td>\n",
       "      <td></td>\n",
       "    </tr>\n",
       "    <tr>\n",
       "      <th>...</th>\n",
       "      <td>...</td>\n",
       "      <td>...</td>\n",
       "    </tr>\n",
       "    <tr>\n",
       "      <th>165416</th>\n",
       "      <td>1,200</td>\n",
       "      <td></td>\n",
       "    </tr>\n",
       "    <tr>\n",
       "      <th>165417</th>\n",
       "      <td>1,155</td>\n",
       "      <td></td>\n",
       "    </tr>\n",
       "    <tr>\n",
       "      <th>165418</th>\n",
       "      <td>861</td>\n",
       "      <td></td>\n",
       "    </tr>\n",
       "    <tr>\n",
       "      <th>165419</th>\n",
       "      <td>3,200</td>\n",
       "      <td></td>\n",
       "    </tr>\n",
       "    <tr>\n",
       "      <th>165420</th>\n",
       "      <td>2,178</td>\n",
       "      <td></td>\n",
       "    </tr>\n",
       "  </tbody>\n",
       "</table>\n",
       "<p>165421 rows × 2 columns</p>\n",
       "</div>"
      ],
      "text/plain": [
       "        sqr_ft mt\n",
       "0         470    \n",
       "1       1,800    \n",
       "2         950    \n",
       "3       1,300    \n",
       "4         550    \n",
       "...        ... ..\n",
       "165416  1,200    \n",
       "165417  1,155    \n",
       "165418    861    \n",
       "165419  3,200    \n",
       "165420  2,178    \n",
       "\n",
       "[165421 rows x 2 columns]"
      ]
     },
     "execution_count": 59,
     "metadata": {},
     "output_type": "execute_result"
    }
   ],
   "source": [
    "nd[['sqr_ft','mt']]"
   ]
  },
  {
   "cell_type": "code",
   "execution_count": 60,
   "id": "ecfb6fab",
   "metadata": {},
   "outputs": [
    {
     "data": {
      "text/html": [
       "<div>\n",
       "<style scoped>\n",
       "    .dataframe tbody tr th:only-of-type {\n",
       "        vertical-align: middle;\n",
       "    }\n",
       "\n",
       "    .dataframe tbody tr th {\n",
       "        vertical-align: top;\n",
       "    }\n",
       "\n",
       "    .dataframe thead th {\n",
       "        text-align: right;\n",
       "    }\n",
       "</style>\n",
       "<table border=\"1\" class=\"dataframe\">\n",
       "  <thead>\n",
       "    <tr style=\"text-align: right;\">\n",
       "      <th></th>\n",
       "      <th>description</th>\n",
       "      <th>city</th>\n",
       "      <th>rent/month</th>\n",
       "      <th>deposit ₹</th>\n",
       "      <th>bedrooms</th>\n",
       "      <th>bathrooms</th>\n",
       "      <th>sqr_ft</th>\n",
       "    </tr>\n",
       "  </thead>\n",
       "  <tbody>\n",
       "    <tr>\n",
       "      <th>0</th>\n",
       "      <td>1 BHK Residential Apartment for rent in Kolshe...</td>\n",
       "      <td>mumbai</td>\n",
       "      <td>17,500</td>\n",
       "      <td>75000</td>\n",
       "      <td>1</td>\n",
       "      <td>2</td>\n",
       "      <td>470</td>\n",
       "    </tr>\n",
       "    <tr>\n",
       "      <th>1</th>\n",
       "      <td>3 BHK Residential Apartment for rent in Sector...</td>\n",
       "      <td>mumbai</td>\n",
       "      <td>75,000</td>\n",
       "      <td>400000</td>\n",
       "      <td>3</td>\n",
       "      <td>3</td>\n",
       "      <td>1,800</td>\n",
       "    </tr>\n",
       "    <tr>\n",
       "      <th>2</th>\n",
       "      <td>2 BHK Residential Apartment for rent in Wadala</td>\n",
       "      <td>mumbai</td>\n",
       "      <td>60,000</td>\n",
       "      <td>200000</td>\n",
       "      <td>2</td>\n",
       "      <td>2</td>\n",
       "      <td>950</td>\n",
       "    </tr>\n",
       "    <tr>\n",
       "      <th>3</th>\n",
       "      <td>3 BHK Residential Apartment for rent in Hirana...</td>\n",
       "      <td>mumbai</td>\n",
       "      <td>52,000</td>\n",
       "      <td>300000</td>\n",
       "      <td>3</td>\n",
       "      <td>3</td>\n",
       "      <td>1,300</td>\n",
       "    </tr>\n",
       "    <tr>\n",
       "      <th>4</th>\n",
       "      <td>1 BHK Residential Apartment for rent in Kanjur...</td>\n",
       "      <td>mumbai</td>\n",
       "      <td>30,000</td>\n",
       "      <td>150000</td>\n",
       "      <td>1</td>\n",
       "      <td>1</td>\n",
       "      <td>550</td>\n",
       "    </tr>\n",
       "    <tr>\n",
       "      <th>...</th>\n",
       "      <td>...</td>\n",
       "      <td>...</td>\n",
       "      <td>...</td>\n",
       "      <td>...</td>\n",
       "      <td>...</td>\n",
       "      <td>...</td>\n",
       "      <td>...</td>\n",
       "    </tr>\n",
       "    <tr>\n",
       "      <th>165416</th>\n",
       "      <td>2 BHK Independent Builder Floor for rent in An...</td>\n",
       "      <td>Trivandraum</td>\n",
       "      <td>10,000</td>\n",
       "      <td>25000</td>\n",
       "      <td>2</td>\n",
       "      <td>3</td>\n",
       "      <td>1,200</td>\n",
       "    </tr>\n",
       "    <tr>\n",
       "      <th>165417</th>\n",
       "      <td>2 BHK Residential Apartment for rent in Kazhak...</td>\n",
       "      <td>Trivandraum</td>\n",
       "      <td>21,000</td>\n",
       "      <td>50000</td>\n",
       "      <td>2</td>\n",
       "      <td>2</td>\n",
       "      <td>1,155</td>\n",
       "    </tr>\n",
       "    <tr>\n",
       "      <th>165418</th>\n",
       "      <td>2 BHK Residential Apartment for rent in Vattiy...</td>\n",
       "      <td>Trivandraum</td>\n",
       "      <td>10,000</td>\n",
       "      <td>30000</td>\n",
       "      <td>2</td>\n",
       "      <td>2</td>\n",
       "      <td>861</td>\n",
       "    </tr>\n",
       "    <tr>\n",
       "      <th>165419</th>\n",
       "      <td>4 Bedroom Independent House for rent in Pattom</td>\n",
       "      <td>Trivandraum</td>\n",
       "      <td>33,000</td>\n",
       "      <td>150000</td>\n",
       "      <td>4</td>\n",
       "      <td>5</td>\n",
       "      <td>3,200</td>\n",
       "    </tr>\n",
       "    <tr>\n",
       "      <th>165420</th>\n",
       "      <td>4 Bedroom Independent House for rent in Kallam...</td>\n",
       "      <td>Trivandraum</td>\n",
       "      <td>8,000</td>\n",
       "      <td>None</td>\n",
       "      <td>4</td>\n",
       "      <td>5</td>\n",
       "      <td>2,178</td>\n",
       "    </tr>\n",
       "  </tbody>\n",
       "</table>\n",
       "<p>165421 rows × 7 columns</p>\n",
       "</div>"
      ],
      "text/plain": [
       "                                              description         city  \\\n",
       "0       1 BHK Residential Apartment for rent in Kolshe...       mumbai   \n",
       "1       3 BHK Residential Apartment for rent in Sector...       mumbai   \n",
       "2          2 BHK Residential Apartment for rent in Wadala       mumbai   \n",
       "3       3 BHK Residential Apartment for rent in Hirana...       mumbai   \n",
       "4       1 BHK Residential Apartment for rent in Kanjur...       mumbai   \n",
       "...                                                   ...          ...   \n",
       "165416  2 BHK Independent Builder Floor for rent in An...  Trivandraum   \n",
       "165417  2 BHK Residential Apartment for rent in Kazhak...  Trivandraum   \n",
       "165418  2 BHK Residential Apartment for rent in Vattiy...  Trivandraum   \n",
       "165419     4 Bedroom Independent House for rent in Pattom  Trivandraum   \n",
       "165420  4 Bedroom Independent House for rent in Kallam...  Trivandraum   \n",
       "\n",
       "       rent/month deposit ₹ bedrooms bathrooms  sqr_ft  \n",
       "0         17,500      75000       1         2     470   \n",
       "1         75,000     400000       3         3   1,800   \n",
       "2         60,000     200000       2         2     950   \n",
       "3         52,000     300000       3         3   1,300   \n",
       "4         30,000     150000       1         1     550   \n",
       "...           ...       ...      ...       ...     ...  \n",
       "165416    10,000      25000       2         3   1,200   \n",
       "165417    21,000      50000       2         2   1,155   \n",
       "165418    10,000      30000       2         2     861   \n",
       "165419    33,000     150000       4         5   3,200   \n",
       "165420     8,000       None       4         5   2,178   \n",
       "\n",
       "[165421 rows x 7 columns]"
      ]
     },
     "execution_count": 60,
     "metadata": {},
     "output_type": "execute_result"
    }
   ],
   "source": [
    "nd=nd.drop([\"sqm\"],axis=1)\n",
    "nd=nd.drop([\"dea\"],axis=1)\n",
    "nd=nd.drop([\"st\"],axis=1)\n",
    "nd=nd.drop([\"mt\"],axis=1)\n",
    "nd\n",
    "\n",
    "\n"
   ]
  },
  {
   "cell_type": "code",
   "execution_count": 61,
   "id": "9f0d7b41",
   "metadata": {},
   "outputs": [
    {
     "data": {
      "text/plain": [
       "2 BHK Residential Apartment for rent in Wagholi                        498\n",
       "2 BHK Residential Apartment for rent in Wakad                          414\n",
       "2 BHK Residential Apartment for rent in Hinjewadi                      379\n",
       "2 BHK Residential Apartment for rent in Powai                          369\n",
       "2 BHK Residential Apartment for rent in Whitefield                     367\n",
       "3 BHK Residential Apartment for rent in South Bopal                    355\n",
       "3 BHK Residential Apartment for rent in Hiranandani Gardens - Powai    325\n",
       "2 BHK Residential Apartment for rent in Kanjurmarg (west)              324\n",
       "2 BHK Residential Apartment for rent in Greater Noida West             314\n",
       "2 BHK Residential Apartment for rent in Goregaon (East)                310\n",
       "2 BHK Residential Apartment for rent in Bandra (West)                  306\n",
       "4 BHK Residential Apartment for rent in Sector-54 Gurgaon              304\n",
       "1 BHK Residential Apartment for rent in Marol                          300\n",
       "2 BHK Residential Apartment for rent in Hadapsar                       295\n",
       "1 BHK Residential Apartment for rent in Goregaon (East)                280\n",
       "2 BHK Residential Apartment for rent in Kharadi                        277\n",
       "3 BHK Residential Apartment for rent in Whitefield                     274\n",
       "2 BHK Residential Apartment for rent in Chembur (East)                 269\n",
       "3 BHK Residential Apartment for rent in Sector-102 Gurgaon             262\n",
       "2 BHK Residential Apartment for rent in Hiranandani Gardens - Powai    260\n",
       "2 BHK Residential Apartment for rent in Dombivli (East)                253\n",
       "3 BHK Residential Apartment for rent in Sector-65 Gurgaon              251\n",
       "2 BHK Residential Apartment for rent in Chembur                        250\n",
       "2 BHK Residential Apartment for rent in Sector-137 Noida               250\n",
       "2 BHK Residential Apartment for rent in Pimple Saudagar                243\n",
       "1 BHK Residential Apartment for rent in Malad (West)                   242\n",
       "2 BHK Residential Apartment for rent in Hiranandani Estate             240\n",
       "1 BHK Residential Apartment for rent in Thane West                     239\n",
       "1 BHK Residential Apartment for rent in Kandivali (East)               232\n",
       "3 BHK Residential Apartment for rent in Worli                          231\n",
       "3 BHK Residential Apartment for rent in Kondapur                       230\n",
       "2 BHK Residential Apartment for rent in Marol                          228\n",
       "3 BHK Residential Apartment for rent in Sector-137 Noida               226\n",
       "1 BHK Residential Apartment for rent in Wagholi                        226\n",
       "3 BHK Residential Apartment for rent in Gachibowli                     223\n",
       "1 BHK Residential Apartment for rent in Hadapsar                       218\n",
       "2 BHK Residential Apartment for rent in Malad (West)                   218\n",
       "1 BHK Residential Apartment for rent in Dombivli (East)                218\n",
       "2 BHK Residential Apartment for rent in Kharghar                       216\n",
       "1 BHK Residential Apartment for rent in Kasar vadavali                 214\n",
       "2 BHK Residential Apartment for rent in Manpada                        208\n",
       "2 BHK Residential Apartment for rent in Baner                          208\n",
       "1 BHK Residential Apartment for rent in Hinjewadi                      205\n",
       "2 BHK Residential Apartment for rent in Mayur Vihar - I                202\n",
       "2 BHK Residential Apartment for rent in Lokhandwala Kandivali East     201\n",
       "2 BHK Residential Apartment for rent in Electronics City Phase 1       199\n",
       "2 BHK Residential Apartment for rent in Kanjurmarg (East)              197\n",
       "2 BHK Independent Builder Floor for rent in Saket                      197\n",
       "2 BHK Residential Apartment for rent in Majiwada                       196\n",
       "3 BHK Residential Apartment for rent in Sector-48 Gurgaon              193\n",
       "Name: description, dtype: int64"
      ]
     },
     "execution_count": 61,
     "metadata": {},
     "output_type": "execute_result"
    }
   ],
   "source": [
    "\n",
    "y=nd['description'].value_counts(dropna = False)\n",
    "y.head(50)"
   ]
  },
  {
   "cell_type": "code",
   "execution_count": 62,
   "id": "a79e3a78",
   "metadata": {},
   "outputs": [],
   "source": [
    "# checking null values in the data"
   ]
  },
  {
   "cell_type": "code",
   "execution_count": 63,
   "id": "b83126fd",
   "metadata": {},
   "outputs": [
    {
     "data": {
      "text/plain": [
       "description        0\n",
       "city               0\n",
       "rent/month       219\n",
       "deposit ₹      58516\n",
       "bedrooms         549\n",
       "bathrooms       1486\n",
       "sqr_ft             0\n",
       "dtype: int64"
      ]
     },
     "execution_count": 63,
     "metadata": {},
     "output_type": "execute_result"
    }
   ],
   "source": [
    "nd.isnull().sum()"
   ]
  },
  {
   "cell_type": "code",
   "execution_count": 64,
   "id": "6fd77904",
   "metadata": {},
   "outputs": [
    {
     "data": {
      "text/plain": [
       "ncr            48150\n",
       "mumbai         40499\n",
       "bangalore      28925\n",
       "pune           20148\n",
       "chennai        12097\n",
       "hyderabad       8875\n",
       "Ahmedabad       6149\n",
       "Trivandraum      578\n",
       "Name: city, dtype: int64"
      ]
     },
     "execution_count": 64,
     "metadata": {},
     "output_type": "execute_result"
    }
   ],
   "source": [
    "y=nd['city'].value_counts(dropna = False)\n",
    "y.head(50)"
   ]
  },
  {
   "cell_type": "code",
   "execution_count": 65,
   "id": "4a8a511a",
   "metadata": {},
   "outputs": [
    {
     "data": {
      "text/plain": [
       "None       58516\n",
       " 100000    12214\n",
       " 50000     10643\n",
       " 200000     6190\n",
       " 150000     5981\n",
       " 30000      4881\n",
       " 40000      4672\n",
       " 60000      4530\n",
       " 20000      2935\n",
       " 25000      2775\n",
       " 300000     2570\n",
       " 80000      2528\n",
       " 75000      2390\n",
       " 70000      2235\n",
       " 15000      1996\n",
       " 35000      1606\n",
       " 10000      1561\n",
       " 250000     1339\n",
       " 500000     1255\n",
       " 120000     1129\n",
       " 90000       987\n",
       " 45000       904\n",
       " 12000       862\n",
       " 125000      840\n",
       " 18000       794\n",
       " 16000       731\n",
       " 36000       647\n",
       " 14000       635\n",
       " 400000      596\n",
       " 24000       577\n",
       " 22000       565\n",
       " 2           538\n",
       " 32000       533\n",
       " 13000       523\n",
       " 28000       502\n",
       " 11000       493\n",
       " 17000       468\n",
       " 8000        459\n",
       " 180000      457\n",
       " 9000        455\n",
       " 44000       448\n",
       " 26000       399\n",
       " 600000      368\n",
       " 5000        367\n",
       " 64000       364\n",
       " 130000      360\n",
       " 34000       359\n",
       " 65000       347\n",
       " 56000       345\n",
       " 48000       338\n",
       "Name: deposit ₹, dtype: int64"
      ]
     },
     "execution_count": 65,
     "metadata": {},
     "output_type": "execute_result"
    }
   ],
   "source": [
    "\n",
    "y=nd['deposit ₹'].value_counts(dropna = False)\n",
    "y.head(50)"
   ]
  },
  {
   "cell_type": "code",
   "execution_count": 66,
   "id": "2d6a4b16",
   "metadata": {},
   "outputs": [],
   "source": [
    "nd[['ss','area']]=nd[\"description\"].str.split(\"in\",n=1,expand=True)\n"
   ]
  },
  {
   "cell_type": "code",
   "execution_count": 67,
   "id": "ab5c706a",
   "metadata": {},
   "outputs": [
    {
     "data": {
      "text/html": [
       "<div>\n",
       "<style scoped>\n",
       "    .dataframe tbody tr th:only-of-type {\n",
       "        vertical-align: middle;\n",
       "    }\n",
       "\n",
       "    .dataframe tbody tr th {\n",
       "        vertical-align: top;\n",
       "    }\n",
       "\n",
       "    .dataframe thead th {\n",
       "        text-align: right;\n",
       "    }\n",
       "</style>\n",
       "<table border=\"1\" class=\"dataframe\">\n",
       "  <thead>\n",
       "    <tr style=\"text-align: right;\">\n",
       "      <th></th>\n",
       "      <th>ss</th>\n",
       "      <th>area</th>\n",
       "    </tr>\n",
       "  </thead>\n",
       "  <tbody>\n",
       "    <tr>\n",
       "      <th>0</th>\n",
       "      <td>1 BHK Residential Apartment for rent</td>\n",
       "      <td>Kolshet Road</td>\n",
       "    </tr>\n",
       "    <tr>\n",
       "      <th>1</th>\n",
       "      <td>3 BHK Residential Apartment for rent</td>\n",
       "      <td>Sector 21 Nerul</td>\n",
       "    </tr>\n",
       "    <tr>\n",
       "      <th>2</th>\n",
       "      <td>2 BHK Residential Apartment for rent</td>\n",
       "      <td>Wadala</td>\n",
       "    </tr>\n",
       "    <tr>\n",
       "      <th>3</th>\n",
       "      <td>3 BHK Residential Apartment for rent</td>\n",
       "      <td>Hiranandani Estate</td>\n",
       "    </tr>\n",
       "    <tr>\n",
       "      <th>4</th>\n",
       "      <td>1 BHK Residential Apartment for rent</td>\n",
       "      <td>Kanjurmarg (East)</td>\n",
       "    </tr>\n",
       "    <tr>\n",
       "      <th>...</th>\n",
       "      <td>...</td>\n",
       "      <td>...</td>\n",
       "    </tr>\n",
       "    <tr>\n",
       "      <th>165416</th>\n",
       "      <td>2 BHK Independent Builder Floor for rent</td>\n",
       "      <td>Anayara</td>\n",
       "    </tr>\n",
       "    <tr>\n",
       "      <th>165417</th>\n",
       "      <td>2 BHK Residential Apartment for rent</td>\n",
       "      <td>Kazhakkoottam</td>\n",
       "    </tr>\n",
       "    <tr>\n",
       "      <th>165418</th>\n",
       "      <td>2 BHK Residential Apartment for rent</td>\n",
       "      <td>Vattiyoorkkav</td>\n",
       "    </tr>\n",
       "    <tr>\n",
       "      <th>165419</th>\n",
       "      <td>4 Bedroom Independent House for rent</td>\n",
       "      <td>Pattom</td>\n",
       "    </tr>\n",
       "    <tr>\n",
       "      <th>165420</th>\n",
       "      <td>4 Bedroom Independent House for rent</td>\n",
       "      <td>Kallampally</td>\n",
       "    </tr>\n",
       "  </tbody>\n",
       "</table>\n",
       "<p>165421 rows × 2 columns</p>\n",
       "</div>"
      ],
      "text/plain": [
       "                                               ss                 area\n",
       "0           1 BHK Residential Apartment for rent          Kolshet Road\n",
       "1           3 BHK Residential Apartment for rent       Sector 21 Nerul\n",
       "2           2 BHK Residential Apartment for rent                Wadala\n",
       "3           3 BHK Residential Apartment for rent    Hiranandani Estate\n",
       "4           1 BHK Residential Apartment for rent     Kanjurmarg (East)\n",
       "...                                           ...                  ...\n",
       "165416  2 BHK Independent Builder Floor for rent               Anayara\n",
       "165417      2 BHK Residential Apartment for rent         Kazhakkoottam\n",
       "165418      2 BHK Residential Apartment for rent         Vattiyoorkkav\n",
       "165419      4 Bedroom Independent House for rent                Pattom\n",
       "165420      4 Bedroom Independent House for rent           Kallampally\n",
       "\n",
       "[165421 rows x 2 columns]"
      ]
     },
     "execution_count": 67,
     "metadata": {},
     "output_type": "execute_result"
    }
   ],
   "source": [
    "nd[['ss','area']]"
   ]
  },
  {
   "cell_type": "code",
   "execution_count": 68,
   "id": "f380d655",
   "metadata": {},
   "outputs": [
    {
     "data": {
      "text/html": [
       "<div>\n",
       "<style scoped>\n",
       "    .dataframe tbody tr th:only-of-type {\n",
       "        vertical-align: middle;\n",
       "    }\n",
       "\n",
       "    .dataframe tbody tr th {\n",
       "        vertical-align: top;\n",
       "    }\n",
       "\n",
       "    .dataframe thead th {\n",
       "        text-align: right;\n",
       "    }\n",
       "</style>\n",
       "<table border=\"1\" class=\"dataframe\">\n",
       "  <thead>\n",
       "    <tr style=\"text-align: right;\">\n",
       "      <th></th>\n",
       "      <th>city</th>\n",
       "      <th>rent/month</th>\n",
       "      <th>deposit ₹</th>\n",
       "      <th>bedrooms</th>\n",
       "      <th>bathrooms</th>\n",
       "      <th>sqr_ft</th>\n",
       "      <th>ss</th>\n",
       "      <th>area</th>\n",
       "    </tr>\n",
       "  </thead>\n",
       "  <tbody>\n",
       "    <tr>\n",
       "      <th>0</th>\n",
       "      <td>mumbai</td>\n",
       "      <td>17,500</td>\n",
       "      <td>75000</td>\n",
       "      <td>1</td>\n",
       "      <td>2</td>\n",
       "      <td>470</td>\n",
       "      <td>1 BHK Residential Apartment for rent</td>\n",
       "      <td>Kolshet Road</td>\n",
       "    </tr>\n",
       "    <tr>\n",
       "      <th>1</th>\n",
       "      <td>mumbai</td>\n",
       "      <td>75,000</td>\n",
       "      <td>400000</td>\n",
       "      <td>3</td>\n",
       "      <td>3</td>\n",
       "      <td>1,800</td>\n",
       "      <td>3 BHK Residential Apartment for rent</td>\n",
       "      <td>Sector 21 Nerul</td>\n",
       "    </tr>\n",
       "    <tr>\n",
       "      <th>2</th>\n",
       "      <td>mumbai</td>\n",
       "      <td>60,000</td>\n",
       "      <td>200000</td>\n",
       "      <td>2</td>\n",
       "      <td>2</td>\n",
       "      <td>950</td>\n",
       "      <td>2 BHK Residential Apartment for rent</td>\n",
       "      <td>Wadala</td>\n",
       "    </tr>\n",
       "    <tr>\n",
       "      <th>3</th>\n",
       "      <td>mumbai</td>\n",
       "      <td>52,000</td>\n",
       "      <td>300000</td>\n",
       "      <td>3</td>\n",
       "      <td>3</td>\n",
       "      <td>1,300</td>\n",
       "      <td>3 BHK Residential Apartment for rent</td>\n",
       "      <td>Hiranandani Estate</td>\n",
       "    </tr>\n",
       "    <tr>\n",
       "      <th>4</th>\n",
       "      <td>mumbai</td>\n",
       "      <td>30,000</td>\n",
       "      <td>150000</td>\n",
       "      <td>1</td>\n",
       "      <td>1</td>\n",
       "      <td>550</td>\n",
       "      <td>1 BHK Residential Apartment for rent</td>\n",
       "      <td>Kanjurmarg (East)</td>\n",
       "    </tr>\n",
       "    <tr>\n",
       "      <th>...</th>\n",
       "      <td>...</td>\n",
       "      <td>...</td>\n",
       "      <td>...</td>\n",
       "      <td>...</td>\n",
       "      <td>...</td>\n",
       "      <td>...</td>\n",
       "      <td>...</td>\n",
       "      <td>...</td>\n",
       "    </tr>\n",
       "    <tr>\n",
       "      <th>165416</th>\n",
       "      <td>Trivandraum</td>\n",
       "      <td>10,000</td>\n",
       "      <td>25000</td>\n",
       "      <td>2</td>\n",
       "      <td>3</td>\n",
       "      <td>1,200</td>\n",
       "      <td>2 BHK Independent Builder Floor for rent</td>\n",
       "      <td>Anayara</td>\n",
       "    </tr>\n",
       "    <tr>\n",
       "      <th>165417</th>\n",
       "      <td>Trivandraum</td>\n",
       "      <td>21,000</td>\n",
       "      <td>50000</td>\n",
       "      <td>2</td>\n",
       "      <td>2</td>\n",
       "      <td>1,155</td>\n",
       "      <td>2 BHK Residential Apartment for rent</td>\n",
       "      <td>Kazhakkoottam</td>\n",
       "    </tr>\n",
       "    <tr>\n",
       "      <th>165418</th>\n",
       "      <td>Trivandraum</td>\n",
       "      <td>10,000</td>\n",
       "      <td>30000</td>\n",
       "      <td>2</td>\n",
       "      <td>2</td>\n",
       "      <td>861</td>\n",
       "      <td>2 BHK Residential Apartment for rent</td>\n",
       "      <td>Vattiyoorkkav</td>\n",
       "    </tr>\n",
       "    <tr>\n",
       "      <th>165419</th>\n",
       "      <td>Trivandraum</td>\n",
       "      <td>33,000</td>\n",
       "      <td>150000</td>\n",
       "      <td>4</td>\n",
       "      <td>5</td>\n",
       "      <td>3,200</td>\n",
       "      <td>4 Bedroom Independent House for rent</td>\n",
       "      <td>Pattom</td>\n",
       "    </tr>\n",
       "    <tr>\n",
       "      <th>165420</th>\n",
       "      <td>Trivandraum</td>\n",
       "      <td>8,000</td>\n",
       "      <td>None</td>\n",
       "      <td>4</td>\n",
       "      <td>5</td>\n",
       "      <td>2,178</td>\n",
       "      <td>4 Bedroom Independent House for rent</td>\n",
       "      <td>Kallampally</td>\n",
       "    </tr>\n",
       "  </tbody>\n",
       "</table>\n",
       "<p>165421 rows × 8 columns</p>\n",
       "</div>"
      ],
      "text/plain": [
       "               city rent/month deposit ₹ bedrooms bathrooms  sqr_ft  \\\n",
       "0            mumbai    17,500      75000       1         2     470    \n",
       "1            mumbai    75,000     400000       3         3   1,800    \n",
       "2            mumbai    60,000     200000       2         2     950    \n",
       "3            mumbai    52,000     300000       3         3   1,300    \n",
       "4            mumbai    30,000     150000       1         1     550    \n",
       "...             ...        ...       ...      ...       ...     ...   \n",
       "165416  Trivandraum    10,000      25000       2         3   1,200    \n",
       "165417  Trivandraum    21,000      50000       2         2   1,155    \n",
       "165418  Trivandraum    10,000      30000       2         2     861    \n",
       "165419  Trivandraum    33,000     150000       4         5   3,200    \n",
       "165420  Trivandraum     8,000       None       4         5   2,178    \n",
       "\n",
       "                                               ss                 area  \n",
       "0           1 BHK Residential Apartment for rent          Kolshet Road  \n",
       "1           3 BHK Residential Apartment for rent       Sector 21 Nerul  \n",
       "2           2 BHK Residential Apartment for rent                Wadala  \n",
       "3           3 BHK Residential Apartment for rent    Hiranandani Estate  \n",
       "4           1 BHK Residential Apartment for rent     Kanjurmarg (East)  \n",
       "...                                           ...                  ...  \n",
       "165416  2 BHK Independent Builder Floor for rent               Anayara  \n",
       "165417      2 BHK Residential Apartment for rent         Kazhakkoottam  \n",
       "165418      2 BHK Residential Apartment for rent         Vattiyoorkkav  \n",
       "165419      4 Bedroom Independent House for rent                Pattom  \n",
       "165420      4 Bedroom Independent House for rent           Kallampally  \n",
       "\n",
       "[165421 rows x 8 columns]"
      ]
     },
     "execution_count": 68,
     "metadata": {},
     "output_type": "execute_result"
    }
   ],
   "source": [
    "nd=nd.drop([\"description\"],axis=1)\n",
    "nd"
   ]
  },
  {
   "cell_type": "code",
   "execution_count": 69,
   "id": "624d3548",
   "metadata": {},
   "outputs": [],
   "source": [
    "nd[['residence','da']]=nd[\"ss\"].str.split(\"for rent\",n=1,expand=True)\n"
   ]
  },
  {
   "cell_type": "code",
   "execution_count": 70,
   "id": "7223eb07",
   "metadata": {},
   "outputs": [
    {
     "data": {
      "text/html": [
       "<div>\n",
       "<style scoped>\n",
       "    .dataframe tbody tr th:only-of-type {\n",
       "        vertical-align: middle;\n",
       "    }\n",
       "\n",
       "    .dataframe tbody tr th {\n",
       "        vertical-align: top;\n",
       "    }\n",
       "\n",
       "    .dataframe thead th {\n",
       "        text-align: right;\n",
       "    }\n",
       "</style>\n",
       "<table border=\"1\" class=\"dataframe\">\n",
       "  <thead>\n",
       "    <tr style=\"text-align: right;\">\n",
       "      <th></th>\n",
       "      <th>residence</th>\n",
       "      <th>da</th>\n",
       "    </tr>\n",
       "  </thead>\n",
       "  <tbody>\n",
       "    <tr>\n",
       "      <th>0</th>\n",
       "      <td>1 BHK Residential Apartment</td>\n",
       "      <td></td>\n",
       "    </tr>\n",
       "    <tr>\n",
       "      <th>1</th>\n",
       "      <td>3 BHK Residential Apartment</td>\n",
       "      <td></td>\n",
       "    </tr>\n",
       "    <tr>\n",
       "      <th>2</th>\n",
       "      <td>2 BHK Residential Apartment</td>\n",
       "      <td></td>\n",
       "    </tr>\n",
       "    <tr>\n",
       "      <th>3</th>\n",
       "      <td>3 BHK Residential Apartment</td>\n",
       "      <td></td>\n",
       "    </tr>\n",
       "    <tr>\n",
       "      <th>4</th>\n",
       "      <td>1 BHK Residential Apartment</td>\n",
       "      <td></td>\n",
       "    </tr>\n",
       "    <tr>\n",
       "      <th>...</th>\n",
       "      <td>...</td>\n",
       "      <td>...</td>\n",
       "    </tr>\n",
       "    <tr>\n",
       "      <th>165416</th>\n",
       "      <td>2 BHK Independent Builder Floor</td>\n",
       "      <td></td>\n",
       "    </tr>\n",
       "    <tr>\n",
       "      <th>165417</th>\n",
       "      <td>2 BHK Residential Apartment</td>\n",
       "      <td></td>\n",
       "    </tr>\n",
       "    <tr>\n",
       "      <th>165418</th>\n",
       "      <td>2 BHK Residential Apartment</td>\n",
       "      <td></td>\n",
       "    </tr>\n",
       "    <tr>\n",
       "      <th>165419</th>\n",
       "      <td>4 Bedroom Independent House</td>\n",
       "      <td></td>\n",
       "    </tr>\n",
       "    <tr>\n",
       "      <th>165420</th>\n",
       "      <td>4 Bedroom Independent House</td>\n",
       "      <td></td>\n",
       "    </tr>\n",
       "  </tbody>\n",
       "</table>\n",
       "<p>165421 rows × 2 columns</p>\n",
       "</div>"
      ],
      "text/plain": [
       "                               residence da\n",
       "0           1 BHK Residential Apartment    \n",
       "1           3 BHK Residential Apartment    \n",
       "2           2 BHK Residential Apartment    \n",
       "3           3 BHK Residential Apartment    \n",
       "4           1 BHK Residential Apartment    \n",
       "...                                  ... ..\n",
       "165416  2 BHK Independent Builder Floor    \n",
       "165417      2 BHK Residential Apartment    \n",
       "165418      2 BHK Residential Apartment    \n",
       "165419      4 Bedroom Independent House    \n",
       "165420      4 Bedroom Independent House    \n",
       "\n",
       "[165421 rows x 2 columns]"
      ]
     },
     "execution_count": 70,
     "metadata": {},
     "output_type": "execute_result"
    }
   ],
   "source": [
    "nd[['residence','da']]"
   ]
  },
  {
   "cell_type": "code",
   "execution_count": 71,
   "id": "5f33a310",
   "metadata": {},
   "outputs": [
    {
     "data": {
      "text/html": [
       "<div>\n",
       "<style scoped>\n",
       "    .dataframe tbody tr th:only-of-type {\n",
       "        vertical-align: middle;\n",
       "    }\n",
       "\n",
       "    .dataframe tbody tr th {\n",
       "        vertical-align: top;\n",
       "    }\n",
       "\n",
       "    .dataframe thead th {\n",
       "        text-align: right;\n",
       "    }\n",
       "</style>\n",
       "<table border=\"1\" class=\"dataframe\">\n",
       "  <thead>\n",
       "    <tr style=\"text-align: right;\">\n",
       "      <th></th>\n",
       "      <th>city</th>\n",
       "      <th>rent/month</th>\n",
       "      <th>deposit ₹</th>\n",
       "      <th>bedrooms</th>\n",
       "      <th>bathrooms</th>\n",
       "      <th>sqr_ft</th>\n",
       "      <th>area</th>\n",
       "      <th>residence</th>\n",
       "    </tr>\n",
       "  </thead>\n",
       "  <tbody>\n",
       "    <tr>\n",
       "      <th>0</th>\n",
       "      <td>mumbai</td>\n",
       "      <td>17,500</td>\n",
       "      <td>75000</td>\n",
       "      <td>1</td>\n",
       "      <td>2</td>\n",
       "      <td>470</td>\n",
       "      <td>Kolshet Road</td>\n",
       "      <td>1 BHK Residential Apartment</td>\n",
       "    </tr>\n",
       "    <tr>\n",
       "      <th>1</th>\n",
       "      <td>mumbai</td>\n",
       "      <td>75,000</td>\n",
       "      <td>400000</td>\n",
       "      <td>3</td>\n",
       "      <td>3</td>\n",
       "      <td>1,800</td>\n",
       "      <td>Sector 21 Nerul</td>\n",
       "      <td>3 BHK Residential Apartment</td>\n",
       "    </tr>\n",
       "    <tr>\n",
       "      <th>2</th>\n",
       "      <td>mumbai</td>\n",
       "      <td>60,000</td>\n",
       "      <td>200000</td>\n",
       "      <td>2</td>\n",
       "      <td>2</td>\n",
       "      <td>950</td>\n",
       "      <td>Wadala</td>\n",
       "      <td>2 BHK Residential Apartment</td>\n",
       "    </tr>\n",
       "    <tr>\n",
       "      <th>3</th>\n",
       "      <td>mumbai</td>\n",
       "      <td>52,000</td>\n",
       "      <td>300000</td>\n",
       "      <td>3</td>\n",
       "      <td>3</td>\n",
       "      <td>1,300</td>\n",
       "      <td>Hiranandani Estate</td>\n",
       "      <td>3 BHK Residential Apartment</td>\n",
       "    </tr>\n",
       "    <tr>\n",
       "      <th>4</th>\n",
       "      <td>mumbai</td>\n",
       "      <td>30,000</td>\n",
       "      <td>150000</td>\n",
       "      <td>1</td>\n",
       "      <td>1</td>\n",
       "      <td>550</td>\n",
       "      <td>Kanjurmarg (East)</td>\n",
       "      <td>1 BHK Residential Apartment</td>\n",
       "    </tr>\n",
       "    <tr>\n",
       "      <th>...</th>\n",
       "      <td>...</td>\n",
       "      <td>...</td>\n",
       "      <td>...</td>\n",
       "      <td>...</td>\n",
       "      <td>...</td>\n",
       "      <td>...</td>\n",
       "      <td>...</td>\n",
       "      <td>...</td>\n",
       "    </tr>\n",
       "    <tr>\n",
       "      <th>165416</th>\n",
       "      <td>Trivandraum</td>\n",
       "      <td>10,000</td>\n",
       "      <td>25000</td>\n",
       "      <td>2</td>\n",
       "      <td>3</td>\n",
       "      <td>1,200</td>\n",
       "      <td>Anayara</td>\n",
       "      <td>2 BHK Independent Builder Floor</td>\n",
       "    </tr>\n",
       "    <tr>\n",
       "      <th>165417</th>\n",
       "      <td>Trivandraum</td>\n",
       "      <td>21,000</td>\n",
       "      <td>50000</td>\n",
       "      <td>2</td>\n",
       "      <td>2</td>\n",
       "      <td>1,155</td>\n",
       "      <td>Kazhakkoottam</td>\n",
       "      <td>2 BHK Residential Apartment</td>\n",
       "    </tr>\n",
       "    <tr>\n",
       "      <th>165418</th>\n",
       "      <td>Trivandraum</td>\n",
       "      <td>10,000</td>\n",
       "      <td>30000</td>\n",
       "      <td>2</td>\n",
       "      <td>2</td>\n",
       "      <td>861</td>\n",
       "      <td>Vattiyoorkkav</td>\n",
       "      <td>2 BHK Residential Apartment</td>\n",
       "    </tr>\n",
       "    <tr>\n",
       "      <th>165419</th>\n",
       "      <td>Trivandraum</td>\n",
       "      <td>33,000</td>\n",
       "      <td>150000</td>\n",
       "      <td>4</td>\n",
       "      <td>5</td>\n",
       "      <td>3,200</td>\n",
       "      <td>Pattom</td>\n",
       "      <td>4 Bedroom Independent House</td>\n",
       "    </tr>\n",
       "    <tr>\n",
       "      <th>165420</th>\n",
       "      <td>Trivandraum</td>\n",
       "      <td>8,000</td>\n",
       "      <td>None</td>\n",
       "      <td>4</td>\n",
       "      <td>5</td>\n",
       "      <td>2,178</td>\n",
       "      <td>Kallampally</td>\n",
       "      <td>4 Bedroom Independent House</td>\n",
       "    </tr>\n",
       "  </tbody>\n",
       "</table>\n",
       "<p>165421 rows × 8 columns</p>\n",
       "</div>"
      ],
      "text/plain": [
       "               city rent/month deposit ₹ bedrooms bathrooms  sqr_ft  \\\n",
       "0            mumbai    17,500      75000       1         2     470    \n",
       "1            mumbai    75,000     400000       3         3   1,800    \n",
       "2            mumbai    60,000     200000       2         2     950    \n",
       "3            mumbai    52,000     300000       3         3   1,300    \n",
       "4            mumbai    30,000     150000       1         1     550    \n",
       "...             ...        ...       ...      ...       ...     ...   \n",
       "165416  Trivandraum    10,000      25000       2         3   1,200    \n",
       "165417  Trivandraum    21,000      50000       2         2   1,155    \n",
       "165418  Trivandraum    10,000      30000       2         2     861    \n",
       "165419  Trivandraum    33,000     150000       4         5   3,200    \n",
       "165420  Trivandraum     8,000       None       4         5   2,178    \n",
       "\n",
       "                       area                         residence  \n",
       "0              Kolshet Road      1 BHK Residential Apartment   \n",
       "1           Sector 21 Nerul      3 BHK Residential Apartment   \n",
       "2                    Wadala      2 BHK Residential Apartment   \n",
       "3        Hiranandani Estate      3 BHK Residential Apartment   \n",
       "4         Kanjurmarg (East)      1 BHK Residential Apartment   \n",
       "...                     ...                               ...  \n",
       "165416              Anayara  2 BHK Independent Builder Floor   \n",
       "165417        Kazhakkoottam      2 BHK Residential Apartment   \n",
       "165418        Vattiyoorkkav      2 BHK Residential Apartment   \n",
       "165419               Pattom      4 Bedroom Independent House   \n",
       "165420          Kallampally      4 Bedroom Independent House   \n",
       "\n",
       "[165421 rows x 8 columns]"
      ]
     },
     "execution_count": 71,
     "metadata": {},
     "output_type": "execute_result"
    }
   ],
   "source": [
    "nd=nd.drop([\"da\"],axis=1)\n",
    "nd=nd.drop([\"ss\"],axis=1)\n",
    "nd"
   ]
  },
  {
   "cell_type": "code",
   "execution_count": 72,
   "id": "f70b9800",
   "metadata": {},
   "outputs": [
    {
     "data": {
      "text/plain": [
       "2 BHK Residential Apartment          49988\n",
       "3 BHK Residential Apartment          32645\n",
       "1 BHK Residential Apartment          24145\n",
       "2 BHK Independent Builder Floor      11600\n",
       "1 BHK Independent Builder Floor       7987\n",
       "2 Bedroom Independent House           7411\n",
       "1 Bedroom Independent House           7256\n",
       "3 BHK Independent Builder Floor       6449\n",
       "4 BHK Residential Apartment           5534\n",
       "(1 RK) Studio Apartment               3166\n",
       "3 Bedroom Independent House           2675\n",
       "4 BHK Independent Builder Floor       2223\n",
       "4 Bedroom Independent House           1511\n",
       "5 Bedroom Independent House            539\n",
       "Residential property                   497\n",
       "5 BHK Residential Apartment            315\n",
       "1 BHK Serviced Apartment               212\n",
       "6 Bedroom Independent House            180\n",
       "Residential Apartment                  120\n",
       "5 BHK Independent Builder Floor        114\n",
       "2 BHK Serviced Apartment               107\n",
       "5 Bedroom Farm house                    77\n",
       "7 Bedroom Independent House             66\n",
       "4 Bedroom Farm house                    57\n",
       "3 BHK Serviced Apartment                57\n",
       "8 Bedroom Independent House             51\n",
       "9 Bedroom Independent House             44\n",
       "12 Bedroom Independent House            30\n",
       "6 BHK Residential Apartment             30\n",
       "10 Bedroom Independent House            28\n",
       "6 Bedroom Farm house                    26\n",
       "16 Bedroom Independent House            22\n",
       "Independent House                       21\n",
       "Independent Builder Floor               19\n",
       "6 BHK Independent Builder Floor         17\n",
       "2 Bedroom Farm house                    15\n",
       "20 Bedroom Independent House            15\n",
       "1 Bedroom Farm house                    13\n",
       "18 Bedroom Independent House            12\n",
       "4 BHK Serviced Apartment                11\n",
       "3 Bedroom Farm house                    10\n",
       "14 Bedroom Independent House            10\n",
       "15 Bedroom Independent House             9\n",
       "11 Bedroom Independent House             7\n",
       "10 BHK Independent Builder Floor         6\n",
       "22 Bedroom Independent House             6\n",
       "7 Bedroom Farm house                     5\n",
       "9 BHK Independent Builder Floor          5\n",
       "13 Bedroom Independent House             5\n",
       "17 Bedroom Independent House             5\n",
       "Name: residence, dtype: int64"
      ]
     },
     "execution_count": 72,
     "metadata": {},
     "output_type": "execute_result"
    }
   ],
   "source": [
    "y=nd['residence'].value_counts(dropna = False)\n",
    "y.head(50)"
   ]
  },
  {
   "cell_type": "code",
   "execution_count": 73,
   "id": "452fb4c1",
   "metadata": {},
   "outputs": [
    {
     "data": {
      "text/html": [
       "<div>\n",
       "<style scoped>\n",
       "    .dataframe tbody tr th:only-of-type {\n",
       "        vertical-align: middle;\n",
       "    }\n",
       "\n",
       "    .dataframe tbody tr th {\n",
       "        vertical-align: top;\n",
       "    }\n",
       "\n",
       "    .dataframe thead th {\n",
       "        text-align: right;\n",
       "    }\n",
       "</style>\n",
       "<table border=\"1\" class=\"dataframe\">\n",
       "  <thead>\n",
       "    <tr style=\"text-align: right;\">\n",
       "      <th></th>\n",
       "      <th>tt</th>\n",
       "      <th>description</th>\n",
       "    </tr>\n",
       "  </thead>\n",
       "  <tbody>\n",
       "    <tr>\n",
       "      <th>0</th>\n",
       "      <td>1</td>\n",
       "      <td>BHK Residential Apartment</td>\n",
       "    </tr>\n",
       "    <tr>\n",
       "      <th>1</th>\n",
       "      <td>3</td>\n",
       "      <td>BHK Residential Apartment</td>\n",
       "    </tr>\n",
       "    <tr>\n",
       "      <th>2</th>\n",
       "      <td>2</td>\n",
       "      <td>BHK Residential Apartment</td>\n",
       "    </tr>\n",
       "    <tr>\n",
       "      <th>3</th>\n",
       "      <td>3</td>\n",
       "      <td>BHK Residential Apartment</td>\n",
       "    </tr>\n",
       "    <tr>\n",
       "      <th>4</th>\n",
       "      <td>1</td>\n",
       "      <td>BHK Residential Apartment</td>\n",
       "    </tr>\n",
       "    <tr>\n",
       "      <th>...</th>\n",
       "      <td>...</td>\n",
       "      <td>...</td>\n",
       "    </tr>\n",
       "    <tr>\n",
       "      <th>165416</th>\n",
       "      <td>2</td>\n",
       "      <td>BHK Independent Builder Floor</td>\n",
       "    </tr>\n",
       "    <tr>\n",
       "      <th>165417</th>\n",
       "      <td>2</td>\n",
       "      <td>BHK Residential Apartment</td>\n",
       "    </tr>\n",
       "    <tr>\n",
       "      <th>165418</th>\n",
       "      <td>2</td>\n",
       "      <td>BHK Residential Apartment</td>\n",
       "    </tr>\n",
       "    <tr>\n",
       "      <th>165419</th>\n",
       "      <td>4</td>\n",
       "      <td>Bedroom Independent House</td>\n",
       "    </tr>\n",
       "    <tr>\n",
       "      <th>165420</th>\n",
       "      <td>4</td>\n",
       "      <td>Bedroom Independent House</td>\n",
       "    </tr>\n",
       "  </tbody>\n",
       "</table>\n",
       "<p>165421 rows × 2 columns</p>\n",
       "</div>"
      ],
      "text/plain": [
       "       tt                     description\n",
       "0       1      BHK Residential Apartment \n",
       "1       3      BHK Residential Apartment \n",
       "2       2      BHK Residential Apartment \n",
       "3       3      BHK Residential Apartment \n",
       "4       1      BHK Residential Apartment \n",
       "...    ..                             ...\n",
       "165416  2  BHK Independent Builder Floor \n",
       "165417  2      BHK Residential Apartment \n",
       "165418  2      BHK Residential Apartment \n",
       "165419  4      Bedroom Independent House \n",
       "165420  4      Bedroom Independent House \n",
       "\n",
       "[165421 rows x 2 columns]"
      ]
     },
     "execution_count": 73,
     "metadata": {},
     "output_type": "execute_result"
    }
   ],
   "source": [
    "nd[['tt','description']]=nd['residence'].str.split(\" \",n=1,expand=True)\n",
    "nd[['tt','description']]"
   ]
  },
  {
   "cell_type": "code",
   "execution_count": 74,
   "id": "443e9dd4",
   "metadata": {},
   "outputs": [
    {
     "data": {
      "text/html": [
       "<div>\n",
       "<style scoped>\n",
       "    .dataframe tbody tr th:only-of-type {\n",
       "        vertical-align: middle;\n",
       "    }\n",
       "\n",
       "    .dataframe tbody tr th {\n",
       "        vertical-align: top;\n",
       "    }\n",
       "\n",
       "    .dataframe thead th {\n",
       "        text-align: right;\n",
       "    }\n",
       "</style>\n",
       "<table border=\"1\" class=\"dataframe\">\n",
       "  <thead>\n",
       "    <tr style=\"text-align: right;\">\n",
       "      <th></th>\n",
       "      <th>city</th>\n",
       "      <th>rent/month</th>\n",
       "      <th>deposit ₹</th>\n",
       "      <th>bedrooms</th>\n",
       "      <th>bathrooms</th>\n",
       "      <th>sqr_ft</th>\n",
       "      <th>area</th>\n",
       "      <th>description</th>\n",
       "    </tr>\n",
       "  </thead>\n",
       "  <tbody>\n",
       "    <tr>\n",
       "      <th>0</th>\n",
       "      <td>mumbai</td>\n",
       "      <td>17,500</td>\n",
       "      <td>75000</td>\n",
       "      <td>1</td>\n",
       "      <td>2</td>\n",
       "      <td>470</td>\n",
       "      <td>Kolshet Road</td>\n",
       "      <td>BHK Residential Apartment</td>\n",
       "    </tr>\n",
       "    <tr>\n",
       "      <th>1</th>\n",
       "      <td>mumbai</td>\n",
       "      <td>75,000</td>\n",
       "      <td>400000</td>\n",
       "      <td>3</td>\n",
       "      <td>3</td>\n",
       "      <td>1,800</td>\n",
       "      <td>Sector 21 Nerul</td>\n",
       "      <td>BHK Residential Apartment</td>\n",
       "    </tr>\n",
       "    <tr>\n",
       "      <th>2</th>\n",
       "      <td>mumbai</td>\n",
       "      <td>60,000</td>\n",
       "      <td>200000</td>\n",
       "      <td>2</td>\n",
       "      <td>2</td>\n",
       "      <td>950</td>\n",
       "      <td>Wadala</td>\n",
       "      <td>BHK Residential Apartment</td>\n",
       "    </tr>\n",
       "    <tr>\n",
       "      <th>3</th>\n",
       "      <td>mumbai</td>\n",
       "      <td>52,000</td>\n",
       "      <td>300000</td>\n",
       "      <td>3</td>\n",
       "      <td>3</td>\n",
       "      <td>1,300</td>\n",
       "      <td>Hiranandani Estate</td>\n",
       "      <td>BHK Residential Apartment</td>\n",
       "    </tr>\n",
       "    <tr>\n",
       "      <th>4</th>\n",
       "      <td>mumbai</td>\n",
       "      <td>30,000</td>\n",
       "      <td>150000</td>\n",
       "      <td>1</td>\n",
       "      <td>1</td>\n",
       "      <td>550</td>\n",
       "      <td>Kanjurmarg (East)</td>\n",
       "      <td>BHK Residential Apartment</td>\n",
       "    </tr>\n",
       "    <tr>\n",
       "      <th>...</th>\n",
       "      <td>...</td>\n",
       "      <td>...</td>\n",
       "      <td>...</td>\n",
       "      <td>...</td>\n",
       "      <td>...</td>\n",
       "      <td>...</td>\n",
       "      <td>...</td>\n",
       "      <td>...</td>\n",
       "    </tr>\n",
       "    <tr>\n",
       "      <th>165416</th>\n",
       "      <td>Trivandraum</td>\n",
       "      <td>10,000</td>\n",
       "      <td>25000</td>\n",
       "      <td>2</td>\n",
       "      <td>3</td>\n",
       "      <td>1,200</td>\n",
       "      <td>Anayara</td>\n",
       "      <td>BHK Independent Builder Floor</td>\n",
       "    </tr>\n",
       "    <tr>\n",
       "      <th>165417</th>\n",
       "      <td>Trivandraum</td>\n",
       "      <td>21,000</td>\n",
       "      <td>50000</td>\n",
       "      <td>2</td>\n",
       "      <td>2</td>\n",
       "      <td>1,155</td>\n",
       "      <td>Kazhakkoottam</td>\n",
       "      <td>BHK Residential Apartment</td>\n",
       "    </tr>\n",
       "    <tr>\n",
       "      <th>165418</th>\n",
       "      <td>Trivandraum</td>\n",
       "      <td>10,000</td>\n",
       "      <td>30000</td>\n",
       "      <td>2</td>\n",
       "      <td>2</td>\n",
       "      <td>861</td>\n",
       "      <td>Vattiyoorkkav</td>\n",
       "      <td>BHK Residential Apartment</td>\n",
       "    </tr>\n",
       "    <tr>\n",
       "      <th>165419</th>\n",
       "      <td>Trivandraum</td>\n",
       "      <td>33,000</td>\n",
       "      <td>150000</td>\n",
       "      <td>4</td>\n",
       "      <td>5</td>\n",
       "      <td>3,200</td>\n",
       "      <td>Pattom</td>\n",
       "      <td>Bedroom Independent House</td>\n",
       "    </tr>\n",
       "    <tr>\n",
       "      <th>165420</th>\n",
       "      <td>Trivandraum</td>\n",
       "      <td>8,000</td>\n",
       "      <td>None</td>\n",
       "      <td>4</td>\n",
       "      <td>5</td>\n",
       "      <td>2,178</td>\n",
       "      <td>Kallampally</td>\n",
       "      <td>Bedroom Independent House</td>\n",
       "    </tr>\n",
       "  </tbody>\n",
       "</table>\n",
       "<p>165421 rows × 8 columns</p>\n",
       "</div>"
      ],
      "text/plain": [
       "               city rent/month deposit ₹ bedrooms bathrooms  sqr_ft  \\\n",
       "0            mumbai    17,500      75000       1         2     470    \n",
       "1            mumbai    75,000     400000       3         3   1,800    \n",
       "2            mumbai    60,000     200000       2         2     950    \n",
       "3            mumbai    52,000     300000       3         3   1,300    \n",
       "4            mumbai    30,000     150000       1         1     550    \n",
       "...             ...        ...       ...      ...       ...     ...   \n",
       "165416  Trivandraum    10,000      25000       2         3   1,200    \n",
       "165417  Trivandraum    21,000      50000       2         2   1,155    \n",
       "165418  Trivandraum    10,000      30000       2         2     861    \n",
       "165419  Trivandraum    33,000     150000       4         5   3,200    \n",
       "165420  Trivandraum     8,000       None       4         5   2,178    \n",
       "\n",
       "                       area                     description  \n",
       "0              Kolshet Road      BHK Residential Apartment   \n",
       "1           Sector 21 Nerul      BHK Residential Apartment   \n",
       "2                    Wadala      BHK Residential Apartment   \n",
       "3        Hiranandani Estate      BHK Residential Apartment   \n",
       "4         Kanjurmarg (East)      BHK Residential Apartment   \n",
       "...                     ...                             ...  \n",
       "165416              Anayara  BHK Independent Builder Floor   \n",
       "165417        Kazhakkoottam      BHK Residential Apartment   \n",
       "165418        Vattiyoorkkav      BHK Residential Apartment   \n",
       "165419               Pattom      Bedroom Independent House   \n",
       "165420          Kallampally      Bedroom Independent House   \n",
       "\n",
       "[165421 rows x 8 columns]"
      ]
     },
     "execution_count": 74,
     "metadata": {},
     "output_type": "execute_result"
    }
   ],
   "source": [
    "nd=nd.drop(['tt'],axis=1)\n",
    "nd=nd.drop(['residence'],axis=1)\n",
    "nd"
   ]
  },
  {
   "cell_type": "code",
   "execution_count": 75,
   "id": "52fda91f",
   "metadata": {},
   "outputs": [
    {
     "data": {
      "text/plain": [
       "BHK Residential Apartment         112676\n",
       "BHK Independent Builder Floor      28414\n",
       "Bedroom Independent House          19901\n",
       "RK) Studio Apartment                3166\n",
       "property                             497\n",
       "BHK Serviced Apartment               400\n",
       "Bedroom Farm house                   207\n",
       "Apartment                            120\n",
       "House                                 21\n",
       "Builder Floor                         19\n",
       "Name: description, dtype: int64"
      ]
     },
     "execution_count": 75,
     "metadata": {},
     "output_type": "execute_result"
    }
   ],
   "source": [
    "y=nd['description'].value_counts(dropna = False)\n",
    "y.head(50)"
   ]
  },
  {
   "cell_type": "code",
   "execution_count": 76,
   "id": "193ef58c",
   "metadata": {},
   "outputs": [
    {
     "data": {
      "text/plain": [
       " 15,000     7405\n",
       " 20,000     6776\n",
       " 25,000     5830\n",
       " 12,000     5742\n",
       " 10,000     5647\n",
       " 18,000     5587\n",
       " 16,000     4866\n",
       " 30,000     4525\n",
       " 14,000     4337\n",
       " 22,000     4022\n",
       " 13,000     3880\n",
       " 35,000     3799\n",
       " 17,000     3627\n",
       " 11,000     3477\n",
       " 9,000      3316\n",
       " 8,000      3257\n",
       " 40,000     2750\n",
       " 23,000     2506\n",
       " 28,000     2462\n",
       " 7,000      2386\n",
       " 45,000     2371\n",
       " 21,000     2356\n",
       " 24,000     2259\n",
       " 19,000     2138\n",
       " 32,000     2121\n",
       " 8,500      2100\n",
       " 26,000     2012\n",
       " 50,000     1955\n",
       " 7,500      1826\n",
       " 27,000     1798\n",
       " 6,000      1714\n",
       " 12,500     1682\n",
       " 9,500      1420\n",
       " 55,000     1420\n",
       " 60,000     1414\n",
       " 13,500     1412\n",
       " 6,500      1318\n",
       " 65,000     1213\n",
       " 38,000     1187\n",
       " 10,500     1160\n",
       " 5,000      1133\n",
       " 16,500     1108\n",
       " 33,000     1060\n",
       " 42,000     1046\n",
       " 75,000     1030\n",
       " 70,000     1001\n",
       " 11,500      956\n",
       " 36,000      939\n",
       " 14,500      887\n",
       " 1           848\n",
       "Name: rent/month, dtype: int64"
      ]
     },
     "execution_count": 76,
     "metadata": {},
     "output_type": "execute_result"
    }
   ],
   "source": [
    "y=nd['rent/month'].value_counts(dropna = False)\n",
    "y.head(50)"
   ]
  },
  {
   "cell_type": "code",
   "execution_count": 77,
   "id": "4cc281bf",
   "metadata": {},
   "outputs": [],
   "source": [
    "nd['rent/month']=nd['rent/month'].str.replace(',','')"
   ]
  },
  {
   "cell_type": "code",
   "execution_count": 78,
   "id": "401fd888",
   "metadata": {},
   "outputs": [],
   "source": [
    "nd['rent/month']=nd['rent/month'].str.replace('.','')"
   ]
  },
  {
   "cell_type": "code",
   "execution_count": 79,
   "id": "7f5695e5",
   "metadata": {},
   "outputs": [],
   "source": [
    "nd['rent/month']=nd['rent/month'].str.replace('-','')"
   ]
  },
  {
   "cell_type": "code",
   "execution_count": 80,
   "id": "b3132cf0",
   "metadata": {},
   "outputs": [],
   "source": [
    "nd['rent/month']=nd['rent/month'].str.replace('16000  18000','17500')"
   ]
  },
  {
   "cell_type": "code",
   "execution_count": 81,
   "id": "749f226c",
   "metadata": {},
   "outputs": [],
   "source": [
    "nd['rent/month']=nd['rent/month'].str.replace('20000  24000','22000')"
   ]
  },
  {
   "cell_type": "code",
   "execution_count": 82,
   "id": "19b86199",
   "metadata": {},
   "outputs": [],
   "source": [
    "nd['rent/month']=nd['rent/month'].str.replace('4500  6500','5500')"
   ]
  },
  {
   "cell_type": "code",
   "execution_count": 83,
   "id": "16d8c5ea",
   "metadata": {},
   "outputs": [],
   "source": [
    "nd['rent/month']=nd['rent/month'].str.replace('35000  40000','38000')"
   ]
  },
  {
   "cell_type": "code",
   "execution_count": 84,
   "id": "72a901b8",
   "metadata": {},
   "outputs": [
    {
     "data": {
      "text/plain": [
       " 15000     7405\n",
       " 20000     6776\n",
       " 25000     5830\n",
       " 12000     5742\n",
       " 10000     5647\n",
       " 18000     5587\n",
       " 16000     4866\n",
       " 30000     4525\n",
       " 14000     4337\n",
       " 22000     4023\n",
       " 13000     3880\n",
       " 35000     3799\n",
       " 17000     3627\n",
       " 11000     3477\n",
       " 9000      3316\n",
       " 8000      3257\n",
       " 40000     2750\n",
       " 23000     2506\n",
       " 28000     2462\n",
       " 7000      2386\n",
       " 45000     2371\n",
       " 21000     2356\n",
       " 24000     2259\n",
       " 19000     2138\n",
       " 32000     2121\n",
       " 8500      2100\n",
       " 26000     2012\n",
       " 50000     1955\n",
       " 7500      1826\n",
       " 27000     1798\n",
       " 6000      1714\n",
       " 12500     1682\n",
       " 55000     1420\n",
       " 9500      1420\n",
       " 60000     1414\n",
       " 13500     1412\n",
       " 6500      1318\n",
       " 65000     1213\n",
       " 38000     1188\n",
       " 10500     1160\n",
       " 5000      1133\n",
       " 16500     1108\n",
       " 33000     1060\n",
       " 42000     1046\n",
       " 75000     1030\n",
       " 70000     1001\n",
       " 11500      956\n",
       " 36000      939\n",
       " 14500      887\n",
       " 1          848\n",
       "Name: rent/month, dtype: int64"
      ]
     },
     "execution_count": 84,
     "metadata": {},
     "output_type": "execute_result"
    }
   ],
   "source": [
    "y=nd['rent/month'].value_counts(dropna = False)\n",
    "y.head(50)"
   ]
  },
  {
   "cell_type": "code",
   "execution_count": 85,
   "id": "8c67e934",
   "metadata": {},
   "outputs": [
    {
     "data": {
      "text/plain": [
       "2      69149\n",
       "1      42863\n",
       "3      41838\n",
       "4       9333\n",
       "5       1043\n",
       "NaN      549\n",
       "6        254\n",
       "7         78\n",
       "8         60\n",
       "9         53\n",
       "10        38\n",
       "12        36\n",
       "16        23\n",
       "20        18\n",
       "18        13\n",
       "15        12\n",
       "14        10\n",
       "11         8\n",
       "22         7\n",
       "13         5\n",
       "17         5\n",
       "21         4\n",
       "19         4\n",
       "26         3\n",
       "25         2\n",
       "32         2\n",
       "76         2\n",
       "59         1\n",
       "54         1\n",
       "95         1\n",
       "23         1\n",
       "41         1\n",
       "40         1\n",
       "35         1\n",
       "27         1\n",
       "50         1\n",
       "Name: bedrooms, dtype: int64"
      ]
     },
     "execution_count": 85,
     "metadata": {},
     "output_type": "execute_result"
    }
   ],
   "source": [
    "y=nd['bedrooms'].value_counts(dropna = False)\n",
    "y.head(50)"
   ]
  },
  {
   "cell_type": "code",
   "execution_count": 86,
   "id": "e5fdf561",
   "metadata": {},
   "outputs": [
    {
     "data": {
      "text/plain": [
       "None       58516\n",
       " 100000    12214\n",
       " 50000     10643\n",
       " 200000     6190\n",
       " 150000     5981\n",
       " 30000      4881\n",
       " 40000      4672\n",
       " 60000      4530\n",
       " 20000      2935\n",
       " 25000      2775\n",
       " 300000     2570\n",
       " 80000      2528\n",
       " 75000      2390\n",
       " 70000      2235\n",
       " 15000      1996\n",
       " 35000      1606\n",
       " 10000      1561\n",
       " 250000     1339\n",
       " 500000     1255\n",
       " 120000     1129\n",
       " 90000       987\n",
       " 45000       904\n",
       " 12000       862\n",
       " 125000      840\n",
       " 18000       794\n",
       " 16000       731\n",
       " 36000       647\n",
       " 14000       635\n",
       " 400000      596\n",
       " 24000       577\n",
       " 22000       565\n",
       " 2           538\n",
       " 32000       533\n",
       " 13000       523\n",
       " 28000       502\n",
       " 11000       493\n",
       " 17000       468\n",
       " 8000        459\n",
       " 180000      457\n",
       " 9000        455\n",
       " 44000       448\n",
       " 26000       399\n",
       " 600000      368\n",
       " 5000        367\n",
       " 64000       364\n",
       " 130000      360\n",
       " 34000       359\n",
       " 65000       347\n",
       " 56000       345\n",
       " 48000       338\n",
       "Name: deposit ₹, dtype: int64"
      ]
     },
     "execution_count": 86,
     "metadata": {},
     "output_type": "execute_result"
    }
   ],
   "source": [
    "a=nd['deposit ₹'].value_counts(dropna = False)\n",
    "a.head(50)"
   ]
  },
  {
   "cell_type": "code",
   "execution_count": 87,
   "id": "80aed57b",
   "metadata": {},
   "outputs": [
    {
     "data": {
      "text/plain": [
       "city               0\n",
       "rent/month       219\n",
       "deposit ₹      58516\n",
       "bedrooms         549\n",
       "bathrooms       1486\n",
       "sqr_ft             0\n",
       "area               0\n",
       "description        0\n",
       "dtype: int64"
      ]
     },
     "execution_count": 87,
     "metadata": {},
     "output_type": "execute_result"
    }
   ],
   "source": [
    "nd.isnull().sum()"
   ]
  },
  {
   "cell_type": "code",
   "execution_count": 88,
   "id": "5c1927c7",
   "metadata": {},
   "outputs": [
    {
     "data": {
      "text/plain": [
       "2       76884\n",
       "1       44519\n",
       "3       28997\n",
       "4        9352\n",
       "5        2741\n",
       "None      937\n",
       "6         896\n",
       "NaN       549\n",
       "7         196\n",
       "8          89\n",
       "9          59\n",
       "10         44\n",
       "12         30\n",
       "16         20\n",
       "15         12\n",
       "20         12\n",
       "14         10\n",
       "18         10\n",
       "11         10\n",
       "22         10\n",
       "13          9\n",
       "19          5\n",
       "17          4\n",
       "23          3\n",
       "40          2\n",
       "28          2\n",
       "35          2\n",
       "21          2\n",
       "25          2\n",
       "26          2\n",
       "30          2\n",
       "76          2\n",
       "48          1\n",
       "59          1\n",
       "98          1\n",
       "24          1\n",
       "37          1\n",
       "27          1\n",
       "50          1\n",
       "Name: bathrooms, dtype: int64"
      ]
     },
     "execution_count": 88,
     "metadata": {},
     "output_type": "execute_result"
    }
   ],
   "source": [
    "a=nd['bathrooms'].value_counts(dropna = False)\n",
    "a.head(50)"
   ]
  },
  {
   "cell_type": "code",
   "execution_count": 89,
   "id": "c0be5fca",
   "metadata": {},
   "outputs": [
    {
     "data": {
      "text/plain": [
       "1,200     6764\n",
       "1,000     5953\n",
       "600       5241\n",
       "900       4551\n",
       "1,100     4257\n",
       "650       3526\n",
       "800       3474\n",
       "500       3465\n",
       "700       3146\n",
       "1,500     2965\n",
       "750       2782\n",
       "450       2771\n",
       "1,800     2711\n",
       "550       2670\n",
       "400       2220\n",
       "850       2125\n",
       "950       2046\n",
       "1,250     2018\n",
       "1,050     1906\n",
       "1,300     1887\n",
       "1,400     1797\n",
       "1,150     1774\n",
       "1,600     1687\n",
       "1,350     1681\n",
       "2,000     1511\n",
       "300       1360\n",
       "350       1076\n",
       "1,700     1068\n",
       "1,450      917\n",
       "1,650      882\n",
       "2,400      846\n",
       "2,700      801\n",
       "1,550      791\n",
       "2,200      705\n",
       "250        705\n",
       "2,500      681\n",
       "1,750      675\n",
       "4,500      662\n",
       "1,080      630\n",
       "2,250      612\n",
       "200        591\n",
       "3,000      582\n",
       "540        557\n",
       "630        541\n",
       "2,100      524\n",
       "1,900      495\n",
       "1,125      484\n",
       "560        469\n",
       "720        465\n",
       "1,850      460\n",
       "Name: sqr_ft, dtype: int64"
      ]
     },
     "execution_count": 89,
     "metadata": {},
     "output_type": "execute_result"
    }
   ],
   "source": [
    "a=nd['sqr_ft'].value_counts(dropna = False)\n",
    "a.head(50)"
   ]
  },
  {
   "cell_type": "code",
   "execution_count": 90,
   "id": "5a7ba0d2",
   "metadata": {},
   "outputs": [],
   "source": [
    "nd['sqr_ft']=nd['sqr_ft'].str.replace(',','')"
   ]
  },
  {
   "cell_type": "code",
   "execution_count": 91,
   "id": "8f062e92",
   "metadata": {},
   "outputs": [],
   "source": [
    "from sklearn.impute import SimpleImputer\n",
    "ss  = SimpleImputer(strategy='median')\n",
    "nd['bedrooms']  = ss.fit_transform(nd[['bedrooms']])\n",
    "nd['bathrooms']  = ss.fit_transform(nd[['bathrooms']])\n",
    "nd['deposit ₹']  = ss.fit_transform(nd[['deposit ₹']])\n",
    "nd['rent/month']  = ss.fit_transform(nd[['rent/month']])"
   ]
  },
  {
   "cell_type": "code",
   "execution_count": 92,
   "id": "95e0bfaf",
   "metadata": {},
   "outputs": [
    {
     "data": {
      "text/plain": [
       "city           0\n",
       "rent/month     0\n",
       "deposit ₹      0\n",
       "bedrooms       0\n",
       "bathrooms      0\n",
       "sqr_ft         0\n",
       "area           0\n",
       "description    0\n",
       "dtype: int64"
      ]
     },
     "execution_count": 92,
     "metadata": {},
     "output_type": "execute_result"
    }
   ],
   "source": [
    "nd.isnull().sum()"
   ]
  },
  {
   "cell_type": "code",
   "execution_count": 93,
   "id": "fcfcab60",
   "metadata": {},
   "outputs": [
    {
     "data": {
      "text/plain": [
       "city            object\n",
       "rent/month     float64\n",
       "deposit ₹      float64\n",
       "bedrooms       float64\n",
       "bathrooms      float64\n",
       "sqr_ft          object\n",
       "area            object\n",
       "description     object\n",
       "dtype: object"
      ]
     },
     "execution_count": 93,
     "metadata": {},
     "output_type": "execute_result"
    }
   ],
   "source": [
    "nd.dtypes"
   ]
  },
  {
   "cell_type": "code",
   "execution_count": 94,
   "id": "682a57c2",
   "metadata": {},
   "outputs": [],
   "source": [
    "nd['sqr_ft']=pd.to_numeric(nd['sqr_ft'])"
   ]
  },
  {
   "cell_type": "code",
   "execution_count": 95,
   "id": "5efc3f44",
   "metadata": {},
   "outputs": [
    {
     "data": {
      "text/plain": [
       "city            object\n",
       "rent/month     float64\n",
       "deposit ₹      float64\n",
       "bedrooms       float64\n",
       "bathrooms      float64\n",
       "sqr_ft           int64\n",
       "area            object\n",
       "description     object\n",
       "dtype: object"
      ]
     },
     "execution_count": 95,
     "metadata": {},
     "output_type": "execute_result"
    }
   ],
   "source": [
    "nd.dtypes"
   ]
  },
  {
   "cell_type": "code",
   "execution_count": 96,
   "id": "e6653782",
   "metadata": {},
   "outputs": [],
   "source": [
    "nd['rent/month'] = nd['rent/month'].astype('int64')"
   ]
  },
  {
   "cell_type": "code",
   "execution_count": 97,
   "id": "144b4087",
   "metadata": {},
   "outputs": [],
   "source": [
    "nd['deposit ₹'] = nd['deposit ₹'].astype('int64')"
   ]
  },
  {
   "cell_type": "code",
   "execution_count": 98,
   "id": "7d9789c0",
   "metadata": {},
   "outputs": [],
   "source": [
    "nd['bedrooms'] = nd['bedrooms'].astype('int64')"
   ]
  },
  {
   "cell_type": "code",
   "execution_count": 99,
   "id": "beaaa628",
   "metadata": {},
   "outputs": [],
   "source": [
    "nd['bathrooms'] = nd['bathrooms'].astype('int64')"
   ]
  },
  {
   "cell_type": "code",
   "execution_count": 100,
   "id": "363e876c",
   "metadata": {},
   "outputs": [
    {
     "data": {
      "text/plain": [
       "city           object\n",
       "rent/month      int64\n",
       "deposit ₹       int64\n",
       "bedrooms        int64\n",
       "bathrooms       int64\n",
       "sqr_ft          int64\n",
       "area           object\n",
       "description    object\n",
       "dtype: object"
      ]
     },
     "execution_count": 100,
     "metadata": {},
     "output_type": "execute_result"
    }
   ],
   "source": [
    "nd.dtypes"
   ]
  },
  {
   "cell_type": "markdown",
   "id": "29f2a6e6",
   "metadata": {},
   "source": [
    "# Outliers Treatement"
   ]
  },
  {
   "cell_type": "markdown",
   "id": "398e43f7",
   "metadata": {},
   "source": [
    "## Boxplots:\n",
    "- Boxplots are used for finding the noise in the data "
   ]
  },
  {
   "cell_type": "code",
   "execution_count": 101,
   "id": "57c26edc",
   "metadata": {},
   "outputs": [
    {
     "data": {
      "text/plain": [
       "<AxesSubplot:xlabel='sqr_ft'>"
      ]
     },
     "execution_count": 101,
     "metadata": {},
     "output_type": "execute_result"
    },
    {
     "data": {
      "image/png": "[encoded data removed]",
      "text/plain": [
       "<Figure size 1296x360 with 5 Axes>"
      ]
     },
     "metadata": {
      "needs_background": "light"
     },
     "output_type": "display_data"
    }
   ],
   "source": [
    "# Boxplots for finding the outliers\n",
    "fig, axes = plt.subplots(1, 5, figsize=(18, 5))\n",
    "sns.boxplot(data=nd, x='rent/month', ax=axes[0])\n",
    "sns.boxplot(data=nd, x='deposit ₹', ax=axes[1])\n",
    "sns.boxplot(data=nd, x='bedrooms', ax=axes[2])\n",
    "sns.boxplot(data=nd, x='bathrooms', ax=axes[3])\n",
    "sns.boxplot(data=nd, x='sqr_ft', ax=axes[4])"
   ]
  },
  {
   "cell_type": "code",
   "execution_count": 102,
   "id": "cf5798b2",
   "metadata": {},
   "outputs": [
    {
     "name": "stdout",
     "output_type": "stream",
     "text": [
      "Defaulting to user installation because normal site-packages is not writeable\n",
      "Requirement already satisfied: feature_engine in c:\\programdata\\anaconda3\\lib\\site-packages (1.4.1)\n",
      "Requirement already satisfied: numpy>=1.18.2 in c:\\programdata\\anaconda3\\lib\\site-packages (from feature_engine) (1.21.5)\n",
      "Requirement already satisfied: statsmodels>=0.11.1 in c:\\programdata\\anaconda3\\lib\\site-packages (from feature_engine) (0.13.2)\n",
      "Requirement already satisfied: scikit-learn>=1.0.0 in c:\\programdata\\anaconda3\\lib\\site-packages (from feature_engine) (1.0.2)\n",
      "Requirement already satisfied: scipy>=1.4.1 in c:\\programdata\\anaconda3\\lib\\site-packages (from feature_engine) (1.7.3)\n",
      "Requirement already satisfied: pandas>=1.0.3 in c:\\programdata\\anaconda3\\lib\\site-packages (from feature_engine) (1.4.2)\n",
      "Requirement already satisfied: pytz>=2020.1 in c:\\programdata\\anaconda3\\lib\\site-packages (from pandas>=1.0.3->feature_engine) (2021.3)\n",
      "Requirement already satisfied: python-dateutil>=2.8.1 in c:\\programdata\\anaconda3\\lib\\site-packages (from pandas>=1.0.3->feature_engine) (2.8.2)\n",
      "Requirement already satisfied: six>=1.5 in c:\\programdata\\anaconda3\\lib\\site-packages (from python-dateutil>=2.8.1->pandas>=1.0.3->feature_engine) (1.16.0)\n",
      "Requirement already satisfied: threadpoolctl>=2.0.0 in c:\\programdata\\anaconda3\\lib\\site-packages (from scikit-learn>=1.0.0->feature_engine) (2.2.0)\n",
      "Requirement already satisfied: joblib>=0.11 in c:\\programdata\\anaconda3\\lib\\site-packages (from scikit-learn>=1.0.0->feature_engine) (1.1.0)\n",
      "Requirement already satisfied: patsy>=0.5.2 in c:\\programdata\\anaconda3\\lib\\site-packages (from statsmodels>=0.11.1->feature_engine) (0.5.2)\n",
      "Requirement already satisfied: packaging>=21.3 in c:\\programdata\\anaconda3\\lib\\site-packages (from statsmodels>=0.11.1->feature_engine) (21.3)\n",
      "Requirement already satisfied: pyparsing!=3.0.5,>=2.0.2 in c:\\programdata\\anaconda3\\lib\\site-packages (from packaging>=21.3->statsmodels>=0.11.1->feature_engine) (3.0.4)\n"
     ]
    }
   ],
   "source": [
    "! pip install feature_engine"
   ]
  },
  {
   "cell_type": "markdown",
   "id": "9c213a48",
   "metadata": {},
   "source": [
    "- We are removing outliers by istalling winsorizer and capping \"iqr\" in the place of outliers"
   ]
  },
  {
   "cell_type": "code",
   "execution_count": 103,
   "id": "b47373b4",
   "metadata": {},
   "outputs": [],
   "source": [
    "from feature_engine.outliers import Winsorizer"
   ]
  },
  {
   "cell_type": "code",
   "execution_count": 104,
   "id": "487de417",
   "metadata": {},
   "outputs": [],
   "source": [
    "ss = Winsorizer(capping_method ='iqr',tail=\"both\",variables=\"rent/month\",fold=1.5)\n",
    "nd[\"rent/month\"]=ss.fit_transform(nd[[\"rent/month\"]])\n",
    "ss = Winsorizer(capping_method ='iqr',tail=\"both\",variables=\"deposit ₹\",fold=1.5)\n",
    "nd[\"deposit ₹\"]=ss.fit_transform(nd[[\"deposit ₹\"]])\n",
    "ss = Winsorizer(capping_method ='iqr',tail=\"both\",variables=\"bedrooms\",fold=1.5)\n",
    "nd[\"bedrooms\"]=ss.fit_transform(nd[[\"bedrooms\"]])\n",
    "ss = Winsorizer(capping_method ='iqr',tail=\"both\",variables=\"bathrooms\",fold=1.5)\n",
    "nd[\"bathrooms\"]=ss.fit_transform(nd[[\"bathrooms\"]])\n",
    "ss = Winsorizer(capping_method ='iqr',tail=\"both\",variables=\"sqr_ft\",fold=1.5)\n",
    "nd[\"sqr_ft\"]=ss.fit_transform(nd[[\"sqr_ft\"]])"
   ]
  },
  {
   "cell_type": "markdown",
   "id": "3579a2dd",
   "metadata": {},
   "source": [
    "- Plotting Boxplots after removing outliers using winsorizer "
   ]
  },
  {
   "cell_type": "code",
   "execution_count": 105,
   "id": "968d2493",
   "metadata": {},
   "outputs": [
    {
     "data": {
      "text/plain": [
       "<AxesSubplot:xlabel='sqr_ft'>"
      ]
     },
     "execution_count": 105,
     "metadata": {},
     "output_type": "execute_result"
    },
    {
     "data": {
      "image/png": "[encoded data removed]",
      "text/plain": [
       "<Figure size 1296x360 with 5 Axes>"
      ]
     },
     "metadata": {
      "needs_background": "light"
     },
     "output_type": "display_data"
    }
   ],
   "source": [
    "fig, axes = plt.subplots(1, 5, figsize=(18, 5))\n",
    "sns.boxplot(data=nd, x='rent/month', ax=axes[0])\n",
    "sns.boxplot(data=nd, x='deposit ₹', ax=axes[1])\n",
    "sns.boxplot(data=nd, x='bedrooms', ax=axes[2])\n",
    "sns.boxplot(data=nd, x='bathrooms', ax=axes[3])\n",
    "sns.boxplot(data=nd, x='sqr_ft', ax=axes[4])"
   ]
  },
  {
   "cell_type": "markdown",
   "id": "689021f6",
   "metadata": {},
   "source": [
    "<center><h1 style=\"color:red\">Univariate Analysis</h1>"
   ]
  },
  {
   "cell_type": "markdown",
   "id": "5f605a83",
   "metadata": {},
   "source": [
    "- Univariate analysis is done on a single variable for analyzing data"
   ]
  },
  {
   "cell_type": "markdown",
   "id": "b70349e7",
   "metadata": {},
   "source": [
    "<center><h1 style=\"color:blue\">city</h1>"
   ]
  },
  {
   "cell_type": "code",
   "execution_count": 106,
   "id": "3a367161",
   "metadata": {},
   "outputs": [
    {
     "data": {
      "text/plain": [
       "<AxesSubplot:title={'center':'No of houses for rents in the cities'}, xlabel='cities', ylabel='No of houses for rents'>"
      ]
     },
     "execution_count": 106,
     "metadata": {},
     "output_type": "execute_result"
    },
    {
     "data": {
      "image/png": "[encoded data removed]",
      "text/plain": [
       "<Figure size 864x360 with 1 Axes>"
      ]
     },
     "metadata": {
      "needs_background": "light"
     },
     "output_type": "display_data"
    }
   ],
   "source": [
    "# Creating the bar plot\n",
    "plt.figure(figsize = (12, 5))\n",
    "plt.xlabel(\"cities\")\n",
    "plt.ylabel(\"No of houses for rents\")\n",
    "plt.title(\"No of houses for rents in the cities\")\n",
    "sns.set(font_scale=1)\n",
    "nd['city'].value_counts().head(10).plot.bar()"
   ]
  },
  {
   "cell_type": "markdown",
   "id": "0c0a2b77",
   "metadata": {},
   "source": [
    "## As observing the barplot we came to know that:\n",
    "- The city ncr(national capital delhi) has more no of houses for rent\n",
    "- Whereas mubai stands second\n",
    "- Trivandaram has less no of houses for rents"
   ]
  },
  {
   "cell_type": "markdown",
   "id": "0f4f70eb",
   "metadata": {},
   "source": [
    "<center><h1 style=\"color:green\">rent/month</h1>"
   ]
  },
  {
   "cell_type": "code",
   "execution_count": 107,
   "id": "c7d67189",
   "metadata": {},
   "outputs": [
    {
     "data": {
      "text/plain": [
       "<AxesSubplot:title={'center':'Which amount of rent is high per month'}, xlabel='rent/month', ylabel='no of houses'>"
      ]
     },
     "execution_count": 107,
     "metadata": {},
     "output_type": "execute_result"
    },
    {
     "data": {
      "image/png": "[encoded data removed]",
      "text/plain": [
       "<Figure size 864x360 with 1 Axes>"
      ]
     },
     "metadata": {},
     "output_type": "display_data"
    }
   ],
   "source": [
    "plt.figure(figsize = (12, 5))\n",
    "plt.xlabel(\"rent/month\")\n",
    "plt.ylabel(\"no of houses\")\n",
    "plt.title(\"Which amount of rent is high per month\")\n",
    "sns.set(font_scale=1)\n",
    "nd['rent/month'].value_counts().head(10).plot.bar()"
   ]
  },
  {
   "cell_type": "markdown",
   "id": "1099b251",
   "metadata": {},
   "source": [
    "## On observing the barplot we came to know that:\n",
    "- More than ten thousand individual or rented houses have 53500 rupees of rents per month\n",
    "- More then six thousand houses have 15000 rupees of rent per month"
   ]
  },
  {
   "cell_type": "markdown",
   "id": "488f6781",
   "metadata": {},
   "source": [
    "<center><h1 style=\"color:black\">deposit ₹</h1>"
   ]
  },
  {
   "cell_type": "code",
   "execution_count": 108,
   "id": "2e3a67cd",
   "metadata": {},
   "outputs": [
    {
     "data": {
      "text/plain": [
       "<AxesSubplot:title={'center':'which amount of deposit is high'}, xlabel='deposit ₹', ylabel='No of houses for rents'>"
      ]
     },
     "execution_count": 108,
     "metadata": {},
     "output_type": "execute_result"
    },
    {
     "data": {
      "image/png": "[encoded data removed]",
      "text/plain": [
       "<Figure size 864x360 with 1 Axes>"
      ]
     },
     "metadata": {},
     "output_type": "display_data"
    }
   ],
   "source": [
    "plt.figure(figsize = (12, 5))\n",
    "plt.xlabel(\"deposit ₹\")\n",
    "plt.ylabel(\"No of houses for rents\")\n",
    "plt.title(\"which amount of deposit is high\")\n",
    "sns.set(font_scale=1)\n",
    "nd['deposit ₹'].value_counts().head(10).plot.bar()"
   ]
  },
  {
   "cell_type": "markdown",
   "id": "50d40b47",
   "metadata": {},
   "source": [
    "## on observing the bar plot we came to know that:\n",
    "- more than 60000 oeners are demanding ₹ 60000 as deposit\n",
    "- very few of them are asking ₹5000 as deposit"
   ]
  },
  {
   "cell_type": "markdown",
   "id": "34750907",
   "metadata": {},
   "source": [
    "<center><h1 style=\"color:brown\">bedrooms</h1>"
   ]
  },
  {
   "cell_type": "code",
   "execution_count": 109,
   "id": "e48be96b",
   "metadata": {},
   "outputs": [
    {
     "data": {
      "text/plain": [
       "<AxesSubplot:title={'center':'houses with how many bedrooms have demand'}, xlabel='no of bedrooms', ylabel='No of houses for rents'>"
      ]
     },
     "execution_count": 109,
     "metadata": {},
     "output_type": "execute_result"
    },
    {
     "data": {
      "image/png": "[encoded data removed]",
      "text/plain": [
       "<Figure size 864x360 with 1 Axes>"
      ]
     },
     "metadata": {},
     "output_type": "display_data"
    }
   ],
   "source": [
    "plt.figure(figsize = (12, 5))\n",
    "plt.xlabel(\"no of bedrooms\")\n",
    "plt.ylabel(\"No of houses for rents\")\n",
    "plt.title(\"houses with how many bedrooms have demand\")\n",
    "sns.set(font_scale=1)\n",
    "nd['bedrooms'].value_counts().head(10).plot.bar()"
   ]
  },
  {
   "cell_type": "markdown",
   "id": "c0d64c04",
   "metadata": {},
   "source": [
    "## on observing the barplot we came to know that:\n",
    "- as per the graph we came to know that 70000 houses with 2 bedrooms are choosen by tenents\n",
    " so 2 bedroom flats have more demand\n",
    "- 40000 tenents are looking for 3 bedrooms "
   ]
  },
  {
   "cell_type": "markdown",
   "id": "ef5ecad2",
   "metadata": {},
   "source": [
    "<center><h1 style=\"color:violet\">bathrooms</h1>"
   ]
  },
  {
   "cell_type": "code",
   "execution_count": 110,
   "id": "f566d3bc",
   "metadata": {},
   "outputs": [
    {
     "data": {
      "text/plain": [
       "<AxesSubplot:title={'center':'houses with how many bathrooms have demand'}, xlabel='no of bathrooms', ylabel='No of houses for rents'>"
      ]
     },
     "execution_count": 110,
     "metadata": {},
     "output_type": "execute_result"
    },
    {
     "data": {
      "image/png": "[encoded data removed]",
      "text/plain": [
       "<Figure size 864x360 with 1 Axes>"
      ]
     },
     "metadata": {},
     "output_type": "display_data"
    }
   ],
   "source": [
    "plt.figure(figsize = (12, 5))\n",
    "plt.xlabel(\"no of bathrooms\")\n",
    "plt.ylabel(\"No of houses for rents\")\n",
    "plt.title(\"houses with how many bathrooms have demand\")\n",
    "sns.set(font_scale=1)\n",
    "nd['bathrooms'].value_counts().head(10).plot.bar()"
   ]
  },
  {
   "cell_type": "markdown",
   "id": "859ae666",
   "metadata": {},
   "source": [
    "## on observing the barplot we came to know that:\n",
    "- more than 70000 houses with 2 bathrooms are choosen by tenents\n",
    "- single bathroom stands next with 2 bathrooms with more than 40000"
   ]
  },
  {
   "cell_type": "markdown",
   "id": "d71c7a51",
   "metadata": {},
   "source": [
    "<center><h1 style=\"color:skyblue\">sqr_ft</h1>"
   ]
  },
  {
   "cell_type": "code",
   "execution_count": 111,
   "id": "779ffe11",
   "metadata": {},
   "outputs": [
    {
     "data": {
      "text/plain": [
       "<AxesSubplot:title={'center':'houses with how many sqr_ft have demand'}, xlabel='sqr_ft', ylabel='No of houses for rents'>"
      ]
     },
     "execution_count": 111,
     "metadata": {},
     "output_type": "execute_result"
    },
    {
     "data": {
      "image/png": "[encoded data removed]",
      "text/plain": [
       "<Figure size 864x360 with 1 Axes>"
      ]
     },
     "metadata": {},
     "output_type": "display_data"
    }
   ],
   "source": [
    "plt.figure(figsize = (12, 5))\n",
    "plt.xlabel(\"sqr_ft\")\n",
    "plt.ylabel(\"No of houses for rents\")\n",
    "plt.title(\"houses with how many sqr_ft have demand\")\n",
    "sns.set(font_scale=1)\n",
    "nd['sqr_ft'].value_counts().head(10).plot.bar()"
   ]
  },
  {
   "cell_type": "markdown",
   "id": "c800a2e6",
   "metadata": {},
   "source": [
    "## on observing the barplot we came to know that:\n",
    "- More than 8000 houses with 2745 sq_fts are choosen by tenants\n",
    "- more than 6000 houses with 1200 sq_fts are choosen by tenants"
   ]
  },
  {
   "cell_type": "code",
   "execution_count": 112,
   "id": "b6513be4",
   "metadata": {},
   "outputs": [
    {
     "data": {
      "text/plain": [
       "Index(['city', 'rent/month', 'deposit ₹', 'bedrooms', 'bathrooms', 'sqr_ft',\n",
       "       'area', 'description'],\n",
       "      dtype='object')"
      ]
     },
     "execution_count": 112,
     "metadata": {},
     "output_type": "execute_result"
    }
   ],
   "source": [
    "nd.columns"
   ]
  },
  {
   "cell_type": "markdown",
   "id": "6b526d8f",
   "metadata": {},
   "source": [
    "<center><h1 style=\"color:red\">Bivariate Analysis</h1>\n",
    "    "
   ]
  },
  {
   "cell_type": "markdown",
   "id": "8b422942",
   "metadata": {},
   "source": [
    "# Biavariate Analysis is done on two varibles\n",
    "- Here the terget variable is rent so we need to do bivariate analysis with this variable"
   ]
  },
  {
   "cell_type": "markdown",
   "id": "3f8e6406",
   "metadata": {},
   "source": [
    "<center><h1 style=\"color:green\">city & rent/month</h1>\n",
    "    "
   ]
  },
  {
   "cell_type": "code",
   "execution_count": 113,
   "id": "04cb5254",
   "metadata": {},
   "outputs": [
    {
     "data": {
      "image/png": "[encoded data removed]",
      "text/plain": [
       "<Figure size 1440x720 with 1 Axes>"
      ]
     },
     "metadata": {},
     "output_type": "display_data"
    }
   ],
   "source": [
    "plt.figure(figsize = (20, 10))\n",
    "\n",
    "sns.set(style = \"darkgrid\")\n",
    "sns.set(font_scale=2),\n",
    "ax = sns.barplot( x=\"city\", y=\"rent/month\", data = nd,\n",
    "              order = nd['city'].value_counts().head(10).index,palette=\"Paired\",)\n",
    "\n",
    "plt.title('Which city has highest rent')\n",
    "plt.show()"
   ]
  },
  {
   "cell_type": "markdown",
   "id": "8553e828",
   "metadata": {},
   "source": [
    "# according to the graph:\n",
    "- mumbai has highest rent/month with 27000 rupees\n",
    "- ncr stands second with 22000 rupees rent/month"
   ]
  },
  {
   "cell_type": "markdown",
   "id": "20c1f1b2",
   "metadata": {},
   "source": [
    "<center><h1 style=\"color:green\"> deposit ₹ & rent/month</h1>"
   ]
  },
  {
   "cell_type": "code",
   "execution_count": 114,
   "id": "f66271dc",
   "metadata": {},
   "outputs": [
    {
     "data": {
      "image/png": "[encoded data removed]",
      "text/plain": [
       "<Figure size 1440x720 with 1 Axes>"
      ]
     },
     "metadata": {},
     "output_type": "display_data"
    }
   ],
   "source": [
    "plt.figure(figsize = (20, 10))\n",
    "\n",
    "sns.set(style = \"darkgrid\")\n",
    "sns.set(font_scale=2),\n",
    "ax = sns.barplot( x=\"deposit ₹\", y=\"rent/month\", data = nd,\n",
    "              order = nd['deposit ₹'].value_counts().head(10).index,palette=\"Paired\",)\n",
    "\n",
    "plt.title('effect of deposit in rent')\n",
    "plt.show()"
   ]
  },
  {
   "cell_type": "markdown",
   "id": "a9095eb8",
   "metadata": {},
   "source": [
    "# according to graph:\n",
    "- deposit of ₹ 125000 has a rent of ₹33000 \n",
    "- deposit of ₹80000 has a ret of ₹23000\n",
    "## As the deposit is high the rent will also be high in India"
   ]
  },
  {
   "cell_type": "markdown",
   "id": "aeadcb77",
   "metadata": {},
   "source": [
    "<center><h1 style=\"color:green\"> bedrooms & rent/month</h1>"
   ]
  },
  {
   "cell_type": "code",
   "execution_count": 115,
   "id": "4bf4f906",
   "metadata": {},
   "outputs": [
    {
     "data": {
      "image/png": "[encoded data removed]",
      "text/plain": [
       "<Figure size 1440x720 with 1 Axes>"
      ]
     },
     "metadata": {},
     "output_type": "display_data"
    }
   ],
   "source": [
    "plt.figure(figsize = (20, 10))\n",
    "\n",
    "sns.set(style = \"darkgrid\")\n",
    "sns.set(font_scale=2),\n",
    "ax = sns.barplot( x=\"bedrooms\", y=\"rent/month\", data = nd,\n",
    "              order = nd['bedrooms'].value_counts().head(10).index,palette=\"Paired\",)\n",
    "\n",
    "plt.title('effect of bedrooms in rent')\n",
    "plt.show()"
   ]
  },
  {
   "cell_type": "markdown",
   "id": "e6960770",
   "metadata": {},
   "source": [
    "# according to the graph:\n",
    "- 3 bedroom flats have 28000 rupees rent\n",
    "- 4 bedroom  flats have 25500 rupees rent\n",
    "## 3 bedroom flats have more rent"
   ]
  },
  {
   "cell_type": "markdown",
   "id": "45e04845",
   "metadata": {},
   "source": [
    "<center><h1 style=\"color:green\"> bathrooms & rent/month</h1>"
   ]
  },
  {
   "cell_type": "code",
   "execution_count": 116,
   "id": "63d876ef",
   "metadata": {},
   "outputs": [
    {
     "data": {
      "image/png": "[encoded data removed]",
      "text/plain": [
       "<Figure size 1440x720 with 1 Axes>"
      ]
     },
     "metadata": {},
     "output_type": "display_data"
    }
   ],
   "source": [
    "plt.figure(figsize = (20, 10))\n",
    "\n",
    "sns.set(style = \"darkgrid\")\n",
    "sns.set(font_scale=2),\n",
    "ax = sns.barplot( x=\"bathrooms\", y=\"rent/month\", data = nd,\n",
    "              order = nd['bathrooms'].value_counts().head(10).index,palette=\"Paired\",)\n",
    "\n",
    "plt.title('effect of bathrooms in rent')\n",
    "plt.show()"
   ]
  },
  {
   "cell_type": "markdown",
   "id": "30f18ee0",
   "metadata": {},
   "source": [
    "# according to the graph:\n",
    "- 3 bathroom flats having a rent of 31000\n",
    "- 4 bathroom flats having a rent of 26000\n",
    "## 3 bathroom flats have high rents in india"
   ]
  },
  {
   "cell_type": "markdown",
   "id": "fa7ebe1e",
   "metadata": {},
   "source": [
    "<center><h1 style=\"color:green\"> sqr_ft & rent/month</h1>"
   ]
  },
  {
   "cell_type": "code",
   "execution_count": 117,
   "id": "829d7143",
   "metadata": {},
   "outputs": [
    {
     "data": {
      "image/png": "[encoded data removed]",
      "text/plain": [
       "<Figure size 1440x720 with 1 Axes>"
      ]
     },
     "metadata": {},
     "output_type": "display_data"
    }
   ],
   "source": [
    "plt.figure(figsize = (20, 10))\n",
    "\n",
    "sns.set(style = \"darkgrid\")\n",
    "sns.set(font_scale=2),\n",
    "ax = sns.barplot( x=\"sqr_ft\", y=\"rent/month\", data = nd,\n",
    "              order = nd['sqr_ft'].value_counts().head(10).index,palette=\"Paired\",)\n",
    "\n",
    "plt.title('effect of sqr_ft in rent')\n",
    "plt.show()"
   ]
  },
  {
   "cell_type": "markdown",
   "id": "8d111469",
   "metadata": {},
   "source": [
    "# according to the graph:\n",
    "- 1100 sq_ft houses are having a rent of 24000 \n",
    "- 2745 and 1200 sq_ft houses are having a rent of 21000\n",
    "## houses with 1100 sq_ft have high rent\n"
   ]
  },
  {
   "cell_type": "markdown",
   "id": "f07b116d",
   "metadata": {},
   "source": [
    "<center><h1 style=\"color:brown\">Multivariate Analysis</h1>"
   ]
  },
  {
   "cell_type": "markdown",
   "id": "8c238fe8",
   "metadata": {},
   "source": [
    "## Multivariate Analysis is done on multiple variabled to find the correlation b/w them"
   ]
  },
  {
   "cell_type": "code",
   "execution_count": 118,
   "id": "6232cadd",
   "metadata": {},
   "outputs": [
    {
     "data": {
      "image/png": "[encoded data removed]",
      "text/plain": [
       "<Figure size 1080x720 with 2 Axes>"
      ]
     },
     "metadata": {},
     "output_type": "display_data"
    }
   ],
   "source": [
    "plt.figure(figsize=(15,10))\n",
    "sns.heatmap(nd.corr(), vmin=nd.corr().values.min(), vmax=1, square=True, cmap=\"YlGnBu\", linewidths=0.1, annot=True, annot_kws={\"fontsize\":9})\n",
    "plt.show()"
   ]
  },
  {
   "cell_type": "markdown",
   "id": "2612f423",
   "metadata": {},
   "source": [
    "<center><h1 style=\"color:r\">Data Preprocessing</h1>"
   ]
  },
  {
   "cell_type": "code",
   "execution_count": 119,
   "id": "cf1e82ba",
   "metadata": {},
   "outputs": [],
   "source": [
    "from sklearn.preprocessing import LabelEncoder\n",
    "\n",
    "for column in nd.columns:\n",
    "    if nd[column].dtype=='int64' and  nd[column].dtype=='float64':\n",
    "        continue\n",
    "    else:\n",
    "        nd[column]=LabelEncoder().fit_transform(nd[column])"
   ]
  },
  {
   "cell_type": "code",
   "execution_count": 120,
   "id": "f5d5a528",
   "metadata": {},
   "outputs": [
    {
     "data": {
      "text/html": [
       "<div>\n",
       "<style scoped>\n",
       "    .dataframe tbody tr th:only-of-type {\n",
       "        vertical-align: middle;\n",
       "    }\n",
       "\n",
       "    .dataframe tbody tr th {\n",
       "        vertical-align: top;\n",
       "    }\n",
       "\n",
       "    .dataframe thead th {\n",
       "        text-align: right;\n",
       "    }\n",
       "</style>\n",
       "<table border=\"1\" class=\"dataframe\">\n",
       "  <thead>\n",
       "    <tr style=\"text-align: right;\">\n",
       "      <th></th>\n",
       "      <th>city</th>\n",
       "      <th>rent/month</th>\n",
       "      <th>deposit ₹</th>\n",
       "      <th>bedrooms</th>\n",
       "      <th>bathrooms</th>\n",
       "      <th>sqr_ft</th>\n",
       "      <th>area</th>\n",
       "      <th>description</th>\n",
       "    </tr>\n",
       "  </thead>\n",
       "  <tbody>\n",
       "    <tr>\n",
       "      <th>0</th>\n",
       "      <td>5</td>\n",
       "      <td>835</td>\n",
       "      <td>737</td>\n",
       "      <td>0</td>\n",
       "      <td>1</td>\n",
       "      <td>398</td>\n",
       "      <td>5139</td>\n",
       "      <td>2</td>\n",
       "    </tr>\n",
       "    <tr>\n",
       "      <th>1</th>\n",
       "      <td>5</td>\n",
       "      <td>1865</td>\n",
       "      <td>902</td>\n",
       "      <td>2</td>\n",
       "      <td>2</td>\n",
       "      <td>1721</td>\n",
       "      <td>9438</td>\n",
       "      <td>2</td>\n",
       "    </tr>\n",
       "    <tr>\n",
       "      <th>2</th>\n",
       "      <td>5</td>\n",
       "      <td>1865</td>\n",
       "      <td>902</td>\n",
       "      <td>1</td>\n",
       "      <td>1</td>\n",
       "      <td>876</td>\n",
       "      <td>12180</td>\n",
       "      <td>2</td>\n",
       "    </tr>\n",
       "    <tr>\n",
       "      <th>3</th>\n",
       "      <td>5</td>\n",
       "      <td>1851</td>\n",
       "      <td>902</td>\n",
       "      <td>2</td>\n",
       "      <td>2</td>\n",
       "      <td>1226</td>\n",
       "      <td>3841</td>\n",
       "      <td>2</td>\n",
       "    </tr>\n",
       "    <tr>\n",
       "      <th>4</th>\n",
       "      <td>5</td>\n",
       "      <td>1377</td>\n",
       "      <td>902</td>\n",
       "      <td>0</td>\n",
       "      <td>0</td>\n",
       "      <td>477</td>\n",
       "      <td>4734</td>\n",
       "      <td>2</td>\n",
       "    </tr>\n",
       "    <tr>\n",
       "      <th>...</th>\n",
       "      <td>...</td>\n",
       "      <td>...</td>\n",
       "      <td>...</td>\n",
       "      <td>...</td>\n",
       "      <td>...</td>\n",
       "      <td>...</td>\n",
       "      <td>...</td>\n",
       "      <td>...</td>\n",
       "    </tr>\n",
       "    <tr>\n",
       "      <th>165416</th>\n",
       "      <td>1</td>\n",
       "      <td>470</td>\n",
       "      <td>304</td>\n",
       "      <td>1</td>\n",
       "      <td>2</td>\n",
       "      <td>1126</td>\n",
       "      <td>723</td>\n",
       "      <td>1</td>\n",
       "    </tr>\n",
       "    <tr>\n",
       "      <th>165417</th>\n",
       "      <td>1</td>\n",
       "      <td>1015</td>\n",
       "      <td>580</td>\n",
       "      <td>1</td>\n",
       "      <td>1</td>\n",
       "      <td>1081</td>\n",
       "      <td>4912</td>\n",
       "      <td>2</td>\n",
       "    </tr>\n",
       "    <tr>\n",
       "      <th>165418</th>\n",
       "      <td>1</td>\n",
       "      <td>470</td>\n",
       "      <td>368</td>\n",
       "      <td>1</td>\n",
       "      <td>1</td>\n",
       "      <td>787</td>\n",
       "      <td>11832</td>\n",
       "      <td>2</td>\n",
       "    </tr>\n",
       "    <tr>\n",
       "      <th>165419</th>\n",
       "      <td>1</td>\n",
       "      <td>1459</td>\n",
       "      <td>902</td>\n",
       "      <td>3</td>\n",
       "      <td>4</td>\n",
       "      <td>2469</td>\n",
       "      <td>7822</td>\n",
       "      <td>5</td>\n",
       "    </tr>\n",
       "    <tr>\n",
       "      <th>165420</th>\n",
       "      <td>1</td>\n",
       "      <td>381</td>\n",
       "      <td>660</td>\n",
       "      <td>3</td>\n",
       "      <td>4</td>\n",
       "      <td>2069</td>\n",
       "      <td>4617</td>\n",
       "      <td>5</td>\n",
       "    </tr>\n",
       "  </tbody>\n",
       "</table>\n",
       "<p>165421 rows × 8 columns</p>\n",
       "</div>"
      ],
      "text/plain": [
       "        city  rent/month  deposit ₹  bedrooms  bathrooms  sqr_ft   area  \\\n",
       "0          5         835        737         0          1     398   5139   \n",
       "1          5        1865        902         2          2    1721   9438   \n",
       "2          5        1865        902         1          1     876  12180   \n",
       "3          5        1851        902         2          2    1226   3841   \n",
       "4          5        1377        902         0          0     477   4734   \n",
       "...      ...         ...        ...       ...        ...     ...    ...   \n",
       "165416     1         470        304         1          2    1126    723   \n",
       "165417     1        1015        580         1          1    1081   4912   \n",
       "165418     1         470        368         1          1     787  11832   \n",
       "165419     1        1459        902         3          4    2469   7822   \n",
       "165420     1         381        660         3          4    2069   4617   \n",
       "\n",
       "        description  \n",
       "0                 2  \n",
       "1                 2  \n",
       "2                 2  \n",
       "3                 2  \n",
       "4                 2  \n",
       "...             ...  \n",
       "165416            1  \n",
       "165417            2  \n",
       "165418            2  \n",
       "165419            5  \n",
       "165420            5  \n",
       "\n",
       "[165421 rows x 8 columns]"
      ]
     },
     "execution_count": 120,
     "metadata": {},
     "output_type": "execute_result"
    }
   ],
   "source": [
    "nd"
   ]
  },
  {
   "cell_type": "markdown",
   "id": "65a91a59",
   "metadata": {},
   "source": [
    "##  Model Selection:\n",
    "- We are selecting regression model because the target variable rent consists of numerical data. So we need to use regression model for numerical data\n"
   ]
  },
  {
   "cell_type": "markdown",
   "id": "89f8ac7d",
   "metadata": {},
   "source": [
    "# Evalution Matrix:\n",
    "- evalution matrix helps us to give the better optimisation of model and obatain a better result from it\n",
    "- evalution matrics means how many times our model predicted wrong"
   ]
  },
  {
   "cell_type": "markdown",
   "id": "b8324b2a",
   "metadata": {},
   "source": [
    "# various evalution metrics for regression are:\n",
    "\n",
    "## Mean Absolute Error:\n",
    "- It is used for caluculating the absolute difference between actual and predicted values\n",
    "- suam of all the errors/total number of observations\n",
    "\n",
    "## Mean Squared Error:\n",
    "- MSE is similar to mean absolute error with little changes to it.\n",
    "- it states the squared difference between actual and predicted value\n",
    "\n",
    "## R Squared Error:\n",
    "- R squared error tells usthaat how many tny times our model predicted right.\n",
    "- if R square score  is between 0 and 1 which means your model is capable of explining 80 percent of variance of data."
   ]
  },
  {
   "cell_type": "markdown",
   "id": "9eec8b2a",
   "metadata": {},
   "source": [
    "<center><h1 style=\"color:blue\"> Linear Regression</h1>"
   ]
  },
  {
   "cell_type": "code",
   "execution_count": 121,
   "id": "634df1ee",
   "metadata": {},
   "outputs": [
    {
     "data": {
      "text/html": [
       "<div>\n",
       "<style scoped>\n",
       "    .dataframe tbody tr th:only-of-type {\n",
       "        vertical-align: middle;\n",
       "    }\n",
       "\n",
       "    .dataframe tbody tr th {\n",
       "        vertical-align: top;\n",
       "    }\n",
       "\n",
       "    .dataframe thead th {\n",
       "        text-align: right;\n",
       "    }\n",
       "</style>\n",
       "<table border=\"1\" class=\"dataframe\">\n",
       "  <thead>\n",
       "    <tr style=\"text-align: right;\">\n",
       "      <th></th>\n",
       "      <th>city</th>\n",
       "      <th>deposit ₹</th>\n",
       "      <th>bedrooms</th>\n",
       "      <th>bathrooms</th>\n",
       "      <th>sqr_ft</th>\n",
       "      <th>area</th>\n",
       "      <th>description</th>\n",
       "    </tr>\n",
       "  </thead>\n",
       "  <tbody>\n",
       "    <tr>\n",
       "      <th>0</th>\n",
       "      <td>5</td>\n",
       "      <td>737</td>\n",
       "      <td>0</td>\n",
       "      <td>1</td>\n",
       "      <td>398</td>\n",
       "      <td>5139</td>\n",
       "      <td>2</td>\n",
       "    </tr>\n",
       "    <tr>\n",
       "      <th>1</th>\n",
       "      <td>5</td>\n",
       "      <td>902</td>\n",
       "      <td>2</td>\n",
       "      <td>2</td>\n",
       "      <td>1721</td>\n",
       "      <td>9438</td>\n",
       "      <td>2</td>\n",
       "    </tr>\n",
       "    <tr>\n",
       "      <th>2</th>\n",
       "      <td>5</td>\n",
       "      <td>902</td>\n",
       "      <td>1</td>\n",
       "      <td>1</td>\n",
       "      <td>876</td>\n",
       "      <td>12180</td>\n",
       "      <td>2</td>\n",
       "    </tr>\n",
       "    <tr>\n",
       "      <th>3</th>\n",
       "      <td>5</td>\n",
       "      <td>902</td>\n",
       "      <td>2</td>\n",
       "      <td>2</td>\n",
       "      <td>1226</td>\n",
       "      <td>3841</td>\n",
       "      <td>2</td>\n",
       "    </tr>\n",
       "    <tr>\n",
       "      <th>4</th>\n",
       "      <td>5</td>\n",
       "      <td>902</td>\n",
       "      <td>0</td>\n",
       "      <td>0</td>\n",
       "      <td>477</td>\n",
       "      <td>4734</td>\n",
       "      <td>2</td>\n",
       "    </tr>\n",
       "    <tr>\n",
       "      <th>...</th>\n",
       "      <td>...</td>\n",
       "      <td>...</td>\n",
       "      <td>...</td>\n",
       "      <td>...</td>\n",
       "      <td>...</td>\n",
       "      <td>...</td>\n",
       "      <td>...</td>\n",
       "    </tr>\n",
       "    <tr>\n",
       "      <th>165416</th>\n",
       "      <td>1</td>\n",
       "      <td>304</td>\n",
       "      <td>1</td>\n",
       "      <td>2</td>\n",
       "      <td>1126</td>\n",
       "      <td>723</td>\n",
       "      <td>1</td>\n",
       "    </tr>\n",
       "    <tr>\n",
       "      <th>165417</th>\n",
       "      <td>1</td>\n",
       "      <td>580</td>\n",
       "      <td>1</td>\n",
       "      <td>1</td>\n",
       "      <td>1081</td>\n",
       "      <td>4912</td>\n",
       "      <td>2</td>\n",
       "    </tr>\n",
       "    <tr>\n",
       "      <th>165418</th>\n",
       "      <td>1</td>\n",
       "      <td>368</td>\n",
       "      <td>1</td>\n",
       "      <td>1</td>\n",
       "      <td>787</td>\n",
       "      <td>11832</td>\n",
       "      <td>2</td>\n",
       "    </tr>\n",
       "    <tr>\n",
       "      <th>165419</th>\n",
       "      <td>1</td>\n",
       "      <td>902</td>\n",
       "      <td>3</td>\n",
       "      <td>4</td>\n",
       "      <td>2469</td>\n",
       "      <td>7822</td>\n",
       "      <td>5</td>\n",
       "    </tr>\n",
       "    <tr>\n",
       "      <th>165420</th>\n",
       "      <td>1</td>\n",
       "      <td>660</td>\n",
       "      <td>3</td>\n",
       "      <td>4</td>\n",
       "      <td>2069</td>\n",
       "      <td>4617</td>\n",
       "      <td>5</td>\n",
       "    </tr>\n",
       "  </tbody>\n",
       "</table>\n",
       "<p>165421 rows × 7 columns</p>\n",
       "</div>"
      ],
      "text/plain": [
       "        city  deposit ₹  bedrooms  bathrooms  sqr_ft   area  description\n",
       "0          5        737         0          1     398   5139            2\n",
       "1          5        902         2          2    1721   9438            2\n",
       "2          5        902         1          1     876  12180            2\n",
       "3          5        902         2          2    1226   3841            2\n",
       "4          5        902         0          0     477   4734            2\n",
       "...      ...        ...       ...        ...     ...    ...          ...\n",
       "165416     1        304         1          2    1126    723            1\n",
       "165417     1        580         1          1    1081   4912            2\n",
       "165418     1        368         1          1     787  11832            2\n",
       "165419     1        902         3          4    2469   7822            5\n",
       "165420     1        660         3          4    2069   4617            5\n",
       "\n",
       "[165421 rows x 7 columns]"
      ]
     },
     "execution_count": 121,
     "metadata": {},
     "output_type": "execute_result"
    }
   ],
   "source": [
    "x= nd.drop(\"rent/month\",axis=1)\n",
    "x"
   ]
  },
  {
   "cell_type": "code",
   "execution_count": 122,
   "id": "7c72a726",
   "metadata": {},
   "outputs": [
    {
     "data": {
      "text/plain": [
       "0          835\n",
       "1         1865\n",
       "2         1865\n",
       "3         1851\n",
       "4         1377\n",
       "          ... \n",
       "165416     470\n",
       "165417    1015\n",
       "165418     470\n",
       "165419    1459\n",
       "165420     381\n",
       "Name: rent/month, Length: 165421, dtype: int64"
      ]
     },
     "execution_count": 122,
     "metadata": {},
     "output_type": "execute_result"
    }
   ],
   "source": [
    "y= nd[\"rent/month\"]\n",
    "y"
   ]
  },
  {
   "cell_type": "markdown",
   "id": "164a7c5c",
   "metadata": {},
   "source": [
    "<center><h1 style=\"color:brown\">Linear Regression</h1>"
   ]
  },
  {
   "cell_type": "code",
   "execution_count": 123,
   "id": "6b555e5a",
   "metadata": {},
   "outputs": [],
   "source": [
    "from sklearn.model_selection import train_test_split"
   ]
  },
  {
   "cell_type": "code",
   "execution_count": 124,
   "id": "af4c2cea",
   "metadata": {},
   "outputs": [],
   "source": [
    "x_train,x_test,y_train,y_test = train_test_split(x,y,random_state=32,test_size=0.3)"
   ]
  },
  {
   "cell_type": "code",
   "execution_count": 125,
   "id": "ddd826fd",
   "metadata": {},
   "outputs": [
    {
     "data": {
      "text/plain": [
       "((115794, 7), (115794,))"
      ]
     },
     "execution_count": 125,
     "metadata": {},
     "output_type": "execute_result"
    }
   ],
   "source": [
    "x_train.shape,y_train.shape"
   ]
  },
  {
   "cell_type": "code",
   "execution_count": 126,
   "id": "39ac2388",
   "metadata": {},
   "outputs": [
    {
     "data": {
      "text/plain": [
       "(49627, 7)"
      ]
     },
     "execution_count": 126,
     "metadata": {},
     "output_type": "execute_result"
    }
   ],
   "source": [
    "x_test.shape"
   ]
  },
  {
   "cell_type": "code",
   "execution_count": 127,
   "id": "c24d8512",
   "metadata": {},
   "outputs": [],
   "source": [
    "from sklearn.linear_model import LinearRegression"
   ]
  },
  {
   "cell_type": "code",
   "execution_count": 128,
   "id": "6c9be9e1",
   "metadata": {},
   "outputs": [],
   "source": [
    "model = LinearRegression()"
   ]
  },
  {
   "cell_type": "code",
   "execution_count": 129,
   "id": "280f9a88",
   "metadata": {},
   "outputs": [
    {
     "data": {
      "text/plain": [
       "LinearRegression()"
      ]
     },
     "execution_count": 129,
     "metadata": {},
     "output_type": "execute_result"
    }
   ],
   "source": [
    "model.fit(x_train,y_train)"
   ]
  },
  {
   "cell_type": "code",
   "execution_count": 130,
   "id": "557e2ef9",
   "metadata": {},
   "outputs": [
    {
     "data": {
      "text/plain": [
       "array([1109.20030968,  569.9649219 , 1147.3291185 , ...,  272.24191189,\n",
       "        909.56507326,  633.57615353])"
      ]
     },
     "execution_count": 130,
     "metadata": {},
     "output_type": "execute_result"
    }
   ],
   "source": [
    "model_pred= model.predict(x_test)\n",
    "model_pred"
   ]
  },
  {
   "cell_type": "code",
   "execution_count": 131,
   "id": "4ab42a00",
   "metadata": {},
   "outputs": [
    {
     "data": {
      "text/plain": [
       "0.2495086026012987"
      ]
     },
     "execution_count": 131,
     "metadata": {},
     "output_type": "execute_result"
    }
   ],
   "source": [
    "model.score(x_train,y_train)"
   ]
  },
  {
   "cell_type": "code",
   "execution_count": 132,
   "id": "ba3152fc",
   "metadata": {},
   "outputs": [
    {
     "data": {
      "text/plain": [
       "0.2516060570057761"
      ]
     },
     "execution_count": 132,
     "metadata": {},
     "output_type": "execute_result"
    }
   ],
   "source": [
    "model.score(x_test,y_test)"
   ]
  },
  {
   "cell_type": "code",
   "execution_count": 133,
   "id": "28d02ccc",
   "metadata": {},
   "outputs": [
    {
     "data": {
      "text/plain": [
       "76661      717\n",
       "91429      424\n",
       "119231    1336\n",
       "145544    1814\n",
       "49335      606\n",
       "          ... \n",
       "146521     972\n",
       "71102      424\n",
       "73961      484\n",
       "139782     759\n",
       "22924      343\n",
       "Name: rent/month, Length: 49627, dtype: int64"
      ]
     },
     "execution_count": 133,
     "metadata": {},
     "output_type": "execute_result"
    }
   ],
   "source": [
    "y_test"
   ]
  },
  {
   "cell_type": "code",
   "execution_count": 134,
   "id": "564f0084",
   "metadata": {},
   "outputs": [],
   "source": [
    "def adj_r2(x, y, model):\n",
    "    r2 = model.score(x, y)\n",
    "    n = x.shape[0]\n",
    "    p = x.shape[1]\n",
    "    adjusted_r2 = 1 - (1 - r2) * (n - 1) / (n - p - 1)\n",
    "    \n",
    "    return adjusted_r2"
   ]
  },
  {
   "cell_type": "code",
   "execution_count": 135,
   "id": "3baa3578",
   "metadata": {},
   "outputs": [
    {
     "name": "stdout",
     "output_type": "stream",
     "text": [
      "0.24946323062384212\n"
     ]
    }
   ],
   "source": [
    "print(adj_r2(x_train, y_train, model))"
   ]
  },
  {
   "cell_type": "code",
   "execution_count": 136,
   "id": "acaf7897",
   "metadata": {},
   "outputs": [
    {
     "name": "stdout",
     "output_type": "stream",
     "text": [
      "0.25150047733667835\n"
     ]
    }
   ],
   "source": [
    "print(adj_r2(x_test, y_test, model))"
   ]
  },
  {
   "cell_type": "markdown",
   "id": "6815bb57",
   "metadata": {},
   "source": [
    "<center><h1 style=\"color=orange\"> Lasso Regression<h1/>"
   ]
  },
  {
   "cell_type": "code",
   "execution_count": 137,
   "id": "f19acf2d",
   "metadata": {},
   "outputs": [
    {
     "data": {
      "text/plain": [
       "LassoCV(cv=10, max_iter=100000, normalize=True)"
      ]
     },
     "execution_count": 137,
     "metadata": {},
     "output_type": "execute_result"
    }
   ],
   "source": [
    "from sklearn.linear_model import Lasso, LassoCV\n",
    "\n",
    "lasso_cv = LassoCV(alphas = None, cv = 10, max_iter = 100000, normalize = True)\n",
    "lasso_cv.fit(x_train, y_train)"
   ]
  },
  {
   "cell_type": "code",
   "execution_count": 138,
   "id": "694105d2",
   "metadata": {},
   "outputs": [
    {
     "data": {
      "text/plain": [
       "0.0006198371264085332"
      ]
     },
     "execution_count": 138,
     "metadata": {},
     "output_type": "execute_result"
    }
   ],
   "source": [
    "alpha = lasso_cv.alpha_\n",
    "alpha"
   ]
  },
  {
   "cell_type": "code",
   "execution_count": 139,
   "id": "5e0fc180",
   "metadata": {},
   "outputs": [
    {
     "data": {
      "text/plain": [
       "Lasso(alpha=0.0006198371264085332)"
      ]
     },
     "execution_count": 139,
     "metadata": {},
     "output_type": "execute_result"
    }
   ],
   "source": [
    "lasso = Lasso(alpha = lasso_cv.alpha_)\n",
    "lasso.fit(x_train, y_train)"
   ]
  },
  {
   "cell_type": "code",
   "execution_count": 140,
   "id": "efd33557",
   "metadata": {},
   "outputs": [
    {
     "data": {
      "text/plain": [
       "0.24950860257548546"
      ]
     },
     "execution_count": 140,
     "metadata": {},
     "output_type": "execute_result"
    }
   ],
   "source": [
    "lasso.score(x_train, y_train)"
   ]
  },
  {
   "cell_type": "code",
   "execution_count": 141,
   "id": "1d1b7858",
   "metadata": {},
   "outputs": [
    {
     "data": {
      "text/plain": [
       "0.2516060581694338"
      ]
     },
     "execution_count": 141,
     "metadata": {},
     "output_type": "execute_result"
    }
   ],
   "source": [
    "lasso.score(x_test, y_test)"
   ]
  },
  {
   "cell_type": "code",
   "execution_count": 142,
   "id": "b2b0a0e5",
   "metadata": {},
   "outputs": [
    {
     "name": "stdout",
     "output_type": "stream",
     "text": [
      "0.24946323059802733\n"
     ]
    }
   ],
   "source": [
    "print(adj_r2(x_train, y_train, lasso))"
   ]
  },
  {
   "cell_type": "code",
   "execution_count": 143,
   "id": "81794654",
   "metadata": {},
   "outputs": [
    {
     "name": "stdout",
     "output_type": "stream",
     "text": [
      "0.2515004785005003\n"
     ]
    }
   ],
   "source": [
    "print(adj_r2(x_test, y_test, lasso))"
   ]
  },
  {
   "cell_type": "code",
   "execution_count": null,
   "id": "7c2f170e",
   "metadata": {},
   "outputs": [],
   "source": []
  },
  {
   "cell_type": "markdown",
   "id": "805c9670",
   "metadata": {},
   "source": [
    "<center><h1 style=\"color=red\"> Ridge Regression</h1>"
   ]
  },
  {
   "cell_type": "code",
   "execution_count": 144,
   "id": "70331155",
   "metadata": {},
   "outputs": [
    {
     "data": {
      "text/plain": [
       "RidgeCV(alphas=array([6.26703822, 5.61480872, 6.7702633 , 6.94392331, 1.07892606,\n",
       "       5.49383297, 7.93723173, 1.2350454 , 2.88924692, 6.64632638,\n",
       "       7.20318929, 6.47391619, 2.59353278, 1.49657829, 3.90731098,\n",
       "       5.50654757, 3.75192596, 9.80681   , 3.92021718, 4.15208945,\n",
       "       3.41890364, 8.56620638, 7.60913257, 2.10625357, 1.88054604,\n",
       "       3.71117223, 0.61141676, 3.72862224, 2.22949799, 7.42325354,\n",
       "       4.29122167, 8.21361813, 9.00526846, 1.20291467, 2.10104122,\n",
       "       7.66717256, 4.53415436, 9.83815614, 7.44401025, 2.05074922,\n",
       "       1.0369292 , 8.73187865, 2.00133419, 6.51173272, 3.92002891,\n",
       "       7.15962288, 0.32622346, 0.02641003, 3.95496342, 0.9503661 ]),\n",
       "        cv=10, normalize=True)"
      ]
     },
     "execution_count": 144,
     "metadata": {},
     "output_type": "execute_result"
    }
   ],
   "source": [
    "from sklearn.linear_model import Ridge, RidgeCV\n",
    "\n",
    "alphas = np.random.uniform(0, 10, 50)\n",
    "ridge_cv = RidgeCV(alphas = alphas, cv = 10, normalize = True)\n",
    "ridge_cv.fit(x_train, y_train)\n"
   ]
  },
  {
   "cell_type": "code",
   "execution_count": 145,
   "id": "7e2fea08",
   "metadata": {},
   "outputs": [
    {
     "data": {
      "text/plain": [
       "0.026410034986087405"
      ]
     },
     "execution_count": 145,
     "metadata": {},
     "output_type": "execute_result"
    }
   ],
   "source": [
    "alpha = ridge_cv.alpha_\n",
    "alpha"
   ]
  },
  {
   "cell_type": "code",
   "execution_count": 146,
   "id": "1cd6c261",
   "metadata": {},
   "outputs": [
    {
     "data": {
      "text/plain": [
       "Ridge(alpha=0.026410034986087405)"
      ]
     },
     "execution_count": 146,
     "metadata": {},
     "output_type": "execute_result"
    }
   ],
   "source": [
    "ridge = Ridge(alpha = ridge_cv.alpha_)\n",
    "ridge.fit(x_train, y_train)"
   ]
  },
  {
   "cell_type": "code",
   "execution_count": 147,
   "id": "9a43cbd9",
   "metadata": {},
   "outputs": [
    {
     "data": {
      "text/plain": [
       "0.24950860260128793"
      ]
     },
     "execution_count": 147,
     "metadata": {},
     "output_type": "execute_result"
    }
   ],
   "source": [
    "\n",
    "ridge.score(x_train, y_train)"
   ]
  },
  {
   "cell_type": "code",
   "execution_count": 148,
   "id": "eb2197c3",
   "metadata": {},
   "outputs": [
    {
     "data": {
      "text/plain": [
       "0.2516060570850669"
      ]
     },
     "execution_count": 148,
     "metadata": {},
     "output_type": "execute_result"
    }
   ],
   "source": [
    "ridge.score(x_test, y_test)"
   ]
  },
  {
   "cell_type": "code",
   "execution_count": 149,
   "id": "85859fb2",
   "metadata": {},
   "outputs": [
    {
     "name": "stdout",
     "output_type": "stream",
     "text": [
      "0.24946323062383124\n"
     ]
    }
   ],
   "source": [
    "print(adj_r2(x_train, y_train, ridge))"
   ]
  },
  {
   "cell_type": "code",
   "execution_count": 150,
   "id": "0185a038",
   "metadata": {},
   "outputs": [
    {
     "name": "stdout",
     "output_type": "stream",
     "text": [
      "0.25150047741598036\n"
     ]
    }
   ],
   "source": [
    "print(adj_r2(x_test, y_test, ridge))"
   ]
  },
  {
   "cell_type": "markdown",
   "id": "d521308b",
   "metadata": {},
   "source": [
    "<center><h1 style=\"color=red\">Elastic Net Regression</h1>"
   ]
  },
  {
   "cell_type": "code",
   "execution_count": 151,
   "id": "a7920066",
   "metadata": {},
   "outputs": [],
   "source": [
    "from sklearn.linear_model import ElasticNet, ElasticNetCV"
   ]
  },
  {
   "cell_type": "code",
   "execution_count": 152,
   "id": "0f91066e",
   "metadata": {},
   "outputs": [
    {
     "data": {
      "text/plain": [
       "0.0012396742528170666"
      ]
     },
     "execution_count": 152,
     "metadata": {},
     "output_type": "execute_result"
    }
   ],
   "source": [
    "elastic_net_cv = ElasticNetCV(alphas = None, cv = 10, max_iter = 100000, normalize = True)\n",
    "elastic_net_cv.fit(x_train, y_train)\n",
    "ElasticNetCV(cv=10, max_iter=100000, normalize=True)\n",
    "alpha = elastic_net_cv.alpha_\n",
    "alpha"
   ]
  },
  {
   "cell_type": "code",
   "execution_count": 153,
   "id": "d8054792",
   "metadata": {},
   "outputs": [
    {
     "data": {
      "text/plain": [
       "0.24950852222313413"
      ]
     },
     "execution_count": 153,
     "metadata": {},
     "output_type": "execute_result"
    }
   ],
   "source": [
    "elastic_net = ElasticNet(alpha = elastic_net_cv.alpha_, l1_ratio = elastic_net_cv.l1_ratio)\n",
    "elastic_net.fit(x_train, y_train)\n",
    "ElasticNet(alpha=0.0012633825099956759)\n",
    "elastic_net.score(x_train, y_train)"
   ]
  },
  {
   "cell_type": "code",
   "execution_count": 154,
   "id": "0ede3c05",
   "metadata": {},
   "outputs": [
    {
     "data": {
      "text/plain": [
       "0.25160619383267147"
      ]
     },
     "execution_count": 154,
     "metadata": {},
     "output_type": "execute_result"
    }
   ],
   "source": [
    "elastic_net.score(x_test, y_test)"
   ]
  },
  {
   "cell_type": "code",
   "execution_count": 155,
   "id": "0697f7cb",
   "metadata": {},
   "outputs": [
    {
     "name": "stdout",
     "output_type": "stream",
     "text": [
      "0.2494631502408181\n"
     ]
    }
   ],
   "source": [
    "print(adj_r2(x_train, y_train, elastic_net))"
   ]
  },
  {
   "cell_type": "code",
   "execution_count": 156,
   "id": "6b0fc9ab",
   "metadata": {},
   "outputs": [
    {
     "name": "stdout",
     "output_type": "stream",
     "text": [
      "0.2515006141828765\n"
     ]
    }
   ],
   "source": [
    "print(adj_r2(x_test, y_test, elastic_net))"
   ]
  },
  {
   "cell_type": "markdown",
   "id": "c08b7b7b",
   "metadata": {},
   "source": [
    "<center><h1 style=\"color:brown\">Decision Tree Regression</h1>"
   ]
  },
  {
   "cell_type": "code",
   "execution_count": 157,
   "id": "3abfdda0",
   "metadata": {},
   "outputs": [],
   "source": [
    "from sklearn.tree import DecisionTreeRegressor\n"
   ]
  },
  {
   "cell_type": "code",
   "execution_count": 158,
   "id": "9e61e0f2",
   "metadata": {},
   "outputs": [],
   "source": [
    "model = DecisionTreeRegressor(random_state = 0)"
   ]
  },
  {
   "cell_type": "code",
   "execution_count": 159,
   "id": "88afcdff",
   "metadata": {},
   "outputs": [
    {
     "data": {
      "text/plain": [
       "DecisionTreeRegressor(random_state=0)"
      ]
     },
     "execution_count": 159,
     "metadata": {},
     "output_type": "execute_result"
    }
   ],
   "source": [
    "model.fit(x_train, y_train)"
   ]
  },
  {
   "cell_type": "code",
   "execution_count": 160,
   "id": "d346b416",
   "metadata": {},
   "outputs": [
    {
     "data": {
      "text/plain": [
       "DecisionTreeRegressor(random_state=0)"
      ]
     },
     "execution_count": 160,
     "metadata": {},
     "output_type": "execute_result"
    }
   ],
   "source": [
    "DecisionTreeRegressor(random_state=0)"
   ]
  },
  {
   "cell_type": "code",
   "execution_count": 161,
   "id": "c31dab06",
   "metadata": {},
   "outputs": [],
   "source": [
    "y_pred = model.predict(x_test)"
   ]
  },
  {
   "cell_type": "code",
   "execution_count": 162,
   "id": "c7e181fb",
   "metadata": {},
   "outputs": [
    {
     "data": {
      "text/plain": [
       "array([ 551. ,  652. , 1313. , ...,  484. ,  324.5,  343. ])"
      ]
     },
     "execution_count": 162,
     "metadata": {},
     "output_type": "execute_result"
    }
   ],
   "source": [
    "y_pred"
   ]
  },
  {
   "cell_type": "code",
   "execution_count": 163,
   "id": "00282611",
   "metadata": {},
   "outputs": [
    {
     "name": "stdout",
     "output_type": "stream",
     "text": [
      "\n",
      "RMSE: 368.688\n"
     ]
    }
   ],
   "source": [
    "from sklearn.metrics import mean_squared_error\n",
    "rmse = float(format(np.sqrt(mean_squared_error(y_test, y_pred)),'.3f'))\n",
    "print(\"\\nRMSE:\",rmse)"
   ]
  },
  {
   "cell_type": "code",
   "execution_count": 164,
   "id": "da6828e5",
   "metadata": {},
   "outputs": [
    {
     "data": {
      "text/plain": [
       "0.9537411106666487"
      ]
     },
     "execution_count": 164,
     "metadata": {},
     "output_type": "execute_result"
    }
   ],
   "source": [
    "model.score(x_train, y_train)"
   ]
  },
  {
   "cell_type": "code",
   "execution_count": 165,
   "id": "10435016",
   "metadata": {},
   "outputs": [
    {
     "data": {
      "text/plain": [
       "0.4857957164836426"
      ]
     },
     "execution_count": 165,
     "metadata": {},
     "output_type": "execute_result"
    }
   ],
   "source": [
    "model.score(x_test, y_test)"
   ]
  },
  {
   "cell_type": "markdown",
   "id": "9519f11f",
   "metadata": {},
   "source": [
    "<center><h1 style=\"color:brown\">Random Forest Regression</h1>"
   ]
  },
  {
   "cell_type": "code",
   "execution_count": 166,
   "id": "51417a75",
   "metadata": {},
   "outputs": [],
   "source": [
    "\n",
    "from sklearn.ensemble import RandomForestRegressor"
   ]
  },
  {
   "cell_type": "code",
   "execution_count": 167,
   "id": "5b4f4059",
   "metadata": {},
   "outputs": [],
   "source": [
    "rfg = RandomForestRegressor(n_estimators = 10, random_state = 0)"
   ]
  },
  {
   "cell_type": "code",
   "execution_count": 168,
   "id": "3607cf10",
   "metadata": {},
   "outputs": [
    {
     "data": {
      "text/plain": [
       "RandomForestRegressor(n_estimators=10, random_state=0)"
      ]
     },
     "execution_count": 168,
     "metadata": {},
     "output_type": "execute_result"
    }
   ],
   "source": [
    "rfg.fit(x_train, y_train)"
   ]
  },
  {
   "cell_type": "code",
   "execution_count": 169,
   "id": "e962f257",
   "metadata": {},
   "outputs": [
    {
     "data": {
      "text/plain": [
       "RandomForestRegressor(n_estimators=10, random_state=0)"
      ]
     },
     "execution_count": 169,
     "metadata": {},
     "output_type": "execute_result"
    }
   ],
   "source": [
    "RandomForestRegressor(n_estimators=10, random_state=0)"
   ]
  },
  {
   "cell_type": "code",
   "execution_count": 170,
   "id": "c0f79c31",
   "metadata": {},
   "outputs": [],
   "source": [
    "y_pred =rfg.predict(x_test)"
   ]
  },
  {
   "cell_type": "code",
   "execution_count": 171,
   "id": "ba5d0a27",
   "metadata": {},
   "outputs": [
    {
     "data": {
      "text/plain": [
       "0.9060740909884588"
      ]
     },
     "execution_count": 171,
     "metadata": {},
     "output_type": "execute_result"
    }
   ],
   "source": [
    "rfg.score(x_train, y_train)"
   ]
  },
  {
   "cell_type": "code",
   "execution_count": 172,
   "id": "aeded2f9",
   "metadata": {},
   "outputs": [
    {
     "data": {
      "text/plain": [
       "0.6466058314231427"
      ]
     },
     "execution_count": 172,
     "metadata": {},
     "output_type": "execute_result"
    }
   ],
   "source": [
    "rfg.score(x_test, y_test)"
   ]
  },
  {
   "cell_type": "markdown",
   "id": "8c241e6b",
   "metadata": {},
   "source": [
    "<center><h1 style=\"color:brown\">Super Vector Machine(SVM)</h1>"
   ]
  },
  {
   "cell_type": "code",
   "execution_count": 173,
   "id": "e7b2e25d",
   "metadata": {},
   "outputs": [],
   "source": [
    "from sklearn.svm import LinearSVR"
   ]
  },
  {
   "cell_type": "code",
   "execution_count": 174,
   "id": "5cc30a55",
   "metadata": {},
   "outputs": [],
   "source": [
    "from sklearn.metrics import mean_absolute_error"
   ]
  },
  {
   "cell_type": "code",
   "execution_count": 175,
   "id": "b23f2575",
   "metadata": {},
   "outputs": [],
   "source": [
    "svm_model = LinearSVR()"
   ]
  },
  {
   "cell_type": "code",
   "execution_count": 176,
   "id": "94bb3206",
   "metadata": {},
   "outputs": [
    {
     "data": {
      "text/plain": [
       "LinearSVR()"
      ]
     },
     "execution_count": 176,
     "metadata": {},
     "output_type": "execute_result"
    }
   ],
   "source": [
    "svm_model.fit(x_train, y_train)"
   ]
  },
  {
   "cell_type": "code",
   "execution_count": 177,
   "id": "e3133586",
   "metadata": {},
   "outputs": [],
   "source": [
    "predicted_svm = svm_model.predict(x_test)"
   ]
  },
  {
   "cell_type": "code",
   "execution_count": 178,
   "id": "a8c70f2f",
   "metadata": {},
   "outputs": [
    {
     "data": {
      "text/plain": [
       "0.06875327616754356"
      ]
     },
     "execution_count": 178,
     "metadata": {},
     "output_type": "execute_result"
    }
   ],
   "source": [
    "svm_model.score(x_train, y_train)"
   ]
  },
  {
   "cell_type": "code",
   "execution_count": 179,
   "id": "13ba15a2",
   "metadata": {},
   "outputs": [
    {
     "data": {
      "text/plain": [
       "0.06704143491368453"
      ]
     },
     "execution_count": 179,
     "metadata": {},
     "output_type": "execute_result"
    }
   ],
   "source": [
    "svm_model.score(x_test, y_test)"
   ]
  },
  {
   "cell_type": "code",
   "execution_count": 180,
   "id": "40648018",
   "metadata": {},
   "outputs": [
    {
     "name": "stdout",
     "output_type": "stream",
     "text": [
      "Mean Absolute Error using SVM: 378.01121108621834\n"
     ]
    }
   ],
   "source": [
    "print(\"Mean Absolute Error using SVM:\", mean_absolute_error(y_test, predicted_svm))"
   ]
  },
  {
   "cell_type": "code",
   "execution_count": null,
   "id": "df8eaf53",
   "metadata": {},
   "outputs": [],
   "source": []
  },
  {
   "cell_type": "markdown",
   "id": "9c925518",
   "metadata": {},
   "source": [
    "<center><h1 style=\"color:brown\">KNN Regression</h1>"
   ]
  },
  {
   "cell_type": "code",
   "execution_count": 181,
   "id": "5889402a",
   "metadata": {},
   "outputs": [],
   "source": [
    "\n",
    "from sklearn.neighbors import KNeighborsRegressor"
   ]
  },
  {
   "cell_type": "code",
   "execution_count": 182,
   "id": "bde7c451",
   "metadata": {},
   "outputs": [],
   "source": [
    "knn_model = KNeighborsRegressor()"
   ]
  },
  {
   "cell_type": "code",
   "execution_count": 183,
   "id": "ac54baac",
   "metadata": {},
   "outputs": [
    {
     "data": {
      "text/plain": [
       "KNeighborsRegressor()"
      ]
     },
     "execution_count": 183,
     "metadata": {},
     "output_type": "execute_result"
    }
   ],
   "source": [
    "knn_model.fit(x_train, y_train)"
   ]
  },
  {
   "cell_type": "code",
   "execution_count": 184,
   "id": "50c3ba1b",
   "metadata": {},
   "outputs": [],
   "source": [
    "predicted_knn = knn_model.predict(x_test)"
   ]
  },
  {
   "cell_type": "code",
   "execution_count": 185,
   "id": "57537477",
   "metadata": {},
   "outputs": [
    {
     "name": "stdout",
     "output_type": "stream",
     "text": [
      "Mean Absolute Error using KNN Regression: 242.23822112962705\n"
     ]
    }
   ],
   "source": [
    "print(\"Mean Absolute Error using KNN Regression:\", mean_absolute_error(y_test, predicted_knn))"
   ]
  },
  {
   "cell_type": "code",
   "execution_count": 186,
   "id": "55921777",
   "metadata": {},
   "outputs": [
    {
     "data": {
      "text/plain": [
       "0.6560530877055153"
      ]
     },
     "execution_count": 186,
     "metadata": {},
     "output_type": "execute_result"
    }
   ],
   "source": [
    "knn_model.score(x_train, y_train)"
   ]
  },
  {
   "cell_type": "code",
   "execution_count": 187,
   "id": "1d723e2d",
   "metadata": {},
   "outputs": [
    {
     "data": {
      "text/plain": [
       "0.4749981240874782"
      ]
     },
     "execution_count": 187,
     "metadata": {},
     "output_type": "execute_result"
    }
   ],
   "source": [
    "knn_model.score(x_test, y_test)"
   ]
  },
  {
   "cell_type": "code",
   "execution_count": null,
   "id": "d32218bf",
   "metadata": {},
   "outputs": [],
   "source": []
  },
  {
   "cell_type": "markdown",
   "id": "ad659578",
   "metadata": {},
   "source": [
    "## conclusion:"
   ]
  },
  {
   "cell_type": "markdown",
   "id": "4a5f96af",
   "metadata": {},
   "source": [
    " project aim: our main aim of the project is to predict the house rent based on \"ATTRIBUTES\" like ... city,deposit ₹,bedrooms,bathrooms,sqr_ft,area. "
   ]
  },
  {
   "cell_type": "markdown",
   "id": "9d0fc11b",
   "metadata": {},
   "source": [
    "By applying above regression models,we came to know that 'RANDOM FOREST' has good score(0.64) in prediction."
   ]
  },
  {
   "cell_type": "code",
   "execution_count": null,
   "id": "32732f8e",
   "metadata": {},
   "outputs": [],
   "source": []
  }
 ],
 "metadata": {
  "kernelspec": {
   "display_name": "Python 3 (ipykernel)",
   "language": "python",
   "name": "python3"
  },
  "language_info": {
   "codemirror_mode": {
    "name": "ipython",
    "version": 3
   },
   "file_extension": ".py",
   "mimetype": "text/x-python",
   "name": "python",
   "nbconvert_exporter": "python",
   "pygments_lexer": "ipython3",
   "version": "3.9.12"
  }
 },
 "nbformat": 4,
 "nbformat_minor": 5
}
